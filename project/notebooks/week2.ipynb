{
 "cells": [
  {
   "cell_type": "markdown",
   "id": "519f4790-aaaa-42ca-9370-186209e65c4a",
   "metadata": {},
   "source": [
    "<h1> Set-up </h1>"
   ]
  },
  {
   "cell_type": "code",
   "execution_count": 1,
   "id": "b111544d-f027-4cee-a28b-104400d3458b",
   "metadata": {},
   "outputs": [],
   "source": [
    "import os\n",
    "import sys\n",
    "import json\n",
    "import openai\n",
    "from langchain.tools import tool\n",
    "from pydantic.v1 import BaseModel, Field\n",
    "from IPython.display import display, HTML\n",
    "from langchain.chat_models import ChatOpenAI\n",
    "from langchain.schema.agent import AgentFinish\n",
    "from langchain.prompts import ChatPromptTemplate\n",
    "from langchain.prompts import MessagesPlaceholder\n",
    "from langchain.agents.format_scratchpad import format_to_openai_functions\n",
    "from langchain.agents.output_parsers import OpenAIFunctionsAgentOutputParser\n",
    "from langchain_core.utils.function_calling import convert_to_openai_function\n",
    "from langchain.agents.output_parsers.openai_tools import OpenAIToolsAgentOutputParser\n",
    "sys.path.append('../..')"
   ]
  },
  {
   "cell_type": "code",
   "execution_count": 2,
   "id": "1aee55bf-97c3-482f-82b0-5e8ee8875957",
   "metadata": {},
   "outputs": [],
   "source": [
    "# Setting your personal OPENAI Api Key\n",
    "openai.api_key = os.environ['OPENAI_API_KEY']"
   ]
  },
  {
   "cell_type": "markdown",
   "id": "5ab0c62f-dbfe-4e50-8ea3-0b959df9be5a",
   "metadata": {},
   "source": [
    "<h1> Initializing Tools </h1>"
   ]
  },
  {
   "cell_type": "code",
   "execution_count": 3,
   "id": "d3e29423-eda9-46de-a53e-e792939e4270",
   "metadata": {},
   "outputs": [],
   "source": [
    "class Design_logo_input(BaseModel):\n",
    "    topic: str = Field(..., description=\"The topic for which the logo should be designed for. For example, if the topic were 'ice-cream shop' then the logo returned would be a logo fit for the ice-cream shop to put on their sign and merchandise.\")\n",
    "\n",
    "@tool(args_schema=Design_logo_input)\n",
    "def design_logo_concepts(topic: str) -> str:\n",
    "    \"\"\"Returns the url for a logo design that is based on the provided topic\"\"\"\n",
    "    # Currently a very empty function\n",
    "    return f\"s3://designs/logo_{len(topic)%5+1}.jpg\""
   ]
  },
  {
   "cell_type": "code",
   "execution_count": 4,
   "id": "5adfdc74-9ef8-412c-b726-7af14234d593",
   "metadata": {},
   "outputs": [],
   "source": [
    "class UI_Output_Request(BaseModel):\n",
    "    inpt: str = Field(... , description=f\"A description of the UI function you want and how you would call it along with the arguments you would use\")\n",
    "\n",
    "@tool(args_schema=UI_Output_Request)\n",
    "def ui_output_request(inpt: str) -> str:\n",
    "    \"\"\"Provides a convenient way for you to describe what UI function you want and what to call it with without actually calling a UI function.\"\"\"\n",
    "    return inpt"
   ]
  },
  {
   "cell_type": "code",
   "execution_count": 5,
   "id": "b6df5894-28d6-42d8-8de8-91c494fcc61b",
   "metadata": {},
   "outputs": [],
   "source": [
    "class Product_UI_input(BaseModel):\n",
    "    path: str = Field(... , description=f\"The path of the image for the UI page. If no image is wanted or required provide an empty string.\")\n",
    "\n",
    "@tool(args_schema=Product_UI_input)\n",
    "def produce_image_UI(path: str) -> str:\n",
    "    \"\"\"This is a UI function. Produces the JSON for a general UI page about an image.\"\"\"\n",
    "    data = {\"component\":\"Image\", \"props\":{\"url\":path}}\n",
    "    return  json.dumps(data)            "
   ]
  },
  {
   "cell_type": "markdown",
   "id": "9b00a3ae-4268-4fcf-88e7-f9119fd623a9",
   "metadata": {},
   "source": [
    "<h1> Registering Tools </h1>"
   ]
  },
  {
   "cell_type": "code",
   "execution_count": 6,
   "id": "65107d1d-f7f7-4083-8b05-267b22cfa3bf",
   "metadata": {},
   "outputs": [],
   "source": [
    "tools = [design_logo_concepts]\n",
    "functions = [convert_to_openai_function(f) for f in tools]"
   ]
  },
  {
   "cell_type": "code",
   "execution_count": 7,
   "id": "bca7ea53-d733-4b40-af92-96384dce51eb",
   "metadata": {},
   "outputs": [],
   "source": [
    "ui_tools = [produce_image_UI]\n",
    "ui_functions = [convert_to_openai_function(f) for f in ui_tools]"
   ]
  },
  {
   "cell_type": "code",
   "execution_count": 8,
   "id": "7255906a-a58d-452c-af65-e15256faece9",
   "metadata": {},
   "outputs": [],
   "source": [
    "tool_dictionary = {\n",
    "        \"design_logo_concepts\": design_logo_concepts\n",
    "    }"
   ]
  },
  {
   "cell_type": "code",
   "execution_count": 9,
   "id": "f8116cde-8dcf-435a-86e6-aa3f706accd2",
   "metadata": {},
   "outputs": [],
   "source": [
    "ui_tool_dictionary = {\n",
    "    \"produce_image_UI\": produce_image_UI\n",
    "}"
   ]
  },
  {
   "cell_type": "markdown",
   "id": "53b705b4-7e85-4f76-ae8f-7f9e9177298f",
   "metadata": {},
   "source": [
    "<h1> Setting up LLM Prompts </h1>"
   ]
  },
  {
   "cell_type": "code",
   "execution_count": 10,
   "id": "273b5488-214c-4ece-bdb8-1af2317310b9",
   "metadata": {},
   "outputs": [],
   "source": [
    "agent_system_message = \"You are helpful assistant.\""
   ]
  },
  {
   "cell_type": "code",
   "execution_count": 53,
   "id": "c5cea0ea-cc8b-4991-9048-9d8a10963208",
   "metadata": {},
   "outputs": [],
   "source": [
    "cognitivie_ui_instruction_I = \"\"\"Based on the Chat History, think step by step. \n",
    "    What does the user want based on Chat history?\n",
    "    Answer (No) if you think the responses should not be an HTML page.\n",
    "    Now, if you think the responses should be an HTML page, what should be on the HTML page?\n",
    "    Do you have enough information already based on the chat history?\n",
    "    Answer (Yes) if you think Chat History has every information you need to generate the HTML page. \n",
    "    Answer (More) if you think you need more information from the user.\n",
    "    Answer should only be No, Yes or More.\"\"\""
   ]
  },
  {
   "cell_type": "code",
   "execution_count": 12,
   "id": "c3489a20-a28c-4615-b06e-5f7d1aa5c50e",
   "metadata": {},
   "outputs": [],
   "source": [
    "cognitive_ui_instruction_UI = \"Your task is to choose a function from the available options that best matches your ideal UI page\" +\\\n",
    "    \" that will serve as output for information from the scratch pad. Return a function call to it with the appropriate arguments\" +\\\n",
    "    \" and nothing else.\""
   ]
  },
  {
   "cell_type": "code",
   "execution_count": 50,
   "id": "d9258b82-889b-495b-b8f7-74f2628a39cd",
   "metadata": {},
   "outputs": [],
   "source": [
    "cognitive_ui_instruction_html = \"\"\"Your task is to generate HTML code based on instructions from the (HumanMessage) in chat history. \n",
    "    Produce fully functioning and standalone HTML code using information in the agent_scratchpad and chat history (only). \n",
    "    (No) make up information that is not in the agent_scratchpad and chat history. \n",
    "    ((Output only the HTML code and nothing else)). Output Your HTML starting now:\"\"\"\n"
   ]
  },
  {
   "cell_type": "code",
   "execution_count": 14,
   "id": "62d46805-caf9-44ae-ba2c-942ae5992355",
   "metadata": {},
   "outputs": [],
   "source": [
    "cognitive_ui_instruction_more_info = \"\"\"Based on chat history, think step by step.\n",
    "    What should be on the HTML page based on the user's need?\n",
    "    Do you already have the information?\n",
    "    if not, ask user one question so that you can get the information you want to put on the HTML page.\n",
    "    Output only the question you want to ask.\"\"\""
   ]
  },
  {
   "cell_type": "code",
   "execution_count": 15,
   "id": "6d326449-4f28-487c-b6ed-f4bd9bc09833",
   "metadata": {},
   "outputs": [],
   "source": [
    "cognitive_ui_instruction_text = \"Answer what is in the scratchpad. Do not comment on this instruction.\""
   ]
  },
  {
   "cell_type": "markdown",
   "id": "26f9b88d-89d8-45ed-9cf1-5249c0e028af",
   "metadata": {},
   "source": [
    "<h1> Initializing Chains + Agent </h1>"
   ]
  },
  {
   "cell_type": "code",
   "execution_count": 16,
   "id": "4f7b33ba-2f41-4dc7-9b9e-b674a48927b8",
   "metadata": {},
   "outputs": [],
   "source": [
    "gpt_version = \"gpt-3.5-turbo\""
   ]
  },
  {
   "cell_type": "code",
   "execution_count": 17,
   "id": "70348d46-1b2e-4217-8ed1-f7b83b6d0ab9",
   "metadata": {},
   "outputs": [
    {
     "name": "stderr",
     "output_type": "stream",
     "text": [
      "/opt/conda/lib/python3.11/site-packages/langchain_core/_api/deprecation.py:117: LangChainDeprecationWarning: The class `langchain_community.chat_models.openai.ChatOpenAI` was deprecated in langchain-community 0.0.10 and will be removed in 0.2.0. An updated version of the class exists in the langchain-openai package and should be used instead. To use it run `pip install -U langchain-openai` and import as `from langchain_openai import ChatOpenAI`.\n",
      "  warn_deprecated(\n"
     ]
    }
   ],
   "source": [
    "init_prompt_model = ChatOpenAI(model_name= gpt_version, temperature=0).bind(functions=functions)\n",
    "cognitive_ui_model = ChatOpenAI(model_name=gpt_version, temperature=0).bind(functions=ui_functions)\n",
    "no_func_model = ChatOpenAI(model_name=gpt_version, temperature=0)"
   ]
  },
  {
   "cell_type": "code",
   "execution_count": 18,
   "id": "227d1eda-1ff8-464e-98ef-ddd336d5a70d",
   "metadata": {},
   "outputs": [],
   "source": [
    "MEMORY_KEY = \"chat_history\"\n",
    "from langchain_core.messages import AIMessage, HumanMessage\n",
    "chat_history = []\n",
    "\n",
    "prompt = ChatPromptTemplate.from_messages([\n",
    "    (\"system\", agent_system_message),\n",
    "    MessagesPlaceholder(variable_name=MEMORY_KEY),\n",
    "    (\"user\", \"{input}\"),\n",
    "    MessagesPlaceholder(variable_name=\"agent_scratchpad\")\n",
    "])"
   ]
  },
  {
   "cell_type": "code",
   "execution_count": 19,
   "id": "9f3a640b-3374-438f-b88a-420c363bfc0c",
   "metadata": {},
   "outputs": [],
   "source": [
    "init_prompt_chain = prompt | init_prompt_model | OpenAIFunctionsAgentOutputParser()\n",
    "cognitivie_ui_chain =  prompt | cognitive_ui_model | OpenAIFunctionsAgentOutputParser()\n",
    "no_func_chain = prompt | no_func_model | OpenAIFunctionsAgentOutputParser()"
   ]
  },
  {
   "cell_type": "markdown",
   "id": "7d890c8a-e627-4d97-b212-cb42ecddda03",
   "metadata": {},
   "source": [
    "<h1> UI Output Generators </h1>"
   ]
  },
  {
   "cell_type": "code",
   "execution_count": 20,
   "id": "8ca07222-4008-47e5-b601-6679c0f301b3",
   "metadata": {},
   "outputs": [],
   "source": [
    "def produce_ui_output(user_input, intermediate_steps):\n",
    "    result = cognitivie_ui_chain.invoke({\n",
    "        \"input\": cognitive_ui_instruction_UI,\n",
    "        \"agent_scratchpad\": format_to_openai_functions(intermediate_steps),\n",
    "        \"chat_history\": chat_history,\n",
    "    })\n",
    "    \n",
    "    tool = ui_tool_dictionary[result.tool]\n",
    "    observation = tool.run(result.tool_input)\n",
    "    return observation"
   ]
  },
  {
   "cell_type": "code",
   "execution_count": 21,
   "id": "128e76d3-54d8-47d4-9b92-0a023072a10f",
   "metadata": {},
   "outputs": [],
   "source": [
    "def produce_html(user_input, intermediate_steps):\n",
    "    result = no_func_chain.invoke({\n",
    "        \"input\": cognitive_ui_instruction_html,\n",
    "        \"agent_scratchpad\": format_to_openai_functions(intermediate_steps),\n",
    "        \"chat_history\": chat_history,\n",
    "    })\n",
    "    \n",
    "    return result"
   ]
  },
  {
   "cell_type": "markdown",
   "id": "5563a57b-c09a-460e-9f19-ccccee19178e",
   "metadata": {},
   "source": [
    "<h1> Agent Runnable </h1>"
   ]
  },
  {
   "cell_type": "code",
   "execution_count": 22,
   "id": "10d03ead-af68-436d-a668-2077b5225b3a",
   "metadata": {},
   "outputs": [],
   "source": [
    "def run_agent(user_input, ui_producer=produce_ui_output):\n",
    "    \"\"\"\n",
    "    Runs the UI agent which will return a tuple of (LLM Response, Is it calling a UI Function)\n",
    "    \"\"\"\n",
    "    intermediate_steps = []\n",
    "    #chat_history=[]\n",
    "    result = init_prompt_chain.invoke({\n",
    "        \"input\": user_input,\n",
    "        \"agent_scratchpad\": format_to_openai_functions(intermediate_steps),\n",
    "        \"chat_history\": chat_history,\n",
    "    })\n",
    "    chat_history.extend(\n",
    "        [\n",
    "            HumanMessage(content=user_input),\n",
    "        ]\n",
    "    )\n",
    "    # Are we calling the functions?\n",
    "    if not isinstance(result, AgentFinish):\n",
    "        # Run first non-UI function\n",
    "        tool = tool_dictionary[result.tool]\n",
    "        observation = tool.run(result.tool_input)\n",
    "        intermediate_steps.append((result, observation))\n",
    "    # Cognitive UI Steps\n",
    "    result = no_func_chain.invoke({\n",
    "        \"input\": cognitivie_ui_instruction_I + user_input,\n",
    "        \"agent_scratchpad\": [],\n",
    "        \"chat_history\": chat_history,\n",
    "    })\n",
    "    print(result)\n",
    "    if result.log.lower() == \"yes\":\n",
    "        return ui_producer(user_input, intermediate_steps), True\n",
    "    elif result.log.lower() == \"more\":\n",
    "        result = no_func_chain.invoke({\n",
    "            \"input\": cognitive_ui_instruction_more_info,\n",
    "            \"agent_scratchpad\": [],\n",
    "            \"chat_history\": chat_history,\n",
    "        })\n",
    "        return result, True\n",
    "    else:\n",
    "        result = no_func_chain.invoke({\n",
    "            \"input\": cognitive_ui_instruction_text,\n",
    "            \"agent_scratchpad\": [],\n",
    "            \"chat_history\": chat_history,\n",
    "        })\n",
    "        return result, False\n",
    "        "
   ]
  },
  {
   "cell_type": "markdown",
   "id": "4de3dff9-4686-4583-8ddb-0ba12b9548bf",
   "metadata": {},
   "source": [
    "<h1>TEST HTML</h1>"
   ]
  },
  {
   "cell_type": "code",
   "execution_count": 37,
   "id": "ab110720-abfa-4e06-9b5a-bfceeda77360",
   "metadata": {},
   "outputs": [
    {
     "name": "stdout",
     "output_type": "stream",
     "text": [
      "return_values={'output': 'More'} log='More'\n"
     ]
    },
    {
     "data": {
      "text/plain": [
       "'What text or symbol would you like to be included in the big red logo design?'"
      ]
     },
     "execution_count": 37,
     "metadata": {},
     "output_type": "execute_result"
    }
   ],
   "source": [
    "#html_code = run_agent(\"Design me a big red logo\", produce_html)[0].return_values[\"output\"]\n",
    "#display(HTML(html_code))\n",
    "re = run_agent(\"Design me a big red logo\", produce_html)[0].log\n",
    "re"
   ]
  },
  {
   "cell_type": "code",
   "execution_count": 38,
   "id": "1a61ac64-4038-4b82-ad1d-36d95be50809",
   "metadata": {},
   "outputs": [
    {
     "data": {
      "text/plain": [
       "[HumanMessage(content='Design me a big red logo')]"
      ]
     },
     "execution_count": 38,
     "metadata": {},
     "output_type": "execute_result"
    }
   ],
   "source": [
    "chat_history"
   ]
  },
  {
   "cell_type": "code",
   "execution_count": 39,
   "id": "fc4af2d3-0bd7-4fe4-b8a5-ea3d714d9b93",
   "metadata": {},
   "outputs": [
    {
     "name": "stdout",
     "output_type": "stream",
     "text": [
      "return_values={'output': 'More'} log='More'\n"
     ]
    },
    {
     "data": {
      "text/plain": [
       "'What text or slogan would you like to include in the logo design?'"
      ]
     },
     "execution_count": 39,
     "metadata": {},
     "output_type": "execute_result"
    }
   ],
   "source": [
    "re = run_agent(\"I need a red bear.\", produce_html)[0].log\n",
    "re"
   ]
  },
  {
   "cell_type": "code",
   "execution_count": 40,
   "id": "47cd688a-ed81-4962-b5de-0cb099be734d",
   "metadata": {},
   "outputs": [
    {
     "name": "stdout",
     "output_type": "stream",
     "text": [
      "return_values={'output': 'Yes'} log='Yes'\n"
     ]
    },
    {
     "data": {
      "text/plain": [
       "'```html\\n<!DOCTYPE html>\\n<html lang=\"en\">\\n<head>\\n<meta charset=\"UTF-8\">\\n<meta name=\"viewport\" content=\"width=device-width, initial-scale=1.0\">\\n<title>Red Bear Logo</title>\\n<style>\\n    body {\\n        background-color: white;\\n        text-align: center;\\n    }\\n    img {\\n        max-width: 100%;\\n        height: auto;\\n    }\\n</style>\\n</head>\\n<body>\\n    <img src=\"s3://designs/logo_4.jpg\" alt=\"Red Bear Logo\">\\n</body>\\n</html>\\n```'"
      ]
     },
     "execution_count": 40,
     "metadata": {},
     "output_type": "execute_result"
    }
   ],
   "source": [
    "re = run_agent(\"No text on the logo.\", produce_html)[0].log\n",
    "re"
   ]
  },
  {
   "cell_type": "code",
   "execution_count": 35,
   "id": "f66d6cb0-fcd9-423c-b3cb-afd9a653a5c7",
   "metadata": {},
   "outputs": [
    {
     "data": {
      "text/plain": [
       "[HumanMessage(content='Design me a big red logo'),\n",
       " HumanMessage(content='I need a red bear.'),\n",
       " HumanMessage(content='No text.')]"
      ]
     },
     "execution_count": 35,
     "metadata": {},
     "output_type": "execute_result"
    }
   ],
   "source": [
    "chat_history"
   ]
  },
  {
   "cell_type": "code",
   "execution_count": 27,
   "id": "39c1d286-c220-4769-967c-b522aff42e52",
   "metadata": {},
   "outputs": [],
   "source": [
    "#display(HTML(re))"
   ]
  },
  {
   "cell_type": "code",
   "execution_count": 41,
   "id": "82b25b43-4275-4a7a-a2b8-47d4a2e26919",
   "metadata": {},
   "outputs": [
    {
     "data": {
      "text/html": [],
      "text/plain": [
       "<IPython.core.display.HTML object>"
      ]
     },
     "metadata": {},
     "output_type": "display_data"
    }
   ],
   "source": [
    "display(HTML(''))"
   ]
  },
  {
   "cell_type": "code",
   "execution_count": 66,
   "id": "0a205a88-2a24-4cfa-9b91-603d598d5ee0",
   "metadata": {},
   "outputs": [],
   "source": [
    "chat_history=[]"
   ]
  },
  {
   "cell_type": "code",
   "execution_count": 67,
   "id": "4d14cb7e-a003-415e-937f-18163ccb64c2",
   "metadata": {},
   "outputs": [
    {
     "name": "stdout",
     "output_type": "stream",
     "text": [
      "return_values={'output': 'More'} log='More'\n"
     ]
    },
    {
     "data": {
      "text/plain": [
       "'What is your full name?'"
      ]
     },
     "execution_count": 67,
     "metadata": {},
     "output_type": "execute_result"
    }
   ],
   "source": [
    "user_input = \"\"\"I want a Resume.\"\"\"\n",
    "re = run_agent(user_input, produce_html)[0].log\n",
    "re\n",
    "#display(HTML(html_code))"
   ]
  },
  {
   "cell_type": "code",
   "execution_count": 68,
   "id": "06468c1a-fb6d-4788-a6c3-030cdb93a1f3",
   "metadata": {},
   "outputs": [
    {
     "data": {
      "text/plain": [
       "[HumanMessage(content='I want a Resume.')]"
      ]
     },
     "execution_count": 68,
     "metadata": {},
     "output_type": "execute_result"
    }
   ],
   "source": [
    "chat_history"
   ]
  },
  {
   "cell_type": "code",
   "execution_count": 69,
   "id": "c2f03998-69ee-49f7-89c3-dbf0505167ce",
   "metadata": {},
   "outputs": [
    {
     "name": "stdout",
     "output_type": "stream",
     "text": [
      "return_values={'output': 'More'} log='More'\n"
     ]
    },
    {
     "data": {
      "text/plain": [
       "'What is your professional background and work experience that you would like to include in your resume?'"
      ]
     },
     "execution_count": 69,
     "metadata": {},
     "output_type": "execute_result"
    }
   ],
   "source": [
    "user_input = \"\"\"I am Yeo Zheng.\"\"\"\n",
    "re = run_agent(user_input, produce_html)[0].log\n",
    "re"
   ]
  },
  {
   "cell_type": "code",
   "execution_count": 70,
   "id": "6f18dee1-08b5-43fb-99cf-4939d64b85ef",
   "metadata": {},
   "outputs": [
    {
     "name": "stdout",
     "output_type": "stream",
     "text": [
      "return_values={'output': 'Yes'} log='Yes'\n"
     ]
    },
    {
     "data": {
      "text/plain": [
       "'```html\\n<!DOCTYPE html>\\n<html lang=\"en\">\\n\\n<head>\\n    <meta charset=\"UTF-8\">\\n    <meta http-equiv=\"X-UA-Compatible\" content=\"IE=edge\">\\n    <meta name=\"viewport\" content=\"width=device-width, initial-scale=1.0\">\\n    <title>Yeo Zheng\\'s Resume</title>\\n    <style>\\n        body {\\n            font-family: Arial, sans-serif;\\n            margin: 0;\\n            padding: 0;\\n            background-color: #f4f4f4;\\n        }\\n\\n        .container {\\n            max-width: 800px;\\n            margin: 20px auto;\\n            padding: 20px;\\n            background-color: #fff;\\n            border-radius: 5px;\\n            box-shadow: 0 2px 5px rgba(0, 0, 0, 0.1);\\n        }\\n\\n        h1,\\n        h2,\\n        p {\\n            margin: 0;\\n        }\\n\\n        .education,\\n        .experience {\\n            margin-bottom: 20px;\\n        }\\n\\n        .education h2,\\n        .experience h2 {\\n            color: #333;\\n            border-bottom: 2px solid #333;\\n            padding-bottom: 5px;\\n            margin-bottom: 10px;\\n        }\\n    </style>\\n</head>\\n\\n<body>\\n    <div class=\"container\">\\n        <h1>Yeo Zheng</h1>\\n        <div class=\"education\">\\n            <h2>Education</h2>\\n            <p><strong>Cornell University</strong> - MEng in Computer Science (2023-2024)</p>\\n        </div>\\n        <div class=\"experience\">\\n            <h2>Experience</h2>\\n            <p><strong>GEN AI Lab</strong> - 2023-2024</p>\\n            <p>Position: [Your Position]</p>\\n            <p>Description: [Brief Description of your experience]</p>\\n        </div>\\n    </div>\\n</body>\\n\\n</html>\\n```'"
      ]
     },
     "execution_count": 70,
     "metadata": {},
     "output_type": "execute_result"
    }
   ],
   "source": [
    "user_input = \"\"\"I am an MEng Student at Cornell University from 2023 to 2024. I studied Computer Science as my major. I also worked\n",
    "                at GEN AI lab from 2023 to 2024. It was a great experience.\"\"\"\n",
    "re = run_agent(user_input, produce_html)[0].log\n",
    "re"
   ]
  },
  {
   "cell_type": "code",
   "execution_count": 71,
   "id": "0f32f196-d4e1-49a1-a08a-6ba419f7713d",
   "metadata": {},
   "outputs": [
    {
     "data": {
      "text/html": [
       "```html\n",
       "<!DOCTYPE html>\n",
       "<html lang=\"en\">\n",
       "\n",
       "<head>\n",
       "    <meta charset=\"UTF-8\">\n",
       "    <meta http-equiv=\"X-UA-Compatible\" content=\"IE=edge\">\n",
       "    <meta name=\"viewport\" content=\"width=device-width, initial-scale=1.0\">\n",
       "    <title>Yeo Zheng's Resume</title>\n",
       "    <style>\n",
       "        body {\n",
       "            font-family: Arial, sans-serif;\n",
       "            margin: 0;\n",
       "            padding: 0;\n",
       "            background-color: #f4f4f4;\n",
       "        }\n",
       "\n",
       "        .container {\n",
       "            max-width: 800px;\n",
       "            margin: 20px auto;\n",
       "            padding: 20px;\n",
       "            background-color: #fff;\n",
       "            border-radius: 5px;\n",
       "            box-shadow: 0 2px 5px rgba(0, 0, 0, 0.1);\n",
       "        }\n",
       "\n",
       "        h1,\n",
       "        h2,\n",
       "        p {\n",
       "            margin: 0;\n",
       "        }\n",
       "\n",
       "        .education,\n",
       "        .experience {\n",
       "            margin-bottom: 20px;\n",
       "        }\n",
       "\n",
       "        .education h2,\n",
       "        .experience h2 {\n",
       "            color: #333;\n",
       "            border-bottom: 2px solid #333;\n",
       "            padding-bottom: 5px;\n",
       "            margin-bottom: 10px;\n",
       "        }\n",
       "    </style>\n",
       "</head>\n",
       "\n",
       "<body>\n",
       "    <div class=\"container\">\n",
       "        <h1>Yeo Zheng</h1>\n",
       "        <div class=\"education\">\n",
       "            <h2>Education</h2>\n",
       "            <p><strong>Cornell University</strong> - MEng in Computer Science (2023-2024)</p>\n",
       "        </div>\n",
       "        <div class=\"experience\">\n",
       "            <h2>Experience</h2>\n",
       "            <p><strong>GEN AI Lab</strong> - 2023-2024</p>\n",
       "            <p>Position: [Your Position]</p>\n",
       "            <p>Description: [Brief Description of your experience]</p>\n",
       "        </div>\n",
       "    </div>\n",
       "</body>\n",
       "\n",
       "</html>\n",
       "```"
      ],
      "text/plain": [
       "<IPython.core.display.HTML object>"
      ]
     },
     "metadata": {},
     "output_type": "display_data"
    }
   ],
   "source": [
    "display(HTML(re))"
   ]
  },
  {
   "cell_type": "code",
   "execution_count": 72,
   "id": "74eee5c8-a96d-4780-82a8-587bf2f6c9c2",
   "metadata": {},
   "outputs": [
    {
     "name": "stdout",
     "output_type": "stream",
     "text": [
      "return_values={'output': 'More'} log='More'\n"
     ]
    },
    {
     "data": {
      "text/plain": [
       "'What are some key skills or accomplishments you would like to include on your resume?'"
      ]
     },
     "execution_count": 72,
     "metadata": {},
     "output_type": "execute_result"
    }
   ],
   "source": [
    "user_input = \"\"\"My position at GenAI lab is a ML ops Enginner.\"\"\"\n",
    "re = run_agent(user_input, produce_html)[0].log\n",
    "re"
   ]
  },
  {
   "cell_type": "code",
   "execution_count": 73,
   "id": "937441d0-b460-40f6-a2ea-0797a1052950",
   "metadata": {},
   "outputs": [
    {
     "name": "stdout",
     "output_type": "stream",
     "text": [
      "return_values={'output': 'Yes'} log='Yes'\n"
     ]
    },
    {
     "data": {
      "text/plain": [
       "'```html\\n<!DOCTYPE html>\\n<html lang=\"en\">\\n\\n<head>\\n    <meta charset=\"UTF-8\">\\n    <meta http-equiv=\"X-UA-Compatible\" content=\"IE=edge\">\\n    <meta name=\"viewport\" content=\"width=device-width, initial-scale=1.0\">\\n    <title>Yeo Zheng\\'s Resume</title>\\n    <style>\\n        body {\\n            font-family: Arial, sans-serif;\\n            margin: 0;\\n            padding: 0;\\n            background-color: #f4f4f4;\\n        }\\n\\n        .container {\\n            max-width: 800px;\\n            margin: 20px auto;\\n            padding: 20px;\\n            background-color: #fff;\\n            border-radius: 5px;\\n            box-shadow: 0 2px 5px rgba(0, 0, 0, 0.1);\\n        }\\n\\n        h1 {\\n            text-align: center;\\n            color: #333;\\n        }\\n\\n        h2 {\\n            color: #555;\\n        }\\n\\n        p {\\n            color: #777;\\n        }\\n    </style>\\n</head>\\n\\n<body>\\n    <div class=\"container\">\\n        <h1>Yeo Zheng</h1>\\n        <h2>Education</h2>\\n        <p><strong>Cornell University</strong> - MEng in Computer Science (2023-2024)</p>\\n        <h2>Experience</h2>\\n        <p><strong>GenAI Lab</strong> - ML Ops Engineer (2023-2024)</p>\\n        <p>Worked on various machine learning operations tasks and projects.</p>\\n    </div>\\n</body>\\n\\n</html>\\n```'"
      ]
     },
     "execution_count": 73,
     "metadata": {},
     "output_type": "execute_result"
    }
   ],
   "source": [
    "user_input = \"\"\"I don't want anything else. This should be enough already.\"\"\"\n",
    "re = run_agent(user_input, produce_html)[0].log\n",
    "re"
   ]
  },
  {
   "cell_type": "code",
   "execution_count": 74,
   "id": "9103af44-a9de-4bb0-8925-4c3e09167e57",
   "metadata": {},
   "outputs": [
    {
     "data": {
      "text/html": [
       "```html\n",
       "<!DOCTYPE html>\n",
       "<html lang=\"en\">\n",
       "\n",
       "<head>\n",
       "    <meta charset=\"UTF-8\">\n",
       "    <meta http-equiv=\"X-UA-Compatible\" content=\"IE=edge\">\n",
       "    <meta name=\"viewport\" content=\"width=device-width, initial-scale=1.0\">\n",
       "    <title>Yeo Zheng's Resume</title>\n",
       "    <style>\n",
       "        body {\n",
       "            font-family: Arial, sans-serif;\n",
       "            margin: 0;\n",
       "            padding: 0;\n",
       "            background-color: #f4f4f4;\n",
       "        }\n",
       "\n",
       "        .container {\n",
       "            max-width: 800px;\n",
       "            margin: 20px auto;\n",
       "            padding: 20px;\n",
       "            background-color: #fff;\n",
       "            border-radius: 5px;\n",
       "            box-shadow: 0 2px 5px rgba(0, 0, 0, 0.1);\n",
       "        }\n",
       "\n",
       "        h1 {\n",
       "            text-align: center;\n",
       "            color: #333;\n",
       "        }\n",
       "\n",
       "        h2 {\n",
       "            color: #555;\n",
       "        }\n",
       "\n",
       "        p {\n",
       "            color: #777;\n",
       "        }\n",
       "    </style>\n",
       "</head>\n",
       "\n",
       "<body>\n",
       "    <div class=\"container\">\n",
       "        <h1>Yeo Zheng</h1>\n",
       "        <h2>Education</h2>\n",
       "        <p><strong>Cornell University</strong> - MEng in Computer Science (2023-2024)</p>\n",
       "        <h2>Experience</h2>\n",
       "        <p><strong>GenAI Lab</strong> - ML Ops Engineer (2023-2024)</p>\n",
       "        <p>Worked on various machine learning operations tasks and projects.</p>\n",
       "    </div>\n",
       "</body>\n",
       "\n",
       "</html>\n",
       "```"
      ],
      "text/plain": [
       "<IPython.core.display.HTML object>"
      ]
     },
     "metadata": {},
     "output_type": "display_data"
    }
   ],
   "source": [
    "display(HTML(re))"
   ]
  },
  {
   "cell_type": "markdown",
   "id": "f59a0dff-a032-4793-9541-f4545ca66d83",
   "metadata": {},
   "source": [
    "<h1>Conclusions</h1>"
   ]
  },
  {
   "cell_type": "raw",
   "id": "7ca32b43-62ee-46e7-8548-86b7692ff917",
   "metadata": {},
   "source": [
    "It is a bit hard to do the option 3. I added a chat history as memory and did some chain of thought prompt. It is much better with COT prompt. It is definitely possible to ask LLM directly. It still failes sometimes and probably need more prompt engineering. However, I found it is helpful to add requirements after ui is generated. It is hard to be exactly the same as the previous generated ui. I think it might be better with option 2. For example, we can generate an UI and parse it to find the location of the element. If user want to change anything, for example, revise an element, they can do it themselve. We can also keep generating new UI when asked and kept the old one. "
   ]
  },
  {
   "cell_type": "code",
   "execution_count": null,
   "id": "a7507d2e-9327-4bae-bbd5-c6c7aa11df5d",
   "metadata": {},
   "outputs": [],
   "source": []
  },
  {
   "cell_type": "code",
   "execution_count": null,
   "id": "068c1019-e385-4f70-a311-5636ba43399a",
   "metadata": {},
   "outputs": [],
   "source": []
  }
 ],
 "metadata": {
  "kernelspec": {
   "display_name": "Python 3 (ipykernel)",
   "language": "python",
   "name": "python3"
  },
  "language_info": {
   "codemirror_mode": {
    "name": "ipython",
    "version": 3
   },
   "file_extension": ".py",
   "mimetype": "text/x-python",
   "name": "python",
   "nbconvert_exporter": "python",
   "pygments_lexer": "ipython3",
   "version": "3.11.4"
  }
 },
 "nbformat": 4,
 "nbformat_minor": 5
}
