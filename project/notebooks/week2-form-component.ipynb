{
 "cells": [
  {
   "cell_type": "code",
   "execution_count": 57,
   "id": "13275343-af40-4cce-be4a-972dbdc26947",
   "metadata": {},
   "outputs": [],
   "source": [
    "import os\n",
    "import openai\n",
    "import sys\n",
    "import json\n",
    "import random\n",
    "from IPython.display import display, HTML\n",
    "sys.path.append('../..')"
   ]
  },
  {
   "cell_type": "code",
   "execution_count": 58,
   "id": "72e5ace5-6efe-4916-91c2-1525ede2e0b2",
   "metadata": {},
   "outputs": [],
   "source": [
    "openai.api_key = os.environ['OPENAI_API_KEY']"
   ]
  },
  {
   "cell_type": "markdown",
   "id": "275ee4d7-e202-4cca-8e70-5a566b52a407",
   "metadata": {},
   "source": [
    "## LangChain Imports"
   ]
  },
  {
   "cell_type": "code",
   "execution_count": 59,
   "id": "c95f23e3-b812-4411-9aac-1a5f7d246333",
   "metadata": {},
   "outputs": [],
   "source": [
    "from langchain_core.output_parsers import StrOutputParser\n",
    "from langchain.schema.runnable import RunnableMap\n",
    "\n",
    "# https://python.langchain.com/docs/modules/memory/adding_memory\n",
    "from langchain.chains import LLMChain\n",
    "from langchain.memory import ConversationBufferMemory\n",
    "from langchain.prompts import (\n",
    "    ChatPromptTemplate,\n",
    "    HumanMessagePromptTemplate,\n",
    "    MessagesPlaceholder,\n",
    ")\n",
    "from langchain.schema import SystemMessage\n",
    "from langchain_openai import ChatOpenAI"
   ]
  },
  {
   "cell_type": "markdown",
   "id": "880f0489-4119-447c-a117-f6e5f7e638cc",
   "metadata": {},
   "source": [
    "## Setup and Initialize Chain (v1.0)"
   ]
  },
  {
   "cell_type": "code",
   "execution_count": 122,
   "id": "d7437077-8634-47da-a0c3-5731ee129bea",
   "metadata": {},
   "outputs": [],
   "source": [
    "system_v1_template = \"\"\"You are an intelligent Cognitive UI agent that is having a conversation with an user.\n",
    "Your task is to have a conversation and respond appropriately to the user. You have the ability to generate UI components \n",
    "in the form of HTML code and HTML is the output format that the user prefers when needed. Before you output any HTML, \n",
    "you need to confirm that the HTML is valid, stylized with CSS or other frameworks and most importantly, it must satisfy the user's \n",
    "requirements. When you output HTML, you must say nothing else and only the HTML code so that the user \n",
    "can render it. You must remember to ask if the user is done customizing before outputing HTML and only output HTML when they're ready.\n",
    "\n",
    "If the user provides feedback to the generated HTML, you will incorporate their feedback\n",
    "and make new attempts until they're satisfied. In order to generate HTML, you may need content from the user and it is okay to \n",
    "collect information from the user based on the type of UI component they need. \n",
    "\"\"\""
   ]
  },
  {
   "cell_type": "code",
   "execution_count": 123,
   "id": "5a8351e5-3548-4ac2-8f71-6597cdf38d21",
   "metadata": {},
   "outputs": [],
   "source": [
    "def make_chat(system_template, model_temp = 0, verbose_mode=False):\n",
    "    prompt = ChatPromptTemplate.from_messages(\n",
    "        [\n",
    "            SystemMessage(\n",
    "                content=system_template\n",
    "            ),  # The persistent system prompt\n",
    "            MessagesPlaceholder(\n",
    "                variable_name=\"chat_history\"\n",
    "            ),  # Where the memory will be stored.\n",
    "            HumanMessagePromptTemplate.from_template(\n",
    "                \"{human_input}\"\n",
    "            ),  # Where the human input will injected\n",
    "        ]\n",
    "    )\n",
    "    \n",
    "    llm = ChatOpenAI(temperature = model_temp)\n",
    "    memory = ConversationBufferMemory(memory_key=\"chat_history\", return_messages=True)\n",
    "    \n",
    "    chat_llm_chain = LLMChain(\n",
    "        llm=llm,\n",
    "        prompt=prompt,\n",
    "        verbose=verbose_mode,\n",
    "        memory=memory,\n",
    "    )\n",
    "    return chat_llm_chain"
   ]
  },
  {
   "cell_type": "markdown",
   "id": "33674601-3f65-4bc1-9edf-9e8346435a2f",
   "metadata": {},
   "source": [
    "### Testing v1.0"
   ]
  },
  {
   "cell_type": "code",
   "execution_count": 124,
   "id": "999a7633-cfbc-460b-93f9-6e1cc402f326",
   "metadata": {},
   "outputs": [
    {
     "data": {
      "text/plain": [
       "'Hello! How can I assist you today?'"
      ]
     },
     "execution_count": 124,
     "metadata": {},
     "output_type": "execute_result"
    }
   ],
   "source": [
    "chat_llm_chain = make_chat(system_v1_template)\n",
    "chat_llm_chain.predict(human_input=\"Hi\")"
   ]
  },
  {
   "cell_type": "code",
   "execution_count": 125,
   "id": "e558715d-755a-4b24-9172-dfc22a019c7a",
   "metadata": {},
   "outputs": [
    {
     "data": {
      "text/plain": [
       "'Great! What fields would you like to include in your form?'"
      ]
     },
     "execution_count": 125,
     "metadata": {},
     "output_type": "execute_result"
    }
   ],
   "source": [
    "chat_llm_chain.predict(human_input=\"I want to make a form on my website\")"
   ]
  },
  {
   "cell_type": "code",
   "execution_count": 126,
   "id": "40f59c6d-f04f-495b-bd84-7aed711a608d",
   "metadata": {},
   "outputs": [
    {
     "data": {
      "text/plain": [
       "'Got it! Would you like any labels for these fields?'"
      ]
     },
     "execution_count": 126,
     "metadata": {},
     "output_type": "execute_result"
    }
   ],
   "source": [
    "chat_llm_chain.predict(human_input=\"\"\"I need text fields for their first name, last name, and email address. \n",
    "I also need a textbox for the user to input a custom message.\"\"\")"
   ]
  },
  {
   "cell_type": "code",
   "execution_count": 127,
   "id": "0258473f-b670-4880-8ace-1ec78681712c",
   "metadata": {},
   "outputs": [
    {
     "data": {
      "text/plain": [
       "\"Understood! I will create the form with fancy labels, different colors, and Bootstrap Glyphicons for each field. \\nI will provide you with the HTML once it's ready. Let me know if you have any specific colors in mind for the labels.\""
      ]
     },
     "execution_count": 127,
     "metadata": {},
     "output_type": "execute_result"
    }
   ],
   "source": [
    "chat_llm_chain.predict(human_input=\"\"\"\n",
    "The labels should look fancy and each have different colors that look great together. The label's text should indicate the content \n",
    "that the user should put into the text field. The labels should have a Bootstrap Glyphicon representing that particular field if possible.\n",
    "\"\"\")"
   ]
  },
  {
   "cell_type": "code",
   "execution_count": 128,
   "id": "41a86b18-2beb-4c80-aead-976b27b613c2",
   "metadata": {},
   "outputs": [
    {
     "data": {
      "text/plain": [
       "\"Got it! I will arrange the text fields on the same row, place the textbox on a separate row, and include a submit button for the form. \\nI will provide you with the HTML once it's ready. Let me know if you have any specific styling preferences for the submit button.\""
      ]
     },
     "execution_count": 128,
     "metadata": {},
     "output_type": "execute_result"
    }
   ],
   "source": [
    "chat_llm_chain.predict(human_input=\"\"\"I want all the text fields to be on the same row. The textbox on its own row. \n",
    "I also want a submit button for the form\"\"\")"
   ]
  },
  {
   "cell_type": "code",
   "execution_count": 129,
   "id": "1119ffe4-9941-4ae9-bf0c-6a37517d5313",
   "metadata": {},
   "outputs": [
    {
     "data": {
      "text/plain": [
       "\"I will create a modern-styled form with circular-rounded borders, a background color, and a horizontally centered, rounded submit button. \\nI will provide you with the HTML once it's ready. Let me know if you have any specific color preferences for the form background and submit button.\""
      ]
     },
     "execution_count": 129,
     "metadata": {},
     "output_type": "execute_result"
    }
   ],
   "source": [
    "chat_llm_chain.predict(human_input=\"\"\"The form should have its own background. the form itself should have circular-rounded borders.\n",
    "The submit button should be horizontally centered and rounded as well. Give the form a modern style!\"\"\")"
   ]
  },
  {
   "cell_type": "code",
   "execution_count": 130,
   "id": "3a17cb5e-0931-40c0-b3bd-6fa3d406b337",
   "metadata": {},
   "outputs": [
    {
     "data": {
      "text/plain": [
       "\"Not yet. I will provide you with the HTML once it's ready. Thank you for your patience.\""
      ]
     },
     "execution_count": 130,
     "metadata": {},
     "output_type": "execute_result"
    }
   ],
   "source": [
    "chat_llm_chain.predict(human_input=\"\"\"is the HTML ready?\"\"\")"
   ]
  },
  {
   "cell_type": "code",
   "execution_count": 131,
   "id": "3dfd26eb-1ff0-4ab0-8a66-81e20ea8111a",
   "metadata": {},
   "outputs": [
    {
     "data": {
      "text/plain": [
       "'```html\\n<style>\\n    .form-container {\\n        background-color: #f2f2f2;\\n        border-radius: 20px;\\n        padding: 20px;\\n        width: 50%;\\n        margin: 0 auto;\\n    }\\n\\n    .form-row {\\n        display: flex;\\n        justify-content: space-between;\\n        margin-bottom: 10px;\\n    }\\n\\n    .form-row input {\\n        width: 30%;\\n        border-radius: 5px;\\n        padding: 5px;\\n    }\\n\\n    .form-row label {\\n        color: #3498db;\\n        font-weight: bold;\\n    }\\n\\n    .form-textarea {\\n        margin-bottom: 10px;\\n    }\\n\\n    .form-submit {\\n        display: block;\\n        width: 30%;\\n        margin: 0 auto;\\n        padding: 10px;\\n        border: none;\\n        border-radius: 10px;\\n        background-color: #3498db;\\n        color: white;\\n        font-weight: bold;\\n        cursor: pointer;\\n    }\\n</style>\\n\\n<div class=\"form-container\">\\n    <form>\\n        <div class=\"form-row\">\\n            <label for=\"first-name\">First Name</label>\\n            <input type=\"text\" id=\"first-name\" name=\"first-name\">\\n        </div>\\n        <div class=\"form-row\">\\n            <label for=\"last-name\">Last Name</label>\\n            <input type=\"text\" id=\"last-name\" name=\"last-name\">\\n        </div>\\n        <div class=\"form-row\">\\n            <label for=\"email\">Email Address</label>\\n            <input type=\"email\" id=\"email\" name=\"email\">\\n        </div>\\n        <div class=\"form-textarea\">\\n            <label for=\"message\">Custom Message</label>\\n            <textarea id=\"message\" name=\"message\" rows=\"4\"></textarea>\\n        </div>\\n        <button type=\"submit\" class=\"form-submit\">Submit</button>\\n    </form>\\n</div>\\n```'"
      ]
     },
     "execution_count": 131,
     "metadata": {},
     "output_type": "execute_result"
    }
   ],
   "source": [
    "chat_llm_chain.predict(human_input=\"\"\"I would like the HTML now\"\"\")"
   ]
  },
  {
   "cell_type": "code",
   "execution_count": 132,
   "id": "4decd879-ac50-444c-a8f7-606f5dd3fd01",
   "metadata": {},
   "outputs": [
    {
     "data": {
      "text/html": [
       "```html\n",
       "<style>\n",
       "    .form-container {\n",
       "        background-color: #f2f2f2;\n",
       "        border-radius: 20px;\n",
       "        padding: 20px;\n",
       "        width: 50%;\n",
       "        margin: 0 auto;\n",
       "    }\n",
       "\n",
       "    .form-row {\n",
       "        display: flex;\n",
       "        justify-content: space-between;\n",
       "        margin-bottom: 10px;\n",
       "    }\n",
       "\n",
       "    .form-row input {\n",
       "        width: 30%;\n",
       "        border-radius: 5px;\n",
       "        padding: 5px;\n",
       "    }\n",
       "\n",
       "    .form-row label {\n",
       "        color: #3498db;\n",
       "        font-weight: bold;\n",
       "    }\n",
       "\n",
       "    .form-textarea {\n",
       "        margin-bottom: 10px;\n",
       "    }\n",
       "\n",
       "    .form-submit {\n",
       "        display: block;\n",
       "        width: 30%;\n",
       "        margin: 0 auto;\n",
       "        padding: 10px;\n",
       "        border: none;\n",
       "        border-radius: 10px;\n",
       "        background-color: #3498db;\n",
       "        color: white;\n",
       "        font-weight: bold;\n",
       "        cursor: pointer;\n",
       "    }\n",
       "</style>\n",
       "\n",
       "<div class=\"form-container\">\n",
       "    <form>\n",
       "        <div class=\"form-row\">\n",
       "            <label for=\"first-name\">First Name</label>\n",
       "            <input type=\"text\" id=\"first-name\" name=\"first-name\">\n",
       "        </div>\n",
       "        <div class=\"form-row\">\n",
       "            <label for=\"last-name\">Last Name</label>\n",
       "            <input type=\"text\" id=\"last-name\" name=\"last-name\">\n",
       "        </div>\n",
       "        <div class=\"form-row\">\n",
       "            <label for=\"email\">Email Address</label>\n",
       "            <input type=\"email\" id=\"email\" name=\"email\">\n",
       "        </div>\n",
       "        <div class=\"form-textarea\">\n",
       "            <label for=\"message\">Custom Message</label>\n",
       "            <textarea id=\"message\" name=\"message\" rows=\"4\"></textarea>\n",
       "        </div>\n",
       "        <button type=\"submit\" class=\"form-submit\">Submit</button>\n",
       "    </form>\n",
       "</div>\n",
       "```"
      ],
      "text/plain": [
       "<IPython.core.display.HTML object>"
      ]
     },
     "metadata": {},
     "output_type": "display_data"
    }
   ],
   "source": [
    "display(HTML('```html\\n<style>\\n    .form-container {\\n        background-color: #f2f2f2;\\n        border-radius: 20px;\\n        padding: 20px;\\n        width: 50%;\\n        margin: 0 auto;\\n    }\\n\\n    .form-row {\\n        display: flex;\\n        justify-content: space-between;\\n        margin-bottom: 10px;\\n    }\\n\\n    .form-row input {\\n        width: 30%;\\n        border-radius: 5px;\\n        padding: 5px;\\n    }\\n\\n    .form-row label {\\n        color: #3498db;\\n        font-weight: bold;\\n    }\\n\\n    .form-textarea {\\n        margin-bottom: 10px;\\n    }\\n\\n    .form-submit {\\n        display: block;\\n        width: 30%;\\n        margin: 0 auto;\\n        padding: 10px;\\n        border: none;\\n        border-radius: 10px;\\n        background-color: #3498db;\\n        color: white;\\n        font-weight: bold;\\n        cursor: pointer;\\n    }\\n</style>\\n\\n<div class=\"form-container\">\\n    <form>\\n        <div class=\"form-row\">\\n            <label for=\"first-name\">First Name</label>\\n            <input type=\"text\" id=\"first-name\" name=\"first-name\">\\n        </div>\\n        <div class=\"form-row\">\\n            <label for=\"last-name\">Last Name</label>\\n            <input type=\"text\" id=\"last-name\" name=\"last-name\">\\n        </div>\\n        <div class=\"form-row\">\\n            <label for=\"email\">Email Address</label>\\n            <input type=\"email\" id=\"email\" name=\"email\">\\n        </div>\\n        <div class=\"form-textarea\">\\n            <label for=\"message\">Custom Message</label>\\n            <textarea id=\"message\" name=\"message\" rows=\"4\"></textarea>\\n        </div>\\n        <button type=\"submit\" class=\"form-submit\">Submit</button>\\n    </form>\\n</div>\\n```'))"
   ]
  },
  {
   "cell_type": "code",
   "execution_count": 133,
   "id": "a02c86c2-5d05-4db0-a608-c4d6a2519129",
   "metadata": {},
   "outputs": [
    {
     "data": {
      "text/plain": [
       "'```html\\n<style>\\n    .form-container {\\n        background-color: #f2f2f2;\\n        border-radius: 20px;\\n        padding: 20px;\\n        width: 50%;\\n        margin: 0 auto;\\n    }\\n\\n    .form-row {\\n        display: flex;\\n        justify-content: space-between;\\n        margin-bottom: 10px;\\n    }\\n\\n    .form-row input {\\n        width: 30%;\\n        border-radius: 5px;\\n        padding: 5px;\\n    }\\n\\n    .form-row label {\\n        color: #3498db;\\n        font-weight: bold;\\n    }\\n\\n    .form-textarea {\\n        margin-bottom: 10px;\\n    }\\n\\n    .form-submit {\\n        display: block;\\n        width: 30%;\\n        margin: 0 auto;\\n        padding: 10px;\\n        border: none;\\n        border-radius: 10px;\\n        background-color: #3498db;\\n        color: white;\\n        font-weight: bold;\\n        cursor: pointer;\\n    }\\n</style>\\n\\n<div class=\"form-container\">\\n    <form>\\n        <div class=\"form-row\">\\n            <label for=\"first-name\">First Name</label>\\n            <input type=\"text\" id=\"first-name\" name=\"first-name\">\\n            <label for=\"last-name\">Last Name</label>\\n            <input type=\"text\" id=\"last-name\" name=\"last-name\">\\n            <label for=\"email\">Email Address</label>\\n            <input type=\"email\" id=\"email\" name=\"email\">\\n        </div>\\n        <div class=\"form-textarea\">\\n            <label for=\"message\">Custom Message</label>\\n            <textarea id=\"message\" name=\"message\" rows=\"4\"></textarea>\\n        </div>\\n        <button type=\"submit\" class=\"form-submit\">Submit</button>\\n    </form>\\n</div>\\n```'"
      ]
     },
     "execution_count": 133,
     "metadata": {},
     "output_type": "execute_result"
    }
   ],
   "source": [
    "chat_llm_chain.predict(human_input=\"\"\"the 3 text fields are NOT ON THE SAME ROW, please fix\"\"\")"
   ]
  },
  {
   "cell_type": "code",
   "execution_count": 134,
   "id": "0ab16f49-9ec5-4f30-901a-a30a8ddcceab",
   "metadata": {},
   "outputs": [
    {
     "data": {
      "text/html": [
       "```html\n",
       "<style>\n",
       "    .form-container {\n",
       "        background-color: #f2f2f2;\n",
       "        border-radius: 20px;\n",
       "        padding: 20px;\n",
       "        width: 50%;\n",
       "        margin: 0 auto;\n",
       "    }\n",
       "\n",
       "    .form-row {\n",
       "        display: flex;\n",
       "        justify-content: space-between;\n",
       "        margin-bottom: 10px;\n",
       "    }\n",
       "\n",
       "    .form-row input {\n",
       "        width: 30%;\n",
       "        border-radius: 5px;\n",
       "        padding: 5px;\n",
       "    }\n",
       "\n",
       "    .form-row label {\n",
       "        color: #3498db;\n",
       "        font-weight: bold;\n",
       "    }\n",
       "\n",
       "    .form-textarea {\n",
       "        margin-bottom: 10px;\n",
       "    }\n",
       "\n",
       "    .form-submit {\n",
       "        display: block;\n",
       "        width: 30%;\n",
       "        margin: 0 auto;\n",
       "        padding: 10px;\n",
       "        border: none;\n",
       "        border-radius: 10px;\n",
       "        background-color: #3498db;\n",
       "        color: white;\n",
       "        font-weight: bold;\n",
       "        cursor: pointer;\n",
       "    }\n",
       "</style>\n",
       "\n",
       "<div class=\"form-container\">\n",
       "    <form>\n",
       "        <div class=\"form-row\">\n",
       "            <label for=\"first-name\">First Name</label>\n",
       "            <input type=\"text\" id=\"first-name\" name=\"first-name\">\n",
       "            <label for=\"last-name\">Last Name</label>\n",
       "            <input type=\"text\" id=\"last-name\" name=\"last-name\">\n",
       "            <label for=\"email\">Email Address</label>\n",
       "            <input type=\"email\" id=\"email\" name=\"email\">\n",
       "        </div>\n",
       "        <div class=\"form-textarea\">\n",
       "            <label for=\"message\">Custom Message</label>\n",
       "            <textarea id=\"message\" name=\"message\" rows=\"4\"></textarea>\n",
       "        </div>\n",
       "        <button type=\"submit\" class=\"form-submit\">Submit</button>\n",
       "    </form>\n",
       "</div>\n",
       "```"
      ],
      "text/plain": [
       "<IPython.core.display.HTML object>"
      ]
     },
     "metadata": {},
     "output_type": "display_data"
    }
   ],
   "source": [
    "display(HTML('```html\\n<style>\\n    .form-container {\\n        background-color: #f2f2f2;\\n        border-radius: 20px;\\n        padding: 20px;\\n        width: 50%;\\n        margin: 0 auto;\\n    }\\n\\n    .form-row {\\n        display: flex;\\n        justify-content: space-between;\\n        margin-bottom: 10px;\\n    }\\n\\n    .form-row input {\\n        width: 30%;\\n        border-radius: 5px;\\n        padding: 5px;\\n    }\\n\\n    .form-row label {\\n        color: #3498db;\\n        font-weight: bold;\\n    }\\n\\n    .form-textarea {\\n        margin-bottom: 10px;\\n    }\\n\\n    .form-submit {\\n        display: block;\\n        width: 30%;\\n        margin: 0 auto;\\n        padding: 10px;\\n        border: none;\\n        border-radius: 10px;\\n        background-color: #3498db;\\n        color: white;\\n        font-weight: bold;\\n        cursor: pointer;\\n    }\\n</style>\\n\\n<div class=\"form-container\">\\n    <form>\\n        <div class=\"form-row\">\\n            <label for=\"first-name\">First Name</label>\\n            <input type=\"text\" id=\"first-name\" name=\"first-name\">\\n            <label for=\"last-name\">Last Name</label>\\n            <input type=\"text\" id=\"last-name\" name=\"last-name\">\\n            <label for=\"email\">Email Address</label>\\n            <input type=\"email\" id=\"email\" name=\"email\">\\n        </div>\\n        <div class=\"form-textarea\">\\n            <label for=\"message\">Custom Message</label>\\n            <textarea id=\"message\" name=\"message\" rows=\"4\"></textarea>\\n        </div>\\n        <button type=\"submit\" class=\"form-submit\">Submit</button>\\n    </form>\\n</div>\\n```'))"
   ]
  },
  {
   "cell_type": "code",
   "execution_count": null,
   "id": "efc146cb-033b-4a60-afcb-c33677089126",
   "metadata": {},
   "outputs": [],
   "source": []
  }
 ],
 "metadata": {
  "kernelspec": {
   "display_name": "Python 3 (ipykernel)",
   "language": "python",
   "name": "python3"
  },
  "language_info": {
   "codemirror_mode": {
    "name": "ipython",
    "version": 3
   },
   "file_extension": ".py",
   "mimetype": "text/x-python",
   "name": "python",
   "nbconvert_exporter": "python",
   "pygments_lexer": "ipython3",
   "version": "3.11.4"
  }
 },
 "nbformat": 4,
 "nbformat_minor": 5
}
