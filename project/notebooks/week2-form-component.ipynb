{
 "cells": [
  {
   "cell_type": "code",
   "execution_count": null,
   "id": "13275343-af40-4cce-be4a-972dbdc26947",
   "metadata": {},
   "outputs": [],
   "source": [
    "import os\n",
    "import openai\n",
    "import sys\n",
    "import json\n",
    "import re\n",
    "from IPython.display import display, HTML\n",
    "sys.path.append('../..')"
   ]
  },
  {
   "cell_type": "code",
   "execution_count": null,
   "id": "72e5ace5-6efe-4916-91c2-1525ede2e0b2",
   "metadata": {},
   "outputs": [],
   "source": [
    "openai.api_key = os.environ['OPENAI_API_KEY']"
   ]
  },
  {
   "cell_type": "markdown",
   "id": "275ee4d7-e202-4cca-8e70-5a566b52a407",
   "metadata": {},
   "source": [
    "## LangChain Imports"
   ]
  },
  {
   "cell_type": "code",
   "execution_count": null,
   "id": "c95f23e3-b812-4411-9aac-1a5f7d246333",
   "metadata": {},
   "outputs": [],
   "source": [
    "from langchain_core.output_parsers import StrOutputParser\n",
    "\n",
    "# https://python.langchain.com/docs/modules/memory/adding_memory\n",
    "from langchain.chains import LLMChain\n",
    "from langchain.memory import ConversationBufferMemory\n",
    "from langchain.prompts import (\n",
    "    ChatPromptTemplate,\n",
    "    HumanMessagePromptTemplate,\n",
    "    MessagesPlaceholder,\n",
    ")\n",
    "from langchain.schema import SystemMessage\n",
    "from langchain_openai import ChatOpenAI"
   ]
  },
  {
   "cell_type": "markdown",
   "id": "880f0489-4119-447c-a117-f6e5f7e638cc",
   "metadata": {},
   "source": [
    "## Setup and Initialize Chain"
   ]
  },
  {
   "cell_type": "code",
   "execution_count": null,
   "id": "d7437077-8634-47da-a0c3-5731ee129bea",
   "metadata": {},
   "outputs": [],
   "source": [
    "system_v1_template = \"\"\"You are an intelligent Cognitive UI agent that is having a conversation with an user.\n",
    "Your task is to have a conversation and respond appropriately to the user. You have the ability to generate UI components \n",
    "in the form of HTML code and HTML is the output format that the user prefers when needed.\n",
    "Before you output any HTML, you need to confirm that the HTML is valid, stylized with CSS, JS, and/or other frameworks and \n",
    "most importantly, it must satisfy the user's requirements. \n",
    "Valid HTML must follow the standard HTML file format containing the keyword 'DOCTYPE'.\n",
    "\n",
    "If the user provides feedback to the generated HTML, you will incorporate their feedback\n",
    "and make new attempts until they're satisfied. In order to generate HTML, you may need content from the user and it is okay to \n",
    "collect information from the user based on the type of UI component they need. \n",
    "\n",
    "Once you have enough information from the user, you need to output HTML code; you should\n",
    "also do this if the user is demanding for HTML. However, if you need more information, you should continue asking for information.\n",
    "If you have already generated HTML and the user provides feedback and suggest changes, please respond with the updated HTML.\n",
    "If you say you will be generating HTML, you must do so.\n",
    "\"\"\""
   ]
  },
  {
   "cell_type": "code",
   "execution_count": null,
   "id": "5a8351e5-3548-4ac2-8f71-6597cdf38d21",
   "metadata": {},
   "outputs": [],
   "source": [
    "def make_chat(system_template, verbose_mode=False):\n",
    "    prompt = ChatPromptTemplate.from_messages(\n",
    "        [\n",
    "            SystemMessage(\n",
    "                content=system_template\n",
    "            ),  # The persistent system prompt\n",
    "            MessagesPlaceholder(\n",
    "                variable_name=\"chat_history\"\n",
    "            ),  # Where the memory will be stored.\n",
    "            HumanMessagePromptTemplate.from_template(\n",
    "                \"{human_input}\"\n",
    "            ),  # Where the human input will injected\n",
    "        ]\n",
    "    )\n",
    "    \n",
    "    llm = ChatOpenAI(temperature = 0)\n",
    "    mem = ConversationBufferMemory(memory_key=\"chat_history\", return_messages=True)\n",
    "    mem.clear()\n",
    "    \n",
    "    chat_llm_chain = LLMChain(\n",
    "        llm=llm,\n",
    "        prompt=prompt,\n",
    "        verbose=verbose_mode,\n",
    "        memory=mem,\n",
    "    )\n",
    "    return chat_llm_chain"
   ]
  },
  {
   "cell_type": "code",
   "execution_count": null,
   "id": "a562db81-7b7c-45a7-aa0f-4c10c4bb5f54",
   "metadata": {},
   "outputs": [],
   "source": [
    "html_pattern = re.compile(r'<!DOCTYPE html>.*?</html>', re.DOTALL)\n",
    "def interact(model, input):\n",
    "    o = model.predict(human_input=input)\n",
    "    html_match = html_pattern.search(o)\n",
    "    s = False\n",
    "    if html_match:\n",
    "        s = True\n",
    "        display(HTML(html_match.group(0)))\n",
    "    if s:\n",
    "        o = re.sub(r\"```html.*?```\", \"\", o, flags=re.DOTALL)\n",
    "    return o"
   ]
  },
  {
   "cell_type": "markdown",
   "id": "33674601-3f65-4bc1-9edf-9e8346435a2f",
   "metadata": {},
   "source": [
    "### Testing"
   ]
  },
  {
   "cell_type": "code",
   "execution_count": null,
   "id": "999a7633-cfbc-460b-93f9-6e1cc402f326",
   "metadata": {},
   "outputs": [],
   "source": [
    "model = make_chat(system_v1_template, verbose_mode=False)\n",
    "interact(model, \"Hi\")"
   ]
  },
  {
   "cell_type": "code",
   "execution_count": null,
   "id": "e558715d-755a-4b24-9172-dfc22a019c7a",
   "metadata": {},
   "outputs": [],
   "source": [
    "interact(model, \"I want to make a form on my website\")"
   ]
  },
  {
   "cell_type": "code",
   "execution_count": null,
   "id": "40f59c6d-f04f-495b-bd84-7aed711a608d",
   "metadata": {},
   "outputs": [],
   "source": [
    "interact(model, \"\"\"I need text fields for their first name, last name, and email address. \n",
    "I also need a textbox for the user to input a custom message.\"\"\")"
   ]
  },
  {
   "cell_type": "code",
   "execution_count": null,
   "id": "0258473f-b670-4880-8ace-1ec78681712c",
   "metadata": {},
   "outputs": [],
   "source": [
    "interact(model, \"\"\"\n",
    "The labels should look fancy and each have different colors that look great together. The label's text should indicate the content \n",
    "that the user should put into the text field. The labels must have a Bootstrap Glyphicon representing that particular field.\n",
    "\"\"\")"
   ]
  },
  {
   "cell_type": "code",
   "execution_count": null,
   "id": "41a86b18-2beb-4c80-aead-976b27b613c2",
   "metadata": {},
   "outputs": [],
   "source": [
    "interact(model, \"\"\"I want all the text fields to be on the same row. The textbox on its own row. \n",
    "I also want a submit button centered in its row for the form. Now, show me the form\"\"\")"
   ]
  },
  {
   "cell_type": "code",
   "execution_count": null,
   "id": "82cd3643-6b2d-407c-9d03-7d2881e117c5",
   "metadata": {},
   "outputs": [],
   "source": [
    "interact(model, \"Make the form 500 pixels wide and give it a fancy gradient background color. The form should have rounded borders\")"
   ]
  },
  {
   "cell_type": "code",
   "execution_count": null,
   "id": "6fad5932-dce1-422f-8a26-a21d77baa1e4",
   "metadata": {},
   "outputs": [],
   "source": [
    "interact(model, \"Make the submit button take up the entire space on its row and make it also rounded corners\")"
   ]
  },
  {
   "cell_type": "code",
   "execution_count": null,
   "id": "2c35396f-49d7-4f0a-b88c-5cb25f8b69da",
   "metadata": {},
   "outputs": [],
   "source": [
    "interact(model, \"Looks fine for now, ignore the 500px width rule and add 30px padding around the form\")"
   ]
  },
  {
   "cell_type": "code",
   "execution_count": null,
   "id": "b784e928-39ef-458d-8d03-8b3ced06094a",
   "metadata": {},
   "outputs": [],
   "source": [
    "interact(model, \"The text labels must have a Bootstrap Glyphicon representing that particular field\")"
   ]
  },
  {
   "cell_type": "code",
   "execution_count": null,
   "id": "4f856ab3-7606-4bb3-919e-39a91bec22f6",
   "metadata": {},
   "outputs": [],
   "source": [
    "interact(model, \"the form does not have Glyphicons next to the text field labels, please add the correct icons\")"
   ]
  },
  {
   "cell_type": "code",
   "execution_count": null,
   "id": "c884da1d-a09e-43b8-95fe-7969a9229479",
   "metadata": {},
   "outputs": [],
   "source": [
    "interact(model, \"\"\"your Glyphicons do not work. Use bootstrap emoji-like Glyphicons for names and email. \n",
    "A person icon for the names and an email icon for the email address\"\"\")"
   ]
  },
  {
   "cell_type": "code",
   "execution_count": null,
   "id": "5e9d0327-e15f-4421-8dca-bb6a21ad626a",
   "metadata": {},
   "outputs": [],
   "source": [
    "interact(model, \"alright, now make the form responsive and allow it to be resized when dragging the corner of the form\")"
   ]
  },
  {
   "cell_type": "code",
   "execution_count": null,
   "id": "740316ba-19e0-468d-b324-d0b736bc1db2",
   "metadata": {},
   "outputs": [],
   "source": [
    "interact(model, \"\"\"here is the link to an image of mount everest\n",
    "\n",
    "https://upload.wikimedia.org/wikipedia/commons/1/1a/Shivas_Kinder_-_0253.jpg\n",
    "\n",
    "insert the image with the above url as the source between the custom message and submit button on my form\n",
    "\"\"\")"
   ]
  },
  {
   "cell_type": "code",
   "execution_count": null,
   "id": "474bf563-5e2b-4ad1-9094-161a9d401a96",
   "metadata": {},
   "outputs": [],
   "source": [
    "interact(model, \"thanks for the form, I am done with the form, but now I need a main page screen with the same mount everest image as the background and white text centered vertically and horizontally on the page. The text should be 'Mount'\")"
   ]
  },
  {
   "cell_type": "code",
   "execution_count": null,
   "id": "2bf6ef1e-b128-428d-a6b2-fb96897f7f19",
   "metadata": {},
   "outputs": [],
   "source": [
    "interact(model, \"make me a content container that is split into 4 boxes with colors red, blue, green, and yellow\")"
   ]
  },
  {
   "cell_type": "code",
   "execution_count": null,
   "id": "2c7d7603-74ed-4e55-b176-ff849116baa3",
   "metadata": {},
   "outputs": [],
   "source": [
    "interact(model, \"okay bye\")"
   ]
  },
  {
   "cell_type": "code",
   "execution_count": null,
   "id": "84f0e98b-ff58-4b91-93fc-a3dcbcfa9a56",
   "metadata": {},
   "outputs": [],
   "source": []
  }
 ],
 "metadata": {
  "kernelspec": {
   "display_name": "Python 3 (ipykernel)",
   "language": "python",
   "name": "python3"
  },
  "language_info": {
   "codemirror_mode": {
    "name": "ipython",
    "version": 3
   },
   "file_extension": ".py",
   "mimetype": "text/x-python",
   "name": "python",
   "nbconvert_exporter": "python",
   "pygments_lexer": "ipython3",
   "version": "3.11.4"
  }
 },
 "nbformat": 4,
 "nbformat_minor": 5
}
