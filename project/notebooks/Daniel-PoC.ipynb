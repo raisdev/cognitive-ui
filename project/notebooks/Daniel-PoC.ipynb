{
 "cells": [
  {
   "cell_type": "markdown",
   "id": "519f4790-aaaa-42ca-9370-186209e65c4a",
   "metadata": {},
   "source": [
    "Set-up"
   ]
  },
  {
   "cell_type": "code",
   "execution_count": 34,
   "id": "b111544d-f027-4cee-a28b-104400d3458b",
   "metadata": {},
   "outputs": [],
   "source": [
    "import os\n",
    "import sys\n",
    "import json\n",
    "import openai\n",
    "from langchain.tools import tool\n",
    "from pydantic.v1 import BaseModel, Field\n",
    "from langchain.chat_models import ChatOpenAI\n",
    "from langchain.schema.agent import AgentFinish\n",
    "from langchain.prompts import ChatPromptTemplate\n",
    "from langchain.prompts import MessagesPlaceholder\n",
    "from langchain.agents.format_scratchpad import format_to_openai_functions\n",
    "from langchain.agents.output_parsers import OpenAIFunctionsAgentOutputParser\n",
    "from langchain_core.utils.function_calling import convert_to_openai_function\n",
    "sys.path.append('../..')"
   ]
  },
  {
   "cell_type": "code",
   "execution_count": 9,
   "id": "1aee55bf-97c3-482f-82b0-5e8ee8875957",
   "metadata": {},
   "outputs": [],
   "source": [
    "# Setting your personal OPENAI Api Key\n",
    "openai.api_key = os.environ['OPENAI_API_KEY']"
   ]
  },
  {
   "cell_type": "markdown",
   "id": "5ab0c62f-dbfe-4e50-8ea3-0b959df9be5a",
   "metadata": {},
   "source": [
    "Initializing Tools"
   ]
  },
  {
   "cell_type": "code",
   "execution_count": 10,
   "id": "11433795-8f24-45b0-aab1-1f3e2ccda30f",
   "metadata": {},
   "outputs": [],
   "source": [
    "ui_function_identifier = \"This is a UI function\""
   ]
  },
  {
   "cell_type": "code",
   "execution_count": 44,
   "id": "d3e29423-eda9-46de-a53e-e792939e4270",
   "metadata": {},
   "outputs": [],
   "source": [
    "class Design_logo_input(BaseModel):\n",
    "    topic: str = Field(..., description=\"The topic for which the logo should be designed for. For example, if the topic were 'ice-cream shop' then the logo returned would be a logo fit for the ice-cream shop to put on their sign and merchandise.\")\n",
    "\n",
    "@tool(args_schema=Design_logo_input)\n",
    "def design_logo_concepts(topic: str) -> str:\n",
    "    \"\"\"Returns the url for a logo design that is based on the provided topic\"\"\"\n",
    "    # Currently a very empty function\n",
    "    return f\"s3://designs/logo_{len(topic)%5+1}.jpg\""
   ]
  },
  {
   "cell_type": "code",
   "execution_count": 89,
   "id": "5adfdc74-9ef8-412c-b726-7af14234d593",
   "metadata": {},
   "outputs": [],
   "source": [
    "class UI_Output_Request(BaseModel):\n",
    "    inpt: str = Field(... , description=f\"A description of the UI function you want and how you would call it along with the arguments you would use\")\n",
    "\n",
    "@tool(args_schema=UI_Output_Request)\n",
    "def ui_output_request(inpt: str) -> str:\n",
    "    \"\"\"Provides a convenient way for you to describe what UI function you want and what to call it with without actually calling a UI function.\"\"\"\n",
    "    return inpt"
   ]
  },
  {
   "cell_type": "code",
   "execution_count": 90,
   "id": "b6df5894-28d6-42d8-8de8-91c494fcc61b",
   "metadata": {},
   "outputs": [],
   "source": [
    "class Product_UI_input(BaseModel):\n",
    "    path: str = Field(... , description=f\"The path of the image for the UI page. If no image is wanted or required provide an empty string.\")\n",
    "\n",
    "@tool(args_schema=Product_UI_input)\n",
    "def produce_image_UI(path: str) -> str:\n",
    "    \"\"\"This is a UI function. Produces the JSON for a general UI page about an image.\"\"\"\n",
    "    data = {\"component\":\"Image\", \"props\":{\"url\":path}}\n",
    "    return  json.dumps(data)            "
   ]
  },
  {
   "cell_type": "markdown",
   "id": "9b00a3ae-4268-4fcf-88e7-f9119fd623a9",
   "metadata": {},
   "source": [
    "Registering Tools"
   ]
  },
  {
   "cell_type": "code",
   "execution_count": 105,
   "id": "65107d1d-f7f7-4083-8b05-267b22cfa3bf",
   "metadata": {},
   "outputs": [],
   "source": [
    "tools = [design_logo_concepts, produce_image_UI, ui_output_request]\n",
    "functions = [convert_to_openai_function(f) for f in tools]"
   ]
  },
  {
   "cell_type": "code",
   "execution_count": 91,
   "id": "7255906a-a58d-452c-af65-e15256faece9",
   "metadata": {},
   "outputs": [],
   "source": [
    "tool_dictionary = {\n",
    "        \"design_logo_concepts\": design_logo_concepts,\n",
    "        \"produce_image_UI\": produce_image_UI,\n",
    "        \"ui_output_request\": ui_output_request\n",
    "    }"
   ]
  },
  {
   "cell_type": "code",
   "execution_count": 118,
   "id": "f8116cde-8dcf-435a-86e6-aa3f706accd2",
   "metadata": {},
   "outputs": [],
   "source": [
    "ui_tool_dictionary = {\n",
    "    \"produce_image_UI\": produce_image_UI\n",
    "}"
   ]
  },
  {
   "cell_type": "markdown",
   "id": "53b705b4-7e85-4f76-ae8f-7f9e9177298f",
   "metadata": {},
   "source": [
    "Setting up LLM Instructions"
   ]
  },
  {
   "cell_type": "code",
   "execution_count": 79,
   "id": "273b5488-214c-4ece-bdb8-1af2317310b9",
   "metadata": {},
   "outputs": [],
   "source": [
    "agent_system_message = \"You are helpful assistant, don't be afraid to use the functions provided to you.\""
   ]
  },
  {
   "cell_type": "code",
   "execution_count": 100,
   "id": "ed612abf-227a-49cc-9948-b116fdec8273",
   "metadata": {},
   "outputs": [],
   "source": [
    "initial_message_beginning =  \"You are not allowed to call UI functions (which are the functions whose descriptions contains the phrase\" +\\\n",
    "    f\" '{ui_function_identifier}') as a response to this particular message. If you feel like you need to call the a UI function\" +\\\n",
    "    \" call 'ui_output_request' instead.\""
   ]
  },
  {
   "cell_type": "code",
   "execution_count": 103,
   "id": "52182cca-eee4-4b57-9c14-cc6d99ad8c04",
   "metadata": {},
   "outputs": [],
   "source": [
    "correction_message = \"No! You used a UI function which I said you weren't allowed to! Take what I write next and create a function call for\" +\\\n",
    "    \" 'ui_output_request'.\""
   ]
  },
  {
   "cell_type": "code",
   "execution_count": 81,
   "id": "a4a381e8-4ec6-4631-8c31-17c70d6f5454",
   "metadata": {},
   "outputs": [],
   "source": [
    "cognitive_ui_instructions = f\"Your task is to take the information from the scratchpad and produce an output\" +\\\n",
    "        \" in the appropriate format. You have two choices, you can either produce a UI page by calling one of the UI functions provided\" +\\\n",
    "        \" to you (and returning the function call) or just output plain text like you are used to. The UI functions are functions that have\" +\\\n",
    "        f\" the phrase '{ui_function_identifier}' in their description, do not use functions that don't have this. If the appropriate\" +\\\n",
    "        \" UI function isn't available, use the closest fitting UI function, lack of appropriate function should not dissuade you\" +\\\n",
    "        \" from choosing the UI output option.\""
   ]
  },
  {
   "cell_type": "markdown",
   "id": "26f9b88d-89d8-45ed-9cf1-5249c0e028af",
   "metadata": {},
   "source": [
    "Initializing Chain + Agent"
   ]
  },
  {
   "cell_type": "code",
   "execution_count": 106,
   "id": "70348d46-1b2e-4217-8ed1-f7b83b6d0ab9",
   "metadata": {},
   "outputs": [],
   "source": [
    "model = ChatOpenAI(model_name=\"gpt-3.5-turbo\", temperature=0).bind(functions=functions)\n",
    "prompt = ChatPromptTemplate.from_messages([\n",
    "    (\"system\", agent_system_message),\n",
    "    (\"user\", \"{input}\"),\n",
    "    MessagesPlaceholder(variable_name=\"agent_scratchpad\")\n",
    "])\n",
    "chain = prompt | model | OpenAIFunctionsAgentOutputParser()"
   ]
  },
  {
   "cell_type": "code",
   "execution_count": 121,
   "id": "10d03ead-af68-436d-a668-2077b5225b3a",
   "metadata": {},
   "outputs": [],
   "source": [
    "def run_agent(user_input):\n",
    "    \"\"\"\n",
    "    Runs the UI agent which will return a tuple of (LLM Response, Is it calling a UI Function)\n",
    "    \"\"\"\n",
    "    intermediate_steps = []\n",
    "    result = chain.invoke({\n",
    "        \"input\": initial_message_beginning + user_input,\n",
    "        \"agent_scratchpad\": format_to_openai_functions(intermediate_steps)\n",
    "    })\n",
    "    # Are we calling the functions? (If not we return)\n",
    "    if isinstance(result, AgentFinish):\n",
    "        return result, False\n",
    "    # Check if UI tool was run pre-emptively and if, re-run\n",
    "    if result.tool in ui_tool_dictionary:\n",
    "        # print (\"Agent was naughty\")\n",
    "        result = chain.invoke({\n",
    "            \"input\": correction_message + user_input,\n",
    "            \"agent_scratchpad\": format_to_openai_functions(intermediate_steps)\n",
    "        })\n",
    "    # Run first non-UI function\n",
    "    tool = tool_dictionary[result.tool]\n",
    "    observation = tool.run(result.tool_input)\n",
    "    intermediate_steps.append((result, observation))\n",
    "    # Cognitive UI Steps\n",
    "    result = chain.invoke({\n",
    "        \"input\": cognitive_ui_instructions,\n",
    "        \"agent_scratchpad\": format_to_openai_functions(intermediate_steps)\n",
    "    })\n",
    "    tool = tool_dictionary[result.tool]\n",
    "    observation = tool.run(result.tool_input)\n",
    "    return observation, True"
   ]
  },
  {
   "cell_type": "markdown",
   "id": "3a247208-f77a-41bc-bbbf-b70302d90a02",
   "metadata": {},
   "source": [
    "Testing"
   ]
  },
  {
   "cell_type": "code",
   "execution_count": 122,
   "id": "cb07dbd5-94eb-4b76-ae37-f38467f2f94f",
   "metadata": {},
   "outputs": [
    {
     "name": "stdout",
     "output_type": "stream",
     "text": [
      "(AgentFinish(return_values={'output': 'Hello! How can I assist you today?'}, log='Hello! How can I assist you today?'), False)\n"
     ]
    }
   ],
   "source": [
    "print(run_agent(\"Hello!\"))"
   ]
  },
  {
   "cell_type": "code",
   "execution_count": 123,
   "id": "8897b2b2-13ac-4a27-832e-ee6e666966c8",
   "metadata": {},
   "outputs": [
    {
     "name": "stdout",
     "output_type": "stream",
     "text": [
      "('{\"component\": \"Image\", \"props\": {\"url\": \"s3://designs/logo_3.jpg\"}}', True)\n"
     ]
    }
   ],
   "source": [
    "print(run_agent(\"Design me a big red logo\"))"
   ]
  },
  {
   "cell_type": "code",
   "execution_count": 124,
   "id": "47adf1a6-fa52-44db-8209-dd553cffedf3",
   "metadata": {},
   "outputs": [
    {
     "name": "stdout",
     "output_type": "stream",
     "text": [
      "(AgentFinish(return_values={'output': 'Cornell University is a private Ivy League research university located in Ithaca, New York. It was founded in 1865 and is widely regarded as one of the top universities in the world. Cornell is known for its diverse academic programs, including colleges of Agriculture and Life Sciences, Arts and Sciences, Engineering, and more.\\n\\nThe nickname \"Big Red\" refers to Cornell\\'s athletic teams, which compete in the NCAA Division I Ivy League conference. The university\\'s sports teams are known for their competitive spirit and have a strong following among students and alumni.\\n\\nCornell University has a beautiful campus with stunning natural surroundings, including gorges and waterfalls. It offers a vibrant and intellectually stimulating environment for students, with numerous research opportunities and a strong emphasis on interdisciplinary studies.\\n\\nOverall, Cornell University is renowned for its academic excellence, research contributions, and vibrant campus life.'}, log='Cornell University is a private Ivy League research university located in Ithaca, New York. It was founded in 1865 and is widely regarded as one of the top universities in the world. Cornell is known for its diverse academic programs, including colleges of Agriculture and Life Sciences, Arts and Sciences, Engineering, and more.\\n\\nThe nickname \"Big Red\" refers to Cornell\\'s athletic teams, which compete in the NCAA Division I Ivy League conference. The university\\'s sports teams are known for their competitive spirit and have a strong following among students and alumni.\\n\\nCornell University has a beautiful campus with stunning natural surroundings, including gorges and waterfalls. It offers a vibrant and intellectually stimulating environment for students, with numerous research opportunities and a strong emphasis on interdisciplinary studies.\\n\\nOverall, Cornell University is renowned for its academic excellence, research contributions, and vibrant campus life.'), False)\n"
     ]
    }
   ],
   "source": [
    "print(run_agent(\"Tell me a bit about Cornell University, I hear they are also reffered to as Big Red.\"))"
   ]
  },
  {
   "cell_type": "code",
   "execution_count": 125,
   "id": "fed37598-a70e-4533-a1f2-121311ec0605",
   "metadata": {
    "scrolled": true
   },
   "outputs": [
    {
     "name": "stdout",
     "output_type": "stream",
     "text": [
      "('{\"component\": \"Image\", \"props\": {\"url\": \"Dune\"}}', True)\n"
     ]
    }
   ],
   "source": [
    "print(run_agent(\"Make me a nice UI page about the movie 'Dune'\"))"
   ]
  },
  {
   "cell_type": "code",
   "execution_count": null,
   "id": "81aa71a4-0806-416f-ba11-ebdd254d12d8",
   "metadata": {},
   "outputs": [],
   "source": []
  }
 ],
 "metadata": {
  "kernelspec": {
   "display_name": "Python 3 (ipykernel)",
   "language": "python",
   "name": "python3"
  },
  "language_info": {
   "codemirror_mode": {
    "name": "ipython",
    "version": 3
   },
   "file_extension": ".py",
   "mimetype": "text/x-python",
   "name": "python",
   "nbconvert_exporter": "python",
   "pygments_lexer": "ipython3",
   "version": "3.11.4"
  }
 },
 "nbformat": 4,
 "nbformat_minor": 5
}
