{
 "cells": [
  {
   "cell_type": "markdown",
   "id": "519f4790-aaaa-42ca-9370-186209e65c4a",
   "metadata": {},
   "source": [
    "<h1> Set-up </h1>"
   ]
  },
  {
   "cell_type": "code",
   "execution_count": 1,
   "id": "b111544d-f027-4cee-a28b-104400d3458b",
   "metadata": {},
   "outputs": [],
   "source": [
    "import os\n",
    "import sys\n",
    "import json\n",
    "import openai\n",
    "from langchain.tools import tool\n",
    "from pydantic.v1 import BaseModel, Field\n",
    "from IPython.display import display, HTML\n",
    "from langchain.chat_models import ChatOpenAI\n",
    "from langchain.schema.agent import AgentFinish\n",
    "from langchain.prompts import ChatPromptTemplate\n",
    "from langchain.prompts import MessagesPlaceholder\n",
    "from langchain.agents.format_scratchpad import format_to_openai_functions\n",
    "from langchain.agents.output_parsers import OpenAIFunctionsAgentOutputParser\n",
    "from langchain_core.utils.function_calling import convert_to_openai_function\n",
    "sys.path.append('../..')"
   ]
  },
  {
   "cell_type": "code",
   "execution_count": 2,
   "id": "1aee55bf-97c3-482f-82b0-5e8ee8875957",
   "metadata": {},
   "outputs": [],
   "source": [
    "# Setting your personal OPENAI Api Key\n",
    "openai.api_key = os.environ['OPENAI_API_KEY']"
   ]
  },
  {
   "cell_type": "markdown",
   "id": "5ab0c62f-dbfe-4e50-8ea3-0b959df9be5a",
   "metadata": {},
   "source": [
    "<h1> Initializing Tools </h1>"
   ]
  },
  {
   "cell_type": "code",
   "execution_count": 3,
   "id": "d3e29423-eda9-46de-a53e-e792939e4270",
   "metadata": {},
   "outputs": [],
   "source": [
    "class Design_logo_input(BaseModel):\n",
    "    topic: str = Field(..., description=\"The topic for which the logo should be designed for. For example, if the topic were 'ice-cream shop' then the logo returned would be a logo fit for the ice-cream shop to put on their sign and merchandise.\")\n",
    "\n",
    "@tool(args_schema=Design_logo_input)\n",
    "def design_logo_concepts(topic: str) -> str:\n",
    "    \"\"\"Returns the url for a logo design that is based on the provided topic\"\"\"\n",
    "    # Currently a very empty function\n",
    "    return f\"s3://designs/logo_{len(topic)%5+1}.jpg\""
   ]
  },
  {
   "cell_type": "code",
   "execution_count": 4,
   "id": "5adfdc74-9ef8-412c-b726-7af14234d593",
   "metadata": {},
   "outputs": [],
   "source": [
    "class UI_Output_Request(BaseModel):\n",
    "    inpt: str = Field(... , description=f\"A description of the UI function you want and how you would call it along with the arguments you would use\")\n",
    "\n",
    "@tool(args_schema=UI_Output_Request)\n",
    "def ui_output_request(inpt: str) -> str:\n",
    "    \"\"\"Provides a convenient way for you to describe what UI function you want and what to call it with without actually calling a UI function.\"\"\"\n",
    "    return inpt"
   ]
  },
  {
   "cell_type": "code",
   "execution_count": 5,
   "id": "b6df5894-28d6-42d8-8de8-91c494fcc61b",
   "metadata": {},
   "outputs": [],
   "source": [
    "class Product_UI_input(BaseModel):\n",
    "    path: str = Field(... , description=f\"The path of the image for the UI page. If no image is wanted or required provide an empty string.\")\n",
    "\n",
    "@tool(args_schema=Product_UI_input)\n",
    "def produce_image_UI(path: str) -> str:\n",
    "    \"\"\"This is a UI function. Produces the JSON for a general UI page about an image.\"\"\"\n",
    "    data = {\"component\":\"Image\", \"props\":{\"url\":path}}\n",
    "    return  json.dumps(data)            "
   ]
  },
  {
   "cell_type": "markdown",
   "id": "9b00a3ae-4268-4fcf-88e7-f9119fd623a9",
   "metadata": {},
   "source": [
    "<h1> Registering Tools </h1>"
   ]
  },
  {
   "cell_type": "code",
   "execution_count": 6,
   "id": "65107d1d-f7f7-4083-8b05-267b22cfa3bf",
   "metadata": {},
   "outputs": [],
   "source": [
    "tools = [design_logo_concepts]\n",
    "functions = [convert_to_openai_function(f) for f in tools]"
   ]
  },
  {
   "cell_type": "code",
   "execution_count": 7,
   "id": "bca7ea53-d733-4b40-af92-96384dce51eb",
   "metadata": {},
   "outputs": [],
   "source": [
    "ui_tools = [produce_image_UI]\n",
    "ui_functions = [convert_to_openai_function(f) for f in ui_tools]"
   ]
  },
  {
   "cell_type": "code",
   "execution_count": 8,
   "id": "7255906a-a58d-452c-af65-e15256faece9",
   "metadata": {},
   "outputs": [],
   "source": [
    "tool_dictionary = {\n",
    "        \"design_logo_concepts\": design_logo_concepts\n",
    "    }"
   ]
  },
  {
   "cell_type": "code",
   "execution_count": 9,
   "id": "f8116cde-8dcf-435a-86e6-aa3f706accd2",
   "metadata": {},
   "outputs": [],
   "source": [
    "ui_tool_dictionary = {\n",
    "    \"produce_image_UI\": produce_image_UI\n",
    "}"
   ]
  },
  {
   "cell_type": "markdown",
   "id": "53b705b4-7e85-4f76-ae8f-7f9e9177298f",
   "metadata": {},
   "source": [
    "<h1> Setting up LLM Prompts </h1>"
   ]
  },
  {
   "cell_type": "code",
   "execution_count": 128,
   "id": "273b5488-214c-4ece-bdb8-1af2317310b9",
   "metadata": {},
   "outputs": [],
   "source": [
    "agent_system_message = \"You are helpful assistant.\""
   ]
  },
  {
   "cell_type": "code",
   "execution_count": 129,
   "id": "c5cea0ea-cc8b-4991-9048-9d8a10963208",
   "metadata": {},
   "outputs": [],
   "source": [
    "cognitivie_ui_instruction_I = \"Should the output to the following prompt be a html page or text? Answer 'Yes' if you think a html page\" +\\\n",
    "    \" is an appropriate option and 'No' if text is enough. The prompt is as follows:\""
   ]
  },
  {
   "cell_type": "code",
   "execution_count": 130,
   "id": "c3489a20-a28c-4615-b06e-5f7d1aa5c50e",
   "metadata": {},
   "outputs": [],
   "source": [
    "cognitive_ui_instruction_UI = \"Your task is to choose a function from the available options that best matches your ideal UI page\" +\\\n",
    "    \" that will serve as output for information from the scratch pad. Return a function call to it with the appropriate arguments\" +\\\n",
    "    \" and nothing else.\""
   ]
  },
  {
   "cell_type": "code",
   "execution_count": 131,
   "id": "d9258b82-889b-495b-b8f7-74f2628a39cd",
   "metadata": {},
   "outputs": [],
   "source": [
    "cognitive_ui_instruction_html = \"Your task is to present the information from the scratch pad in html. Produce fully functioning\" +\\\n",
    "    \" and standalone html code (i.e. no references to images you don't have but feel free to use image references from the scratch\" +\\\n",
    "    \" pad but if there are no image references in the scratch pad don't make them up) that I can take and output immediately with no edits.\" +\\\n",
    "    \"Return only the html code, and nothing else. Do not provide any commentary about the code or any of your commands.\""
   ]
  },
  {
   "cell_type": "code",
   "execution_count": 132,
   "id": "6d326449-4f28-487c-b6ed-f4bd9bc09833",
   "metadata": {},
   "outputs": [],
   "source": [
    "cognitive_ui_instruction_text = \"Answer what is in the scratchpad. Do not comment on this instruction.\""
   ]
  },
  {
   "cell_type": "markdown",
   "id": "26f9b88d-89d8-45ed-9cf1-5249c0e028af",
   "metadata": {},
   "source": [
    "<h1> Initializing Chains + Agent </h1>"
   ]
  },
  {
   "cell_type": "code",
   "execution_count": 133,
   "id": "4f7b33ba-2f41-4dc7-9b9e-b674a48927b8",
   "metadata": {},
   "outputs": [],
   "source": [
    "gpt_version = \"gpt-3.5-turbo\""
   ]
  },
  {
   "cell_type": "code",
   "execution_count": 134,
   "id": "70348d46-1b2e-4217-8ed1-f7b83b6d0ab9",
   "metadata": {},
   "outputs": [],
   "source": [
    "init_prompt_model = ChatOpenAI(model_name= gpt_version, temperature=0).bind(functions=functions)\n",
    "cognitive_ui_model = ChatOpenAI(model_name=gpt_version, temperature=0).bind(functions=ui_functions)\n",
    "no_func_model = ChatOpenAI(model_name=gpt_version, temperature=0)"
   ]
  },
  {
   "cell_type": "code",
   "execution_count": 135,
   "id": "227d1eda-1ff8-464e-98ef-ddd336d5a70d",
   "metadata": {},
   "outputs": [],
   "source": [
    "prompt = ChatPromptTemplate.from_messages([\n",
    "    (\"system\", agent_system_message),\n",
    "    (\"user\", \"{input}\"),\n",
    "    MessagesPlaceholder(variable_name=\"agent_scratchpad\")\n",
    "])"
   ]
  },
  {
   "cell_type": "code",
   "execution_count": 136,
   "id": "9f3a640b-3374-438f-b88a-420c363bfc0c",
   "metadata": {},
   "outputs": [],
   "source": [
    "init_prompt_chain = prompt | init_prompt_model | OpenAIFunctionsAgentOutputParser()\n",
    "cognitivie_ui_chain =  prompt | cognitive_ui_model | OpenAIFunctionsAgentOutputParser()\n",
    "no_func_chain = prompt | no_func_model | OpenAIFunctionsAgentOutputParser()"
   ]
  },
  {
   "cell_type": "markdown",
   "id": "7d890c8a-e627-4d97-b212-cb42ecddda03",
   "metadata": {},
   "source": [
    "<h1> UI Output Generators </h1>"
   ]
  },
  {
   "cell_type": "code",
   "execution_count": 137,
   "id": "8ca07222-4008-47e5-b601-6679c0f301b3",
   "metadata": {},
   "outputs": [],
   "source": [
    "def produce_ui_output(user_input, intermediate_steps):\n",
    "    result = cognitivie_ui_chain.invoke({\n",
    "        \"input\": cognitive_ui_instruction_UI,\n",
    "        \"agent_scratchpad\": format_to_openai_functions(intermediate_steps) + [user_input]\n",
    "    })\n",
    "    tool = ui_tool_dictionary[result.tool]\n",
    "    observation = tool.run(result.tool_input)\n",
    "    return observation"
   ]
  },
  {
   "cell_type": "code",
   "execution_count": 138,
   "id": "128e76d3-54d8-47d4-9b92-0a023072a10f",
   "metadata": {},
   "outputs": [],
   "source": [
    "def produce_html(user_input, intermediate_steps):\n",
    "    result = no_func_chain.invoke({\n",
    "        \"input\": cognitive_ui_instruction_html,\n",
    "        \"agent_scratchpad\": format_to_openai_functions(intermediate_steps) + [user_input]\n",
    "    })\n",
    "    return result"
   ]
  },
  {
   "cell_type": "markdown",
   "id": "5563a57b-c09a-460e-9f19-ccccee19178e",
   "metadata": {},
   "source": [
    "<h1> Agent Runnable </h1>"
   ]
  },
  {
   "cell_type": "code",
   "execution_count": 139,
   "id": "10d03ead-af68-436d-a668-2077b5225b3a",
   "metadata": {},
   "outputs": [],
   "source": [
    "def run_agent(user_input, ui_producer=produce_ui_output):\n",
    "    \"\"\"\n",
    "    Runs the UI agent which will return a tuple of (LLM Response, Is it calling a UI Function)\n",
    "    \"\"\"\n",
    "    intermediate_steps = []\n",
    "    result = init_prompt_chain.invoke({\n",
    "        \"input\": user_input,\n",
    "        \"agent_scratchpad\": format_to_openai_functions(intermediate_steps)\n",
    "    })\n",
    "    # Are we calling the functions?\n",
    "    if not isinstance(result, AgentFinish):\n",
    "        # Run first non-UI function\n",
    "        tool = tool_dictionary[result.tool]\n",
    "        observation = tool.run(result.tool_input)\n",
    "        intermediate_steps.append((result, observation))\n",
    "    # Cognitive UI Steps\n",
    "    result = no_func_chain.invoke({\n",
    "        \"input\": cognitivie_ui_instruction_I + user_input,\n",
    "        \"agent_scratchpad\": []\n",
    "    })\n",
    "    print(result)\n",
    "    if result.log.lower() == \"yes\":\n",
    "        return ui_producer(user_input, intermediate_steps) , True\n",
    "    else:\n",
    "        result = no_func_chain.invoke({\n",
    "            \"input\": cognitive_ui_instruction_text,\n",
    "            \"agent_scratchpad\": [user_input]\n",
    "        })\n",
    "        return result.log, False\n",
    "        "
   ]
  },
  {
   "cell_type": "markdown",
   "id": "3a247208-f77a-41bc-bbbf-b70302d90a02",
   "metadata": {},
   "source": [
    "<h1>Testing</h1>"
   ]
  },
  {
   "cell_type": "code",
   "execution_count": 140,
   "id": "cb07dbd5-94eb-4b76-ae37-f38467f2f94f",
   "metadata": {},
   "outputs": [
    {
     "name": "stdout",
     "output_type": "stream",
     "text": [
      "return_values={'output': 'No'} log='No'\n",
      "('Hello! How can I assist you today?', False)\n"
     ]
    }
   ],
   "source": [
    "print(run_agent(\"Hello!\"))"
   ]
  },
  {
   "cell_type": "code",
   "execution_count": 141,
   "id": "8897b2b2-13ac-4a27-832e-ee6e666966c8",
   "metadata": {},
   "outputs": [
    {
     "name": "stdout",
     "output_type": "stream",
     "text": [
      "return_values={'output': 'Yes'} log='Yes'\n",
      "('{\"component\": \"Image\", \"props\": {\"url\": \"s3://designs/logo_3.jpg\"}}', True)\n"
     ]
    }
   ],
   "source": [
    "print(run_agent(\"Design me a big red logo\"))"
   ]
  },
  {
   "cell_type": "code",
   "execution_count": 142,
   "id": "47adf1a6-fa52-44db-8209-dd553cffedf3",
   "metadata": {},
   "outputs": [
    {
     "name": "stdout",
     "output_type": "stream",
     "text": [
      "return_values={'output': 'No'} log='No'\n",
      "('Cornell University is a prestigious Ivy League institution located in Ithaca, New York. It was founded in 1865 and is known for its exceptional academic programs, rigorous curriculum, and diverse student body. Cornell offers a wide range of undergraduate and graduate programs across various fields of study, including arts and sciences, engineering, business, agriculture, architecture, and more.\\n\\nThe nickname \"Big Red\" refers to Cornell\\'s athletic teams, which compete in the NCAA Division I Ivy League conference. The university\\'s sports teams are known for their competitive spirit and have a strong following among students and alumni. The nickname is also reflected in the university\\'s official colors, which are carnelian red and white.\\n\\nCornell University is renowned for its commitment to research and innovation. It is home to numerous research centers and institutes, and its faculty and students have made significant contributions to various fields, including science, technology, engineering, and social sciences.\\n\\nOverall, Cornell University is recognized as one of the top universities in the world, offering a rich academic experience, vibrant campus life, and a strong sense of community.', False)\n"
     ]
    }
   ],
   "source": [
    "print(run_agent(\"Tell me a bit about Cornell University, I hear they are also reffered to as Big Red.\"))"
   ]
  },
  {
   "cell_type": "code",
   "execution_count": 143,
   "id": "fed37598-a70e-4533-a1f2-121311ec0605",
   "metadata": {
    "scrolled": true
   },
   "outputs": [
    {
     "name": "stdout",
     "output_type": "stream",
     "text": [
      "return_values={'output': 'Yes'} log='Yes'\n",
      "('{\"component\": \"Image\", \"props\": {\"url\": \"s3://designs/logo_5.jpg\"}}', True)\n"
     ]
    }
   ],
   "source": [
    "print(run_agent(\"Make me a nice UI page about the movie 'Dune'\"))"
   ]
  },
  {
   "cell_type": "markdown",
   "id": "96b98af9-a90c-4eaa-a594-7b36c88f54c4",
   "metadata": {},
   "source": [
    "<h1> Direct HTML Output by LLM </h1>"
   ]
  },
  {
   "cell_type": "code",
   "execution_count": 144,
   "id": "ab110720-abfa-4e06-9b5a-bfceeda77360",
   "metadata": {},
   "outputs": [
    {
     "name": "stdout",
     "output_type": "stream",
     "text": [
      "return_values={'output': 'Yes'} log='Yes'\n"
     ]
    },
    {
     "data": {
      "text/html": [
       "<!DOCTYPE html>\n",
       "<html>\n",
       "<head>\n",
       "  <title>Big Red Logo</title>\n",
       "</head>\n",
       "<body>\n",
       "  <h1>Big Red Logo</h1>\n",
       "  <img src=\"s3://designs/logo_3.jpg\" alt=\"Big Red Logo\">\n",
       "</body>\n",
       "</html>"
      ],
      "text/plain": [
       "<IPython.core.display.HTML object>"
      ]
     },
     "metadata": {},
     "output_type": "display_data"
    }
   ],
   "source": [
    "html_code = run_agent(\"Design me a big red logo\", produce_html)[0].log\n",
    "display(HTML(html_code))"
   ]
  },
  {
   "cell_type": "code",
   "execution_count": 146,
   "id": "4d14cb7e-a003-415e-937f-18163ccb64c2",
   "metadata": {},
   "outputs": [
    {
     "name": "stdout",
     "output_type": "stream",
     "text": [
      "return_values={'output': 'Yes'} log='Yes'\n"
     ]
    },
    {
     "data": {
      "text/html": [
       "<!DOCTYPE html>\n",
       "<html>\n",
       "<head>\n",
       "  <title>Christian Bale Movies</title>\n",
       "  <style>\n",
       "    body {\n",
       "      font-family: Arial, sans-serif;\n",
       "      background-color: #f2f2f2;\n",
       "      margin: 0;\n",
       "      padding: 20px;\n",
       "    }\n",
       "    h1 {\n",
       "      color: #333333;\n",
       "      text-align: center;\n",
       "    }\n",
       "    .movie {\n",
       "      display: flex;\n",
       "      margin-bottom: 20px;\n",
       "      background-color: #ffffff;\n",
       "      border-radius: 5px;\n",
       "      padding: 10px;\n",
       "    }\n",
       "    .movie img {\n",
       "      width: 150px;\n",
       "      height: 200px;\n",
       "      object-fit: cover;\n",
       "      border-radius: 5px;\n",
       "      margin-right: 10px;\n",
       "    }\n",
       "    .movie-info {\n",
       "      flex-grow: 1;\n",
       "    }\n",
       "    .movie-title {\n",
       "      font-size: 20px;\n",
       "      font-weight: bold;\n",
       "      color: #333333;\n",
       "      margin-bottom: 5px;\n",
       "    }\n",
       "    .movie-description {\n",
       "      color: #666666;\n",
       "      margin-bottom: 10px;\n",
       "    }\n",
       "    .movie-link {\n",
       "      color: #007bff;\n",
       "      text-decoration: none;\n",
       "    }\n",
       "  </style>\n",
       "</head>\n",
       "<body>\n",
       "  <h1>Christian Bale Movies</h1>\n",
       "  \n",
       "  <div class=\"movie\">\n",
       "    <img src=\"s3://designs/logo_2.jpg\" alt=\"Movie Poster\">\n",
       "    <div class=\"movie-info\">\n",
       "      <h2 class=\"movie-title\">The Dark Knight</h2>\n",
       "      <p class=\"movie-description\">The Dark Knight is a 2008 superhero film directed by Christopher Nolan. It is the second installment of Nolan's Batman film trilogy and stars Christian Bale as Batman.</p>\n",
       "      <a class=\"movie-link\" href=\"https://www.imdb.com/title/tt0468569/\">IMDB Link</a>\n",
       "    </div>\n",
       "  </div>\n",
       "  \n",
       "  <div class=\"movie\">\n",
       "    <img src=\"s3://designs/logo_2.jpg\" alt=\"Movie Poster\">\n",
       "    <div class=\"movie-info\">\n",
       "      <h2 class=\"movie-title\">American Psycho</h2>\n",
       "      <p class=\"movie-description\">American Psycho is a 2000 psychological horror film directed by Mary Harron. Christian Bale plays the role of Patrick Bateman, a wealthy investment banker and serial killer.</p>\n",
       "      <a class=\"movie-link\" href=\"https://www.imdb.com/title/tt0144084/\">IMDB Link</a>\n",
       "    </div>\n",
       "  </div>\n",
       "  \n",
       "  <div class=\"movie\">\n",
       "    <img src=\"s3://designs/logo_2.jpg\" alt=\"Movie Poster\">\n",
       "    <div class=\"movie-info\">\n",
       "      <h2 class=\"movie-title\">The Prestige</h2>\n",
       "      <p class=\"movie-description\">The Prestige is a 2006 mystery thriller film directed by Christopher Nolan. Christian Bale stars as Alfred Borden, a stage magician in London during the late 1800s.</p>\n",
       "      <a class=\"movie-link\" href=\"https://www.imdb.com/title/tt0482571/\">IMDB Link</a>\n",
       "    </div>\n",
       "  </div>\n",
       "  \n",
       "  <div class=\"movie\">\n",
       "    <img src=\"s3://designs/logo_2.jpg\" alt=\"Movie Poster\">\n",
       "    <div class=\"movie-info\">\n",
       "      <h2 class=\"movie-title\">The Fighter</h2>\n",
       "      <p class=\"movie-description\">The Fighter is a 2010 biographical sports drama film directed by David O. Russell. Christian Bale portrays Dicky Eklund, a former professional boxer and the half-brother of the film's protagonist.</p>\n",
       "      <a class=\"movie-link\" href=\"https://www.imdb.com/title/tt0964517/\">IMDB Link</a>\n",
       "    </div>\n",
       "  </div>\n",
       "  \n",
       "</body>\n",
       "</html>"
      ],
      "text/plain": [
       "<IPython.core.display.HTML object>"
      ]
     },
     "metadata": {},
     "output_type": "display_data"
    }
   ],
   "source": [
    "user_input = \"Provide me with a colorful list of all the movies Christain Bale played in along with links\" +\\\n",
    "    \" to them in IMDB and pictures and a short description\"\n",
    "html_code = run_agent(user_input, produce_html)[0].log\n",
    "display(HTML(html_code))"
   ]
  },
  {
   "cell_type": "code",
   "execution_count": 149,
   "id": "781ef577-656f-4506-b858-22a6db2bb0f8",
   "metadata": {},
   "outputs": [
    {
     "name": "stdout",
     "output_type": "stream",
     "text": [
      "<!DOCTYPE html>\n",
      "<html>\n",
      "<head>\n",
      "  <title>Milk Chocolate Ad</title>\n",
      "  <style>\n",
      "    body {\n",
      "      background-color: #f5f5f5;\n",
      "      font-family: Arial, sans-serif;\n",
      "    }\n",
      "    .container {\n",
      "      max-width: 800px;\n",
      "      margin: 0 auto;\n",
      "      padding: 20px;\n",
      "      background-color: #fff;\n",
      "      box-shadow: 0 0 10px rgba(0, 0, 0, 0.1);\n",
      "    }\n",
      "    h1 {\n",
      "      text-align: center;\n",
      "      color: #8b4513;\n",
      "    }\n",
      "    .ad-image {\n",
      "      display: block;\n",
      "      margin: 20px auto;\n",
      "      max-width: 600px;\n",
      "    }\n",
      "    .ad-text {\n",
      "      text-align: center;\n",
      "      color: #8b4513;\n",
      "      font-size: 20px;\n",
      "      margin-bottom: 20px;\n",
      "    }\n",
      "    .cta-button {\n",
      "      display: inline-block;\n",
      "      padding: 10px 20px;\n",
      "      background-color: #8b4513;\n",
      "      color: #fff;\n",
      "      text-decoration: none;\n",
      "      font-weight: bold;\n",
      "      border-radius: 5px;\n",
      "    }\n",
      "  </style>\n",
      "</head>\n",
      "<body>\n",
      "  <div class=\"container\">\n",
      "    <h1>Milk Chocolate</h1>\n",
      "    <img src=\"s3://designs/logo_5.jpg\" alt=\"Milk Chocolate\" class=\"ad-image\">\n",
      "    <p class=\"ad-text\">Indulge in the rich and creamy taste of our milk chocolate!</p>\n",
      "    <p class=\"ad-text\">Try it now and experience pure bliss.</p>\n",
      "    <p class=\"ad-text\">Get yours today!</p>\n",
      "    <div style=\"text-align: center;\">\n",
      "      <a href=\"#\" class=\"cta-button\">Shop Now</a>\n",
      "    </div>\n",
      "  </div>\n",
      "</body>\n",
      "</html>\n",
      "return_values={'output': 'Yes'} log='Yes'\n"
     ]
    },
    {
     "data": {
      "text/html": [
       "<!DOCTYPE html>\n",
       "<html>\n",
       "<head>\n",
       "  <title>Milk Chocolate Ad</title>\n",
       "  <style>\n",
       "    body {\n",
       "      background-color: #F5F5F5;\n",
       "      font-family: Arial, sans-serif;\n",
       "    }\n",
       "    .container {\n",
       "      max-width: 800px;\n",
       "      margin: 0 auto;\n",
       "      padding: 20px;\n",
       "      background-color: #FFFFFF;\n",
       "      box-shadow: 0 0 10px rgba(0, 0, 0, 0.1);\n",
       "    }\n",
       "    h1 {\n",
       "      text-align: center;\n",
       "      color: #8B4513;\n",
       "    }\n",
       "    .ad-image {\n",
       "      display: block;\n",
       "      margin: 20px auto;\n",
       "      max-width: 600px;\n",
       "    }\n",
       "    .ad-text {\n",
       "      text-align: center;\n",
       "      color: #8B4513;\n",
       "      font-size: 20px;\n",
       "      margin-bottom: 20px;\n",
       "    }\n",
       "    .cta-button {\n",
       "      display: inline-block;\n",
       "      padding: 10px 20px;\n",
       "      background-color: #8B4513;\n",
       "      color: #FFFFFF;\n",
       "      text-decoration: none;\n",
       "      font-weight: bold;\n",
       "      border-radius: 5px;\n",
       "    }\n",
       "  </style>\n",
       "</head>\n",
       "<body>\n",
       "  <div class=\"container\">\n",
       "    <h1>Milk Chocolate</h1>\n",
       "    <img src=\"s3://designs/logo_5.jpg\" alt=\"Milk Chocolate\" class=\"ad-image\">\n",
       "    <p class=\"ad-text\">Indulge in the rich and creamy taste of our milk chocolate!</p>\n",
       "    <p class=\"ad-text\">Try it now and experience pure bliss.</p>\n",
       "    <p class=\"ad-text\">Limited time offer!</p>\n",
       "    <a href=\"#\" class=\"cta-button\">Shop Now</a>\n",
       "  </div>\n",
       "</body>\n",
       "</html>"
      ],
      "text/plain": [
       "<IPython.core.display.HTML object>"
      ]
     },
     "metadata": {},
     "output_type": "display_data"
    }
   ],
   "source": [
    "user_input = \"Make me a colorful ad for a milk chocolate product I am making.\"\n",
    "print(html_code)\n",
    "html_code = run_agent(user_input, produce_html)[0].log\n",
    "display(HTML(html_code))"
   ]
  },
  {
   "cell_type": "markdown",
   "id": "f59a0dff-a032-4793-9541-f4545ca66d83",
   "metadata": {},
   "source": [
    "<h1>Conclusions</h1>"
   ]
  },
  {
   "cell_type": "markdown",
   "id": "7ef780f9-6352-4386-93fb-7dacbd250a50",
   "metadata": {},
   "source": [
    "<h3> Analysis of following 'Should the output be UI?' (2/16/2024) </h3> \n",
    "I have discovered that giving ChatGPT a long and complicated write-up followed by options followed by the expectation to execute one of the options resulted in tremendously poor decision making (almost always choosing the first option). I have had more success with reducing the mental difficulty of each query into first a simple yes/no question and then dealing with each option separately depending on the answer. An interesting trait I've detected that even with the yes/no question ChatGPT is more likely to say no when the user direclty asks for a UI page/output and more likely to say yes to prompts asking for explanation/description (i.e. 'Tell me what Cornell is?'). In any case, the prompt's wording is incredibly important and has to be fine-tuned to not make the model always say 'Yes'(UI output would be better) as ChatGPT does have a bias towards choosing the UI output format. One reason for this is that ChatGPT has a pre-disposition to be helpful and optimistic so when your prompt includes phrases like 'benefits the user' (which mine does) it is more likely to agree as to benefit the user the most, even if it is overkill. That being said, it becomes very cautious on long prompts and is difficult to persuade to choose the UI option (Laziness?). Interestingly enough, it is more likely to say yes when it has some former function call in its scratchpad.\n",
    "<br/><br/>\n",
    "Interestingly enough, it is far more likely to say yes to a UI format for a complicated prompt when you make it pretend it is a customer. As soon as you put in a command word like 'Make' it largely ignores the Yes/No question and answers directly. Telling it is an all powerful LLM makes it say yes to the UI page every time.\n",
    "<br/><br/>\n",
    "The system message, I realized, is incredibly powerful and the LLM's answers depend significantly on what is in the system message.\n",
    "<br/><br/>\n",
    "Putting the prompt or scratchpad info at the end makes the LLM much more likely to answer the question at hand than start concentrating on what the scratchpad is asking. This indicates it places heavy emphasis on commands that come first."
   ]
  },
  {
   "cell_type": "markdown",
   "id": "dfa80d02-00da-44e6-8328-b2c82d983179",
   "metadata": {},
   "source": [
    "<h3>Analysis of the initial attempt to make the LLM produce its own HTML code directly (2/16/2024)</h3>\n",
    "\n",
    "In general it is able to construct a simple html file quite well. I had to give it explicit instructions to not comment or talk about the code as it has a big tendency to explain what it is doing (possibly a sign of its fine-tuned cautiosness). Even for a long prompt, the smallest and seemingly inconsequential changes made it change its html output completely and even though it was explicitly told to not hallucinate image references it struggled with this command in particular.\n",
    "<br/><br/>\n",
    "It also fails to grasp all the details of the prompt. If I say I want a colorful list then it tends to ignore it but has the ability to make very nice html pages that reflect the main points of my request (look at the Christian Bale output above). It is smart enough to make dummy buttons and knows not to make up random links to connect the button to.\n",
    "<br/><br/>\n",
    "Very impressively, even though it was never explicitly told to do so, it proactively made CSS styles."
   ]
  },
  {
   "cell_type": "code",
   "execution_count": null,
   "id": "42aaeed9-78ea-4cc6-9ce6-debd2a005da6",
   "metadata": {},
   "outputs": [],
   "source": []
  }
 ],
 "metadata": {
  "kernelspec": {
   "display_name": "Python 3 (ipykernel)",
   "language": "python",
   "name": "python3"
  },
  "language_info": {
   "codemirror_mode": {
    "name": "ipython",
    "version": 3
   },
   "file_extension": ".py",
   "mimetype": "text/x-python",
   "name": "python",
   "nbconvert_exporter": "python",
   "pygments_lexer": "ipython3",
   "version": "3.11.4"
  }
 },
 "nbformat": 4,
 "nbformat_minor": 5
}
