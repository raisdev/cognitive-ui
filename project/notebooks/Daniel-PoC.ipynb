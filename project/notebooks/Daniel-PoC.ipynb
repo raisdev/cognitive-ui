{
 "cells": [
  {
   "cell_type": "markdown",
   "id": "519f4790-aaaa-42ca-9370-186209e65c4a",
   "metadata": {},
   "source": [
    "Set-up"
   ]
  },
  {
   "cell_type": "code",
   "execution_count": null,
   "id": "b111544d-f027-4cee-a28b-104400d3458b",
   "metadata": {},
   "outputs": [],
   "source": [
    "import os\n",
    "import sys\n",
    "import json\n",
    "import openai\n",
    "from langchain.tools import tool\n",
    "from pydantic import BaseModel, Field\n",
    "from langchain.chat_models import ChatOpenAI\n",
    "from langchain.schema.agent import AgentFinish\n",
    "from langchain.prompts import ChatPromptTemplate\n",
    "from langchain.tools.render import format_tool_to_openai_function\n",
    "from langchain.agents.output_parsers import OpenAIFunctionsAgentOutputParser\n",
    "sys.path.append('../..')"
   ]
  },
  {
   "cell_type": "code",
   "execution_count": null,
   "id": "1aee55bf-97c3-482f-82b0-5e8ee8875957",
   "metadata": {},
   "outputs": [],
   "source": [
    "# Setting your personal OPENAI Api Key\n",
    "openai.api_key = os.environ['OPENAI_API_KEY']"
   ]
  },
  {
   "cell_type": "markdown",
   "id": "5ab0c62f-dbfe-4e50-8ea3-0b959df9be5a",
   "metadata": {},
   "source": [
    "Initializing Helpers"
   ]
  },
  {
   "cell_type": "code",
   "execution_count": null,
   "id": "11433795-8f24-45b0-aab1-1f3e2ccda30f",
   "metadata": {},
   "outputs": [],
   "source": [
    "ui_function_identifier = \"This is a UI function\""
   ]
  },
  {
   "cell_type": "code",
   "execution_count": null,
   "id": "d3e29423-eda9-46de-a53e-e792939e4270",
   "metadata": {},
   "outputs": [],
   "source": [
    "class design_logo_input(BaseModel):\n",
    "    topic: str = Field(..., description=\"The topic for which the logo should be designed for. For example, if the topic were 'ice-cream shop' then the logo returned would be a logo fit for the ice-cream shop to put on their sign and merchandise.\")\n",
    "\n",
    "@tool(args_schema=design_logo_input)\n",
    "def design_logo_concepts(topic: str) -> str:\n",
    "    \"\"\"Returns the url for a logo design that is based on the provided topic\"\"\"\n",
    "    # Currently a very empty function\n",
    "    return f\"s3://designs/logo_{len(topic)%5+1}.jpg\""
   ]
  },
  {
   "cell_type": "code",
   "execution_count": null,
   "id": "b6df5894-28d6-42d8-8de8-91c494fcc61b",
   "metadata": {},
   "outputs": [],
   "source": [
    "class product_UI_input(BaseModel):\n",
    "    path: str = Field(... , description=f\"The path of the image for the UI page. If no image is wanted or required provide an empty string.\"\n",
    "\n",
    "@tool(args_schema=product_UI_input)\n",
    "def produce_image_UI(path: str) -> str:\n",
    "    f\"\"\"{ui_function_identifier}. Produces the JSON for a general UI page about an image.\"\"\"\n",
    "    data = {\"component\":\"Image\", \"props\":{\"url\":path}}\n",
    "    return  json.dumps(data)            "
   ]
  },
  {
   "cell_type": "code",
   "execution_count": null,
   "id": "65107d1d-f7f7-4083-8b05-267b22cfa3bf",
   "metadata": {},
   "outputs": [],
   "source": [
    "tools = [design_logo_concepts, produce_image_UI]\n",
    "functions = [format_tool_to_openai_function(f) for f in tools]"
   ]
  },
  {
   "cell_type": "code",
   "execution_count": null,
   "id": "a4a381e8-4ec6-4631-8c31-17c70d6f5454",
   "metadata": {},
   "outputs": [],
   "source": [
    "cognitive_ui_instructions = \"Your task is to take the information from the scratchpad and produce an output in the appropriate\" +\\\n",
    "        \" format. You have two choices, you can either produce a UI page by calling one of the UI functions provided to you (and\" +\\\n",
    "        \" returning the function call) or just output plain text like you are used to. The UI functions are functions that have\" +\\\n",
    "        f\" the phrase '{ui_function_identifier}' in their description, do not use functions that don't have this. If the appropriate\" +\\\n",
    "        \" UI function isn't available, use the closest fitting UI function, lack of appropriate function should not dissuade you\" +\\\n",
    "        \" from choosing the UI output option\""
   ]
  },
  {
   "cell_type": "code",
   "execution_count": null,
   "id": "7255906a-a58d-452c-af65-e15256faece9",
   "metadata": {},
   "outputs": [],
   "source": [
    "tool_dictionary = {\n",
    "        \"design_logo_concepts\": design_logo_concepts,\n",
    "        \"produce_image_UI\": produce_image_UI\n",
    "    }"
   ]
  },
  {
   "cell_type": "markdown",
   "id": "26f9b88d-89d8-45ed-9cf1-5249c0e028af",
   "metadata": {},
   "source": [
    "Initializing Chain + Agent"
   ]
  },
  {
   "cell_type": "code",
   "execution_count": null,
   "id": "70348d46-1b2e-4217-8ed1-f7b83b6d0ab9",
   "metadata": {},
   "outputs": [],
   "source": [
    "model = ChatOpenAI(model_name=\"gpt-3.5-turbo\", temperature=0).bind(functions=functions)\n",
    "prompt = ChatPromptTemplate.from_messages([\n",
    "    (\"system\", \"You are helpful assistant, don't be afraid to use the functions provided to you.\"),\n",
    "    (\"user\", \"{input}\"),\n",
    "    MessagesPlaceholder(variable_name=\"agent_scratchpad\")\n",
    "])\n",
    "chain = prompt | model | OpenAIFunctionsAgentOutputParser()"
   ]
  },
  {
   "cell_type": "code",
   "execution_count": null,
   "id": "10d03ead-af68-436d-a668-2077b5225b3a",
   "metadata": {},
   "outputs": [],
   "source": [
    "def run_agent(user_input):\n",
    "    intermediate_steps = []\n",
    "    result = chain.invoke({\n",
    "        \"input\": user_input,\n",
    "        \"agent_scratchpad\": format_to_openai_functions(intermediate_steps)\n",
    "    })\n",
    "    # Are we calling the functions? (If not we return)\n",
    "    if isinstance(result, AgentFinish):\n",
    "        return result\n",
    "    tool = tool_dictionary[result.tool]\n",
    "    observation = tool.run(result.tool_input)\n",
    "    intermediate_steps.append((result, observation))\n",
    "    # Cognitive UI Steps\n",
    "    result = chain.invoke({\n",
    "        \"input\": cognitive_ui_instructions,\n",
    "        \"agent_scratchpad\": format_to_openai_functions(intermediate_steps)\n",
    "    })\n",
    "    tool = tool_dictionary[result.tool]\n",
    "    observation = tool.run(result.tool_input)\n",
    "    return observation"
   ]
  },
  {
   "cell_type": "markdown",
   "id": "3a247208-f77a-41bc-bbbf-b70302d90a02",
   "metadata": {},
   "source": [
    "Testing"
   ]
  },
  {
   "cell_type": "code",
   "execution_count": null,
   "id": "cb07dbd5-94eb-4b76-ae37-f38467f2f94f",
   "metadata": {},
   "outputs": [],
   "source": []
  }
 ],
 "metadata": {
  "kernelspec": {
   "display_name": "Python 3 (ipykernel)",
   "language": "python",
   "name": "python3"
  },
  "language_info": {
   "codemirror_mode": {
    "name": "ipython",
    "version": 3
   },
   "file_extension": ".py",
   "mimetype": "text/x-python",
   "name": "python",
   "nbconvert_exporter": "python",
   "pygments_lexer": "ipython3",
   "version": "3.11.4"
  }
 },
 "nbformat": 4,
 "nbformat_minor": 5
}
