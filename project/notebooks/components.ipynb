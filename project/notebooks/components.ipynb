{
 "cells": [
  {
   "cell_type": "code",
   "execution_count": 559,
   "id": "13275343-af40-4cce-be4a-972dbdc26947",
   "metadata": {},
   "outputs": [],
   "source": [
    "import os\n",
    "import openai\n",
    "import sys\n",
    "import json\n",
    "import re\n",
    "from IPython.display import display, HTML\n",
    "sys.path.append('../..')"
   ]
  },
  {
   "cell_type": "code",
   "execution_count": 560,
   "id": "72e5ace5-6efe-4916-91c2-1525ede2e0b2",
   "metadata": {},
   "outputs": [],
   "source": [
    "openai.api_key = os.environ['OPENAI_API_KEY']"
   ]
  },
  {
   "cell_type": "code",
   "execution_count": 561,
   "id": "dc431bcc-5b2f-4098-9cc8-9819aae5aada",
   "metadata": {},
   "outputs": [],
   "source": [
    "gpt_version = \"gpt-3.5-turbo\""
   ]
  },
  {
   "cell_type": "markdown",
   "id": "275ee4d7-e202-4cca-8e70-5a566b52a407",
   "metadata": {},
   "source": [
    "## LangChain Imports"
   ]
  },
  {
   "cell_type": "code",
   "execution_count": 562,
   "id": "608c1844-987b-4fb2-a0eb-2600cb6ad654",
   "metadata": {},
   "outputs": [],
   "source": [
    "from langchain.tools import tool\n",
    "from langchain_openai import ChatOpenAI\n",
    "from langchain.prompts import (\n",
    "    ChatPromptTemplate,\n",
    "    HumanMessagePromptTemplate,\n",
    "    MessagesPlaceholder,\n",
    ")\n",
    "from langchain.agents.output_parsers import OpenAIFunctionsAgentOutputParser\n",
    "# function tools\n",
    "from langchain.tools.render import format_tool_to_openai_function\n",
    "from langchain_core.utils.function_calling import convert_to_openai_function\n",
    "from langchain.agents.format_scratchpad import format_to_openai_functions\n",
    "# routing/state/chain\n",
    "from langchain.schema.agent import AgentFinish\n",
    "from langchain.schema.runnable import RunnablePassthrough\n",
    "# memory\n",
    "from langchain.memory import ConversationBufferMemory\n",
    "# agents\n",
    "from langchain.agents import AgentExecutor"
   ]
  },
  {
   "cell_type": "markdown",
   "id": "6cc038a3-e137-49ef-ad96-ec2706674400",
   "metadata": {},
   "source": [
    "## Component and Templates"
   ]
  },
  {
   "cell_type": "code",
   "execution_count": 563,
   "id": "7210a813-e561-4943-be52-32a54821943e",
   "metadata": {},
   "outputs": [],
   "source": [
    "card_html = '''\n",
    "```\n",
    "<!doctype html>\n",
    "<html lang=\"en\">\n",
    "  <head>\n",
    "    <meta charset=\"UTF-8\">\n",
    "    <meta name=\"viewport\" content=\"width=device-width, initial-scale=1, shrink-to-fit=no\">\n",
    "    <meta name=\"description\" content=\"\">\n",
    "    <meta name=\"author\" content=\"\">\n",
    "  \n",
    "\n",
    "    <title>Bootstrap Table</title>\n",
    "    \n",
    "    <link href=\"https://cdn.jsdelivr.net/npm/bootstrap@5.3.3/dist/css/bootstrap.min.css\" rel=\"stylesheet\" integrity=\"sha384-QWTKZyjpPEjISv5WaRU9OFeRpok6YctnYmDr5pNlyT2bRjXh0JMhjY6hW+ALEwIH\" crossorigin=\"anonymous\">\n",
    "   </head>\n",
    "      <body>\n",
    "        <div class=\"row\">\n",
    "            <!-- other classes like col-sm-6 can be used to adjust size-->\n",
    "            <!--      example of one card -->\n",
    "          <div class=\"col-sm-4\">\n",
    "            <div class=\"card\">\n",
    "              <div class=\"card-body\">\n",
    "                <h5 class=\"card-title\">Special title treatment</h5>\n",
    "                <p class=\"card-text\">With supporting text below as a natural lead-in to additional content.</p>\n",
    "                <!-- replace with link to webpage with related content (similar to a \"see more\") -->\n",
    "                <a href=\"#\" class=\"btn btn-primary\">Go somewhere</a>\n",
    "              </div>\n",
    "            </div>\n",
    "          </div>\n",
    "            <!--      add more cards or delete -->\n",
    "        </div>\n",
    "        <script src=\"https://cdn.jsdelivr.net/npm/bootstrap@5.3.3/dist/js/bootstrap.bundle.min.js\" integrity=\"sha384-YvpcrYf0tY3lHB60NNkmXc5s9fDVZLESaAA55NDzOxhy9GkcIdslK1eN7N6jIeHz\" crossorigin=\"anonymous\"></script>\n",
    "    </body>\n",
    "</html>\n",
    "```\n",
    "'''"
   ]
  },
  {
   "cell_type": "code",
   "execution_count": 564,
   "id": "dba8aa29-cb92-45ee-a96b-daf8b171f703",
   "metadata": {
    "jupyter": {
     "source_hidden": true
    }
   },
   "outputs": [],
   "source": [
    "table_html = '''\n",
    "<!doctype html>\n",
    "<html lang=\"en\">\n",
    "  <head>\n",
    "    <meta charset=\"UTF-8\">\n",
    "    <meta name=\"viewport\" content=\"width=device-width, initial-scale=1, shrink-to-fit=no\">\n",
    "    <meta name=\"description\" content=\"\">\n",
    "    <meta name=\"author\" content=\"\">\n",
    "  \n",
    "\n",
    "    <title>Bootstrap Table</title>\n",
    "    \n",
    "    <link href=\"https://cdn.jsdelivr.net/npm/bootstrap@5.3.3/dist/css/bootstrap.min.css\" rel=\"stylesheet\" integrity=\"sha384-QWTKZyjpPEjISv5WaRU9OFeRpok6YctnYmDr5pNlyT2bRjXh0JMhjY6hW+ALEwIH\" crossorigin=\"anonymous\">\n",
    "   </head>\n",
    "  <body>\n",
    "    <div class=\"table-responsive\">\n",
    "    <table class=\"table table-hover\">\n",
    "      <thead class=\"table-dark\">\n",
    "        <tr>\n",
    "          <!--  Add More Column Headings or Change Heading Text -->\n",
    "          <th scope=\"col\">#</th>\n",
    "          <th scope=\"col\">First</th>\n",
    "          <th scope=\"col\">Second</th>\n",
    "          <th scope=\"col\">Third</th>\n",
    "        </tr>\n",
    "      </thead>\n",
    "      <tbody>\n",
    "        <tr>\n",
    "          <!--  Change Cell Text -->\n",
    "          <th scope=\"row\">1</th>\n",
    "          <td>Text</td>\n",
    "          <td>Text</td>\n",
    "          <td>Text</td>\n",
    "        </tr>\n",
    "        <tr>\n",
    "          <th scope=\"row\">2</th>\n",
    "          <td>Text</td>\n",
    "          <td>Text</td>\n",
    "          <td>Text</td>\n",
    "        </tr>\n",
    "        <tr>\n",
    "          <th scope=\"row\">3</th>\n",
    "          <td>Text</td>\n",
    "          <td>Text</td>\n",
    "          <td>Text</td>\n",
    "        </tr>\n",
    "      </tbody>\n",
    "    </table>\n",
    "    \n",
    "    <table class=\"table table-hover\">\n",
    "      <thead class=\"table-light\">\n",
    "        <tr>\n",
    "          <th scope=\"col\">#</th>\n",
    "          <th scope=\"col\">First</th>\n",
    "          <th scope=\"col\">Second</th>\n",
    "          <th scope=\"col\">Third</th>\n",
    "        </tr>\n",
    "      </thead>\n",
    "      <tbody>\n",
    "        <tr>\n",
    "          <th scope=\"row\">1</th>\n",
    "          <td>Text</td>\n",
    "          <td>Text</td>\n",
    "          <td>Text</td>\n",
    "        </tr>\n",
    "        <tr>\n",
    "          <th scope=\"row\">2</th>\n",
    "          <td>Text</td>\n",
    "          <td>Text</td>\n",
    "          <td>Text</td>\n",
    "        </tr>\n",
    "        <tr>\n",
    "          <th scope=\"row\">3</th>\n",
    "          <td>Text</td>\n",
    "          <td>Text</td>\n",
    "          <td>Text</td>\n",
    "        </tr>\n",
    "        <!--   Delete or Add more rows -->\n",
    "      </tbody>\n",
    "        <!--   Add more tables -->\n",
    "      </div>\n",
    "      <script src=\"https://cdn.jsdelivr.net/npm/bootstrap@5.3.3/dist/js/bootstrap.bundle.min.js\" integrity=\"sha384-YvpcrYf0tY3lHB60NNkmXc5s9fDVZLESaAA55NDzOxhy9GkcIdslK1eN7N6jIeHz\" crossorigin=\"anonymous\"></script>\n",
    "      </body>\n",
    "    </table>\n",
    "</html>\n",
    "'''"
   ]
  },
  {
   "cell_type": "code",
   "execution_count": 565,
   "id": "b670e940-5aa0-4eb7-990e-b6897764f240",
   "metadata": {},
   "outputs": [],
   "source": [
    "table_instructions = '''\n",
    "Make sure text cells look interactive and clean.\n",
    "Provide the option on the header cells to sort by column.\n",
    "\n",
    "Make sure the number of rows and columns align with the content.\n",
    "\n",
    "Data tables should contain:\n",
    "    - Interactive components (such as chips, buttons, or menus)\n",
    "    - Non-interactive elements (such as badges)\n",
    "    - Tools to query and manipulate data such\n",
    "'''"
   ]
  },
  {
   "cell_type": "code",
   "execution_count": 566,
   "id": "98b60366-746a-43c2-96e8-6ea40dbbbb8a",
   "metadata": {},
   "outputs": [],
   "source": [
    "def html_instructions(component_specific_instructions = \"\"):\n",
    "    return f'''You are given a HTML template in triple backticks. \n",
    "    Your task is to use the HTML template code and generate ONLY valid HTML code such that the user input is being used as the content.\n",
    "    Valid HTML must start with <!DOCTYPE html> tag. You should adjust the CSS classes used to adapt to the content and\n",
    "    when modifying the CSS/style of the template, you should use bootstrap classes.\n",
    "    \n",
    "    {component_specific_instructions}\n",
    "    \n",
    "    User Input (content):\n",
    "    '''"
   ]
  },
  {
   "cell_type": "markdown",
   "id": "ffaf7328-d540-4585-b71d-877460437e87",
   "metadata": {},
   "source": [
    "## Tools"
   ]
  },
  {
   "cell_type": "code",
   "execution_count": 567,
   "id": "f7034fe1-71f2-4c7c-8b77-13722e498203",
   "metadata": {},
   "outputs": [],
   "source": [
    "html_pattern = re.compile(r'<!DOCTYPE html>.*?</html>', re.DOTALL)"
   ]
  },
  {
   "cell_type": "code",
   "execution_count": 568,
   "id": "89901fe0-de91-4e55-843b-172ebc2df1e5",
   "metadata": {},
   "outputs": [],
   "source": [
    "def render_html(code):\n",
    "    html_match = html_pattern.search(code)\n",
    "    if html_match:\n",
    "        display(HTML(html_match.group(0)))"
   ]
  },
  {
   "cell_type": "code",
   "execution_count": 575,
   "id": "53d3bf1e-f684-4bc9-8fe0-50760e873c0f",
   "metadata": {},
   "outputs": [],
   "source": [
    "@tool\n",
    "def make_card(information: str) -> str:\n",
    "    \"\"\"A card is helpful when you want to display several to many options or suggestions to the user and \n",
    "    provide visuals and descriptions for each option.\n",
    "\n",
    "    Use a card to display content and actions on a single topic.\n",
    "\n",
    "    Cards should be easy to scan for relevant and actionable information. \n",
    "    Elements like text and images should be placed on cards in a way that clearly indicates hierarchy.\n",
    "\n",
    "    The output is HTML code.\n",
    "    \"\"\"\n",
    "    print(\"card tool called\")\n",
    "    prompt = ChatPromptTemplate.from_messages([\n",
    "            SystemMessage(content=card_html + html_instructions()\n",
    "        ),  # The persistent system prompt\n",
    "        \n",
    "        HumanMessagePromptTemplate.from_template(\n",
    "            \"{human_input}\"\n",
    "        ),  # Where the human input will injected\n",
    "    ])\n",
    "\n",
    "    llm = ChatOpenAI(model_name=gpt_version, temperature = 0)\n",
    "    chat_llm_chain = LLMChain(\n",
    "        llm=llm,\n",
    "        prompt=prompt,\n",
    "        verbose=False,\n",
    "    )\n",
    "    o = chat_llm_chain.predict(human_input=information)\n",
    "    render_html(o)\n",
    "    return \"cards are generated\""
   ]
  },
  {
   "cell_type": "code",
   "execution_count": 576,
   "id": "8b376ba7-2c64-44e1-998a-ff1b0069a217",
   "metadata": {},
   "outputs": [],
   "source": [
    "@tool\n",
    "def make_table(information: str) -> str:\n",
    "    \"\"\"Tables can be a useful for presenting related content. A table is made of cells organized in rows and columns. \n",
    "    Heading cells tell you about the information they introduce. Table data cells provide the specific information.\n",
    "\n",
    "    Data tables display information in a grid-like format of rows and columns. \n",
    "    They organize information in a way that’s easy to scan so that users can look for patterns and develop insights from data.\n",
    "\n",
    "    The output is HTML code for the Table.\n",
    "    \"\"\"\n",
    "    print(\"table tool called\")\n",
    "    prompt = ChatPromptTemplate.from_messages([\n",
    "            SystemMessage(content=table_html + html_instructions(table_instructions)\n",
    "        ),  # The persistent system prompt\n",
    "        \n",
    "        HumanMessagePromptTemplate.from_template(\n",
    "            \"{human_input}\"\n",
    "        ),  # Where the human input will injected\n",
    "    ])\n",
    "\n",
    "    llm = ChatOpenAI(model_name=gpt_version, temperature = 0)\n",
    "    chat_llm_chain = LLMChain(\n",
    "        llm=llm,\n",
    "        prompt=prompt,\n",
    "        verbose=False,\n",
    "    )\n",
    "    o = chat_llm_chain.predict(human_input=information)\n",
    "    render_html(o)\n",
    "    return \"table is generated\""
   ]
  },
  {
   "cell_type": "markdown",
   "id": "880f0489-4119-447c-a117-f6e5f7e638cc",
   "metadata": {},
   "source": [
    "## Setup and Initialize Chain"
   ]
  },
  {
   "cell_type": "code",
   "execution_count": 577,
   "id": "d7437077-8634-47da-a0c3-5731ee129bea",
   "metadata": {},
   "outputs": [],
   "source": [
    "# this is the directions for the main model with the \n",
    "main_system_template = \"\"\"be kind and helpful to the user. You have tools to assist the user in having a better conversation with you.\n",
    "\"\"\""
   ]
  },
  {
   "cell_type": "code",
   "execution_count": 578,
   "id": "5a8351e5-3548-4ac2-8f71-6597cdf38d21",
   "metadata": {},
   "outputs": [],
   "source": [
    "def make_agent(system_template, verbose_mode=False):\n",
    "\n",
    "    mem = ConversationBufferMemory(return_messages=True,memory_key=\"chat_history\")\n",
    "\n",
    "    tools = [make_card, make_table]\n",
    "    functions = [ convert_to_openai_function(f) for f in tools]\n",
    "\n",
    "    model = ChatOpenAI(model_name=gpt_version, temperature=0).bind(functions=functions)\n",
    "    prompt = ChatPromptTemplate.from_messages([ (\"system\", system_template),\n",
    "        MessagesPlaceholder(variable_name=\"chat_history\"),(\"user\", \"{input}\"),\n",
    "        MessagesPlaceholder(variable_name=\"agent_scratchpad\")])\n",
    "\n",
    "    agent_chain = RunnablePassthrough.assign(agent_scratchpad= lambda x: format_to_openai_functions(x[\"intermediate_steps\"])) | prompt | model | OpenAIFunctionsAgentOutputParser()                                              \n",
    "    agent_executor = AgentExecutor(agent=agent_chain, tools=tools, verbose=verbose_mode, memory=mem)\n",
    "\n",
    "    return agent_executor"
   ]
  },
  {
   "cell_type": "code",
   "execution_count": 579,
   "id": "a562db81-7b7c-45a7-aa0f-4c10c4bb5f54",
   "metadata": {},
   "outputs": [],
   "source": [
    "def interact(agent, input):\n",
    "    o = agent.invoke({\"input\": input})\n",
    "    # print(o)\n",
    "    o = o['output']\n",
    "    \n",
    "    # html_match = html_pattern.search(o)\n",
    "    # s = False\n",
    "    # if html_match:\n",
    "    #     s = True\n",
    "    #     display(HTML(html_match.group(0)))\n",
    "    # if s:\n",
    "    #     o = re.sub(r\"```html.*?```\", \"\", o, flags=re.DOTALL)\n",
    "    return o\n",
    "    "
   ]
  },
  {
   "cell_type": "markdown",
   "id": "33674601-3f65-4bc1-9edf-9e8346435a2f",
   "metadata": {},
   "source": [
    "## Testing"
   ]
  },
  {
   "cell_type": "code",
   "execution_count": 580,
   "id": "999a7633-cfbc-460b-93f9-6e1cc402f326",
   "metadata": {},
   "outputs": [],
   "source": [
    "agent = make_agent(main_system_template, verbose_mode=False)"
   ]
  },
  {
   "cell_type": "code",
   "execution_count": 581,
   "id": "05c542b5-aae3-4d72-b0cb-dc5b01ecc004",
   "metadata": {},
   "outputs": [
    {
     "data": {
      "text/plain": [
       "'Hello Z! How can I assist you today?'"
      ]
     },
     "execution_count": 581,
     "metadata": {},
     "output_type": "execute_result"
    }
   ],
   "source": [
    "interact(agent, \"hi there, my name is Z. \")"
   ]
  },
  {
   "cell_type": "code",
   "execution_count": 582,
   "id": "838ae5d2-00a0-49ab-abd9-bc6128a7a0c9",
   "metadata": {},
   "outputs": [
    {
     "name": "stdout",
     "output_type": "stream",
     "text": [
      "card tool called\n"
     ]
    },
    {
     "data": {
      "text/html": [
       "<!DOCTYPE html>\n",
       "<html lang=\"en\">\n",
       "  <head>\n",
       "    <meta charset=\"UTF-8\">\n",
       "    <meta name=\"viewport\" content=\"width=device-width, initial-scale=1, shrink-to-fit=no\">\n",
       "    <meta name=\"description\" content=\"\">\n",
       "    <meta name=\"author\" content=\"\">\n",
       "  \n",
       "    <title>Writing Styles</title>\n",
       "    \n",
       "    <link href=\"https://cdn.jsdelivr.net/npm/bootstrap@5.3.3/dist/css/bootstrap.min.css\" rel=\"stylesheet\" integrity=\"sha384-QWTKZyjpPEjISv5WaRU9OFeRpok6YctnYmDr5pNlyT2bRjXh0JMhjY6hW+ALEwIH\" crossorigin=\"anonymous\">\n",
       "   </head>\n",
       "      <body>\n",
       "        <div class=\"row\">\n",
       "          <div class=\"col-sm-4\">\n",
       "            <div class=\"card\">\n",
       "              <div class=\"card-body\">\n",
       "                <h5 class=\"card-title\">Formal Writing Style</h5>\n",
       "                <p class=\"card-text\">Formal writing is characterized by a professional tone and adherence to grammar rules.</p>\n",
       "                <a href=\"#\" class=\"btn btn-primary\">Learn More</a>\n",
       "              </div>\n",
       "            </div>\n",
       "          </div>\n",
       "          <div class=\"col-sm-4\">\n",
       "            <div class=\"card\">\n",
       "              <div class=\"card-body\">\n",
       "                <h5 class=\"card-title\">Informal Writing Style</h5>\n",
       "                <p class=\"card-text\">Informal writing is casual and conversational, often using slang and personal pronouns.</p>\n",
       "                <a href=\"#\" class=\"btn btn-primary\">Explore</a>\n",
       "              </div>\n",
       "            </div>\n",
       "          </div>\n",
       "          <div class=\"col-sm-4\">\n",
       "            <div class=\"card\">\n",
       "              <div class=\"card-body\">\n",
       "                <h5 class=\"card-title\">Academic Writing Style</h5>\n",
       "                <p class=\"card-text\">Academic writing is formal and structured, focusing on research and analysis.</p>\n",
       "                <a href=\"#\" class=\"btn btn-primary\">Read More</a>\n",
       "              </div>\n",
       "            </div>\n",
       "          </div>\n",
       "          <div class=\"col-sm-4\">\n",
       "            <div class=\"card\">\n",
       "              <div class=\"card-body\">\n",
       "                <h5 class=\"card-title\">Creative Writing Style</h5>\n",
       "                <p class=\"card-text\">Creative writing allows for artistic expression and imaginative storytelling.</p>\n",
       "                <a href=\"#\" class=\"btn btn-primary\">Get Inspired</a>\n",
       "              </div>\n",
       "            </div>\n",
       "          </div>\n",
       "        </div>\n",
       "        <script src=\"https://cdn.jsdelivr.net/npm/bootstrap@5.3.3/dist/js/bootstrap.bundle.min.js\" integrity=\"sha384-YvpcrYf0tY3lHB60NNkmXc5s9fDVZLESaAA55NDzOxhy9GkcIdslK1eN7N6jIeHz\" crossorigin=\"anonymous\"></script>\n",
       "    </body>\n",
       "</html>"
      ],
      "text/plain": [
       "<IPython.core.display.HTML object>"
      ]
     },
     "metadata": {},
     "output_type": "display_data"
    },
    {
     "data": {
      "text/plain": [
       "'Here are 4 options for writing styles:\\n\\n1. Formal Writing Style\\n2. Informal Writing Style\\n3. Academic Writing Style\\n4. Creative Writing Style\\n\\nLet me know if you need more information on any of these styles!'"
      ]
     },
     "execution_count": 582,
     "metadata": {},
     "output_type": "execute_result"
    }
   ],
   "source": [
    "interact(agent, \"I want 4 options for writing style\")"
   ]
  },
  {
   "cell_type": "code",
   "execution_count": 583,
   "id": "f875f88a-bc6d-4582-92e2-252468841eb9",
   "metadata": {},
   "outputs": [
    {
     "name": "stdout",
     "output_type": "stream",
     "text": [
      "card tool called\n"
     ]
    },
    {
     "data": {
      "text/html": [
       "<!DOCTYPE html>\n",
       "<html lang=\"en\">\n",
       "  <head>\n",
       "    <meta charset=\"UTF-8\">\n",
       "    <meta name=\"viewport\" content=\"width=device-width, initial-scale=1, shrink-to-fit=no\">\n",
       "    <meta name=\"description\" content=\"\">\n",
       "    <meta name=\"author\" content=\"\">\n",
       "  \n",
       "    <title>Movie Cards</title>\n",
       "    \n",
       "    <link href=\"https://cdn.jsdelivr.net/npm/bootstrap@5.3.3/dist/css/bootstrap.min.css\" rel=\"stylesheet\" integrity=\"sha384-QWTKZyjpPEjISv5WaRU9OFeRpok6YctnYmDr5pNlyT2bRjXh0JMhjY6hW+ALEwIH\" crossorigin=\"anonymous\">\n",
       "   </head>\n",
       "      <body>\n",
       "        <div class=\"row\">\n",
       "          <div class=\"col-sm-4\">\n",
       "            <div class=\"card\">\n",
       "              <img src=\"https://upload.wikimedia.org/wikipedia/en/8/81/ShawshankRedemptionMoviePoster.jpg\" class=\"card-img-top\" alt=\"The Shawshank Redemption\">\n",
       "              <div class=\"card-body\">\n",
       "                <h5 class=\"card-title\">The Shawshank Redemption</h5>\n",
       "                <p class=\"card-text\">Two imprisoned men bond over a number of years, finding solace and eventual redemption through acts of common decency.</p>\n",
       "                <p class=\"card-text\"><small class=\"text-muted\">A powerful drama that explores friendship, hope, and the human spirit.</small></p>\n",
       "                <a href=\"#\" class=\"btn btn-primary\">More Info</a>\n",
       "              </div>\n",
       "            </div>\n",
       "          </div>\n",
       "          \n",
       "          <div class=\"col-sm-4\">\n",
       "            <div class=\"card\">\n",
       "              <img src=\"https://upload.wikimedia.org/wikipedia/en/2/2e/Inception_%282010%29_theatrical_poster.jpg\" class=\"card-img-top\" alt=\"Inception\">\n",
       "              <div class=\"card-body\">\n",
       "                <h5 class=\"card-title\">Inception</h5>\n",
       "                <p class=\"card-text\">A thief who enters the dreams of others to steal their secrets must plant an idea into a CEO's mind.</p>\n",
       "                <p class=\"card-text\"><small class=\"text-muted\">A mind-bending thriller that challenges the concept of reality and dreams.</small></p>\n",
       "                <a href=\"#\" class=\"btn btn-primary\">More Info</a>\n",
       "              </div>\n",
       "            </div>\n",
       "          </div>\n",
       "          \n",
       "          <div class=\"col-sm-4\">\n",
       "            <div class=\"card\">\n",
       "              <img src=\"https://upload.wikimedia.org/wikipedia/en/1/1c/Godfather_ver1.jpg\" class=\"card-img-top\" alt=\"The Godfather\">\n",
       "              <div class=\"card-body\">\n",
       "                <h5 class=\"card-title\">The Godfather</h5>\n",
       "                <p class=\"card-text\">The aging patriarch of an organized crime dynasty transfers control of his clandestine empire to his reluctant son.</p>\n",
       "                <p class=\"card-text\"><small class=\"text-muted\">A classic crime drama that delves into family, power, and loyalty.</small></p>\n",
       "                <a href=\"#\" class=\"btn btn-primary\">More Info</a>\n",
       "              </div>\n",
       "            </div>\n",
       "          </div>\n",
       "          \n",
       "          <div class=\"col-sm-4\">\n",
       "            <div class=\"card\">\n",
       "              <img src=\"https://upload.wikimedia.org/wikipedia/en/6/67/Forrest_Gump_poster.jpg\" class=\"card-img-top\" alt=\"Forrest Gump\">\n",
       "              <div class=\"card-body\">\n",
       "                <h5 class=\"card-title\">Forrest Gump</h5>\n",
       "                <p class=\"card-text\">The story of a man with a low IQ who accomplished great things in his life, despite his challenges.</p>\n",
       "                <p class=\"card-text\"><small class=\"text-muted\">A heartwarming tale of resilience, love, and the power of kindness.</small></p>\n",
       "                <a href=\"#\" class=\"btn btn-primary\">More Info</a>\n",
       "              </div>\n",
       "            </div>\n",
       "          </div>\n",
       "          \n",
       "          <div class=\"col-sm-4\">\n",
       "            <div class=\"card\">\n",
       "              <img src=\"https://upload.wikimedia.org/wikipedia/en/8/8a/Dark_Knight.jpg\" class=\"card-img-top\" alt=\"The Dark Knight\">\n",
       "              <div class=\"card-body\">\n",
       "                <h5 class=\"card-title\">The Dark Knight</h5>\n",
       "                <p class=\"card-text\">Batman faces off against the Joker, a criminal mastermind who seeks to create chaos in Gotham City.</p>\n",
       "                <p class=\"card-text\"><small class=\"text-muted\">A gripping superhero film that explores themes of morality, chaos, and heroism.</small></p>\n",
       "                <a href=\"#\" class=\"btn btn-primary\">More Info</a>\n",
       "              </div>\n",
       "            </div>\n",
       "          </div>\n",
       "          \n",
       "        </div>\n",
       "        <script src=\"https://cdn.jsdelivr.net/npm/bootstrap@5.3.3/dist/js/bootstrap.bundle.min.js\" integrity=\"sha384-YvpcrYf0tY3lHB60NNkmXc5s9fDVZLESaAA55NDzOxhy9GkcIdslK1eN7N6jIeHz\" crossorigin=\"anonymous\"></script>\n",
       "    </body>\n",
       "</html>"
      ],
      "text/plain": [
       "<IPython.core.display.HTML object>"
      ]
     },
     "metadata": {},
     "output_type": "display_data"
    },
    {
     "data": {
      "text/plain": [
       "\"Here are 5 movie recommendations with descriptions and overviews:\\n\\n1. **The Shawshank Redemption**\\n   - Description: Two imprisoned men bond over a number of years, finding solace and eventual redemption through acts of common decency.\\n   - Overview: A powerful drama that explores friendship, hope, and the human spirit.\\n   ![The Shawshank Redemption](https://upload.wikimedia.org/wikipedia/en/8/81/ShawshankRedemptionMoviePoster.jpg)\\n\\n2. **Inception**\\n   - Description: A thief who enters the dreams of others to steal their secrets must plant an idea into a CEO's mind.\\n   - Overview: A mind-bending thriller that challenges the concept of reality and dreams.\\n   ![Inception](https://upload.wikimedia.org/wikipedia/en/2/2e/Inception_%282010%29_theatrical_poster.jpg)\\n\\n3. **The Godfather**\\n   - Description: The aging patriarch of an organized crime dynasty transfers control of his clandestine empire to his reluctant son.\\n   - Overview: A classic crime drama that delves into family, power, and loyalty.\\n   ![The Godfather](https://upload.wikimedia.org/wikipedia/en/1/1c/Godfather_ver1.jpg)\\n\\n4. **Forrest Gump**\\n   - Description: The story of a man with a low IQ who accomplished great things in his life, despite his challenges.\\n   - Overview: A heartwarming tale of resilience, love, and the power of kindness.\\n   ![Forrest Gump](https://upload.wikimedia.org/wikipedia/en/6/67/Forrest_Gump_poster.jpg)\\n\\n5. **The Dark Knight**\\n   - Description: Batman faces off against the Joker, a criminal mastermind who seeks to create chaos in Gotham City.\\n   - Overview: A gripping superhero film that explores themes of morality, chaos, and heroism.\\n   ![The Dark Knight](https://upload.wikimedia.org/wikipedia/en/8/8a/Dark_Knight.jpg)\\n\\nI hope you find these movie suggestions interesting! Let me know if you need more recommendations or information.\""
      ]
     },
     "execution_count": 583,
     "metadata": {},
     "output_type": "execute_result"
    }
   ],
   "source": [
    "interact(agent, \"Think of 5 movies to watch. Give me a description and overview of each. Image would be nice\")"
   ]
  },
  {
   "cell_type": "code",
   "execution_count": 584,
   "id": "5293965d-1970-46df-9466-3191b001c9d7",
   "metadata": {},
   "outputs": [
    {
     "data": {
      "text/plain": [
       "'I can help you sort the students based on their final grades. Here is the sorted list:\\n\\n1. Jessica: Final Grade - 92\\n2. John: Final Grade - 89\\n3. Samantha: Final Grade - 89\\n4. Michael: Final Grade - 88\\n5. David: Final Grade - 87\\n6. Matthew: Final Grade - 87\\n7. Emily: Final Grade - 82\\n8. Ryan: Final Grade - 82\\n9. Amanda: Final Grade - 82\\n10. Sarah: Final Grade - 78\\n\\nIf you need any more assistance or information, feel free to ask!'"
      ]
     },
     "execution_count": 584,
     "metadata": {},
     "output_type": "execute_result"
    }
   ],
   "source": [
    "interact(agent, '''Here are grades for some of my students. I want to sort them.\n",
    "\n",
    "John: Exam Grades [85, 90, 88, 87, 92], Final Grade: 89\n",
    "Emily: Exam Grades [78, 82, 79, 85, 87], Final Grade: 82\n",
    "Michael: Exam Grades [90, 88, 92, 87, 85], Final Grade: 88\n",
    "Sarah: Exam Grades [75, 80, 77, 82, 79], Final Grade: 78\n",
    "David: Exam Grades [85, 84, 88, 86, 90], Final Grade: 87\n",
    "Jessica: Exam Grades [92, 95, 90, 88, 93], Final Grade: 92\n",
    "Ryan: Exam Grades [80, 82, 85, 81, 84], Final Grade: 82\n",
    "Samantha: Exam Grades [88, 90, 86, 89, 92], Final Grade: 89\n",
    "Matthew: Exam Grades [85, 87, 83, 88, 90], Final Grade: 87\n",
    "Amanda: Exam Grades [82, 85, 80, 84, 81], Final Grade: 82\n",
    "''')"
   ]
  },
  {
   "cell_type": "code",
   "execution_count": 585,
   "id": "57e6c047-56dd-42c5-8630-f54976a4be5f",
   "metadata": {},
   "outputs": [
    {
     "name": "stdout",
     "output_type": "stream",
     "text": [
      "table tool called\n"
     ]
    },
    {
     "data": {
      "text/html": [
       "<!DOCTYPE html>\n",
       "<html lang=\"en\">\n",
       "<head>\n",
       "<meta charset=\"UTF-8\">\n",
       "<meta name=\"viewport\" content=\"width=device-width, initial-scale=1, shrink-to-fit=no\">\n",
       "<meta name=\"description\" content=\"\">\n",
       "<meta name=\"author\" content=\"\">\n",
       "<title>Bootstrap Table</title>\n",
       "<link href=\"https://cdn.jsdelivr.net/npm/bootstrap@5.3.3/dist/css/bootstrap.min.css\" rel=\"stylesheet\" integrity=\"sha384-QWTKZyjpPEjISv5WaRU9OFeRpok6YctnYmDr5pNlyT2bRjXh0JMhjY6hW+ALEwIH\" crossorigin=\"anonymous\">\n",
       "</head>\n",
       "<body>\n",
       "<div class=\"table-responsive\">\n",
       "<table class=\"table table-hover\">\n",
       "<thead class=\"table-dark\">\n",
       "<tr>\n",
       "<th scope=\"col\">Student</th>\n",
       "<th scope=\"col\">Final Grade</th>\n",
       "</tr>\n",
       "</thead>\n",
       "<tbody>\n",
       "<tr>\n",
       "<th scope=\"row\">1</th>\n",
       "<td>Jessica</td>\n",
       "<td>92</td>\n",
       "</tr>\n",
       "<tr>\n",
       "<th scope=\"row\">2</th>\n",
       "<td>John</td>\n",
       "<td>89</td>\n",
       "</tr>\n",
       "<tr>\n",
       "<th scope=\"row\">3</th>\n",
       "<td>Samantha</td>\n",
       "<td>89</td>\n",
       "</tr>\n",
       "<tr>\n",
       "<th scope=\"row\">4</th>\n",
       "<td>Michael</td>\n",
       "<td>88</td>\n",
       "</tr>\n",
       "<tr>\n",
       "<th scope=\"row\">5</th>\n",
       "<td>David</td>\n",
       "<td>87</td>\n",
       "</tr>\n",
       "<tr>\n",
       "<th scope=\"row\">6</th>\n",
       "<td>Matthew</td>\n",
       "<td>87</td>\n",
       "</tr>\n",
       "<tr>\n",
       "<th scope=\"row\">7</th>\n",
       "<td>Emily</td>\n",
       "<td>82</td>\n",
       "</tr>\n",
       "<tr>\n",
       "<th scope=\"row\">8</th>\n",
       "<td>Ryan</td>\n",
       "<td>82</td>\n",
       "</tr>\n",
       "<tr>\n",
       "<th scope=\"row\">9</th>\n",
       "<td>Amanda</td>\n",
       "<td>82</td>\n",
       "</tr>\n",
       "<tr>\n",
       "<th scope=\"row\">10</th>\n",
       "<td>Sarah</td>\n",
       "<td>78</td>\n",
       "</tr>\n",
       "</tbody>\n",
       "</table>\n",
       "</div>\n",
       "<script src=\"https://cdn.jsdelivr.net/npm/bootstrap@5.3.3/dist/js/bootstrap.bundle.min.js\" integrity=\"sha384-YvpcrYf0tY3lHB60NNkmXc5s9fDVZLESaAA55NDzOxhy9GkcIdslK1eN7N6jIeHz\" crossorigin=\"anonymous\"></script>\n",
       "</body>\n",
       "</html>"
      ],
      "text/plain": [
       "<IPython.core.display.HTML object>"
      ]
     },
     "metadata": {},
     "output_type": "display_data"
    },
    {
     "data": {
      "text/plain": [
       "'Here is a visual representation of the students sorted by their final grades:\\n\\n| Student   | Final Grade |\\n|-----------|-------------|\\n| Jessica   | 92          |\\n| John      | 89          |\\n| Samantha  | 89          |\\n| Michael   | 88          |\\n| David     | 87          |\\n| Matthew   | 87          |\\n| Emily     | 82          |\\n| Ryan      | 82          |\\n| Amanda    | 82          |\\n| Sarah     | 78          |\\n\\nI hope this visual sorting helps! Let me know if you need any more assistance.'"
      ]
     },
     "execution_count": 585,
     "metadata": {},
     "output_type": "execute_result"
    }
   ],
   "source": [
    "interact(agent, '''visually sort them by final grade''')"
   ]
  },
  {
   "cell_type": "code",
   "execution_count": 586,
   "id": "0a9485e5-4b9e-4e17-9ac4-4f070130528a",
   "metadata": {},
   "outputs": [
    {
     "data": {
      "text/plain": [
       "\"I can provide you with some tips on designing effective business cards. Here are a few key points to consider:\\n\\n1. **Keep it Simple**: Make sure your business card is clean and uncluttered. Include essential information like your name, job title, contact information, and company logo.\\n\\n2. **Choose the Right Font**: Use a legible font that reflects your brand's personality. Avoid using too many different fonts on one card.\\n\\n3. **Use High-Quality Images**: If you include images or a logo, make sure they are high-resolution for a professional look.\\n\\n4. **Consider Card Size and Shape**: Standard business card size is 3.5 x 2 inches, but you can also opt for unique shapes or sizes to stand out.\\n\\n5. **Include White Space**: Leave some empty space on the card to make it easier to read and more visually appealing.\\n\\n6. **Use Colors Wisely**: Choose colors that align with your brand and are visually appealing. Stick to a color scheme that complements your logo.\\n\\n7. **Double-Check Information**: Ensure all contact information is accurate and up to date before printing.\\n\\nIf you need further assistance or specific design ideas, feel free to ask!\""
      ]
     },
     "execution_count": 586,
     "metadata": {},
     "output_type": "execute_result"
    }
   ],
   "source": [
    "interact(agent, '''thank you for the help. I want to make business cards but unsure about how to design them''')"
   ]
  },
  {
   "cell_type": "code",
   "execution_count": 587,
   "id": "6e3b983d-ee66-40cd-826f-660e5f5a0b8c",
   "metadata": {},
   "outputs": [
    {
     "name": "stdout",
     "output_type": "stream",
     "text": [
      "card tool called\n"
     ]
    },
    {
     "data": {
      "text/html": [
       "<!DOCTYPE html>\n",
       "<html lang=\"en\">\n",
       "  <head>\n",
       "    <meta charset=\"UTF-8\">\n",
       "    <meta name=\"viewport\" content=\"width=device-width, initial-scale=1, shrink-to-fit=no\">\n",
       "    <meta name=\"description\" content=\"\">\n",
       "    <meta name=\"author\" content=\"\">\n",
       "  \n",
       "    <title>Business Card Examples</title>\n",
       "    \n",
       "    <link href=\"https://cdn.jsdelivr.net/npm/bootstrap@5.3.3/dist/css/bootstrap.min.css\" rel=\"stylesheet\" integrity=\"sha384-QWTKZyjpPEjISv5WaRU9OFeRpok6YctnYmDr5pNlyT2bRjXh0JMhjY6hW+ALEwIH\" crossorigin=\"anonymous\">\n",
       "   </head>\n",
       "      <body>\n",
       "        <div class=\"row\">\n",
       "          <div class=\"col-sm-4\">\n",
       "            <div class=\"card\">\n",
       "              <div class=\"card-body\">\n",
       "                <h5 class=\"card-title\">Minimalist Design</h5>\n",
       "                <p class=\"card-text\">Clean and simple design with essential information.</p>\n",
       "                <a href=\"#\" class=\"btn btn-primary\">See More</a>\n",
       "              </div>\n",
       "            </div>\n",
       "          </div>\n",
       "          \n",
       "          <div class=\"col-sm-4\">\n",
       "            <div class=\"card\">\n",
       "              <div class=\"card-body\">\n",
       "                <h5 class=\"card-title\">Creative Shape</h5>\n",
       "                <p class=\"card-text\">Unique shape or die-cut design to make a statement.</p>\n",
       "                <a href=\"#\" class=\"btn btn-primary\">See More</a>\n",
       "              </div>\n",
       "            </div>\n",
       "          </div>\n",
       "          \n",
       "          <div class=\"col-sm-4\">\n",
       "            <div class=\"card\">\n",
       "              <div class=\"card-body\">\n",
       "                <h5 class=\"card-title\">Photographic Background</h5>\n",
       "                <p class=\"card-text\">Incorporating a high-quality image as the background.</p>\n",
       "                <a href=\"#\" class=\"btn btn-primary\">See More</a>\n",
       "              </div>\n",
       "            </div>\n",
       "          </div>\n",
       "          \n",
       "          <div class=\"col-sm-4\">\n",
       "            <div class=\"card\">\n",
       "              <div class=\"card-body\">\n",
       "                <h5 class=\"card-title\">Embossed or Foil Details</h5>\n",
       "                <p class=\"card-text\">Adding texture and elegance with embossed or foil details.</p>\n",
       "                <a href=\"#\" class=\"btn btn-primary\">See More</a>\n",
       "              </div>\n",
       "            </div>\n",
       "          </div>\n",
       "          \n",
       "          <div class=\"col-sm-4\">\n",
       "            <div class=\"card\">\n",
       "              <div class=\"card-body\">\n",
       "                <h5 class=\"card-title\">Vertical Orientation</h5>\n",
       "                <p class=\"card-text\">Opting for a vertical layout for a modern look.</p>\n",
       "                <a href=\"#\" class=\"btn btn-primary\">See More</a>\n",
       "              </div>\n",
       "            </div>\n",
       "          </div>\n",
       "          \n",
       "        </div>\n",
       "        <script src=\"https://cdn.jsdelivr.net/npm/bootstrap@5.3.3/dist/js/bootstrap.bundle.min.js\" integrity=\"sha384-YvpcrYf0tY3lHB60NNkmXc5s9fDVZLESaAA55NDzOxhy9GkcIdslK1eN7N6jIeHz\" crossorigin=\"anonymous\"></script>\n",
       "    </body>\n",
       "</html>"
      ],
      "text/plain": [
       "<IPython.core.display.HTML object>"
      ]
     },
     "metadata": {},
     "output_type": "display_data"
    },
    {
     "data": {
      "text/plain": [
       "'Here are some examples of business card designs:\\n\\n1. **Minimalist Design**\\n   - Clean and simple design with essential information.\\n\\n2. **Creative Shape**\\n   - Unique shape or die-cut design to make a statement.\\n\\n3. **Photographic Background**\\n   - Incorporating a high-quality image as the background.\\n\\n4. **Embossed or Foil Details**\\n   - Adding texture and elegance with embossed or foil details.\\n\\n5. **Vertical Orientation**\\n   - Opting for a vertical layout for a modern look.\\n\\nThese are just a few examples to inspire your business card design. Let me know if you need more ideas or assistance with designing your business cards!'"
      ]
     },
     "execution_count": 587,
     "metadata": {},
     "output_type": "execute_result"
    }
   ],
   "source": [
    "interact(agent, '''what are some examples of business cards?''')"
   ]
  },
  {
   "cell_type": "code",
   "execution_count": null,
   "id": "1f20a6ab-a5c5-4f2c-82a6-48071155ccfd",
   "metadata": {},
   "outputs": [],
   "source": []
  }
 ],
 "metadata": {
  "kernelspec": {
   "display_name": "Python 3 (ipykernel)",
   "language": "python",
   "name": "python3"
  },
  "language_info": {
   "codemirror_mode": {
    "name": "ipython",
    "version": 3
   },
   "file_extension": ".py",
   "mimetype": "text/x-python",
   "name": "python",
   "nbconvert_exporter": "python",
   "pygments_lexer": "ipython3",
   "version": "3.11.4"
  }
 },
 "nbformat": 4,
 "nbformat_minor": 5
}
