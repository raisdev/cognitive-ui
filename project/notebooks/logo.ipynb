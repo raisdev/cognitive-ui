{
 "cells": [
  {
   "cell_type": "code",
   "execution_count": 1,
   "id": "a07384df-abb8-471a-93ab-f1863f88b466",
   "metadata": {},
   "outputs": [],
   "source": [
    "import os\n",
    "import openai\n",
    "import sys\n",
    "import json\n",
    "sys.path.append('../..')"
   ]
  },
  {
   "cell_type": "code",
   "execution_count": 2,
   "id": "2a1c1832-3f71-41c3-ad98-f170c450824a",
   "metadata": {},
   "outputs": [],
   "source": [
    "openai.api_key = os.environ['OPENAI_API_KEY']"
   ]
  },
  {
   "cell_type": "code",
   "execution_count": 3,
   "id": "45d5e895-6068-46e6-bab8-71f6988e9c4b",
   "metadata": {},
   "outputs": [],
   "source": [
    "from langchain.prompts.chat import (\n",
    "    ChatPromptTemplate,\n",
    "    HumanMessagePromptTemplate,\n",
    "    SystemMessagePromptTemplate,\n",
    ")\n",
    "from langchain.schema import HumanMessage, SystemMessage\n",
    "from langchain_openai import ChatOpenAI\n",
    "chat = ChatOpenAI(model_name=\"gpt-3.5-turbo\", temperature=0)"
   ]
  },
  {
   "cell_type": "code",
   "execution_count": 15,
   "id": "f29e55a2-f029-4a8f-8bf9-e99182bfdc48",
   "metadata": {},
   "outputs": [
    {
     "name": "stdout",
     "output_type": "stream",
     "text": [
      "Based on the topic of setting up a geography camp, the most suitable logo would be option 4, which is a map.\n"
     ]
    },
    {
     "data": {
      "text/plain": [
       "'s3://designs/logo_4.jpg'"
      ]
     },
     "execution_count": 15,
     "metadata": {},
     "output_type": "execute_result"
    }
   ],
   "source": [
    "def design_logo_concept(topic:str):\n",
    "    chat = ChatOpenAI(model_name=\"gpt-3.5-turbo\", temperature=0)\n",
    "    messages = [\n",
    "        SystemMessage(\n",
    "            content=\"You are a helpful assistant that pick a logo based on the topic and the description of the logo.\"\n",
    "        ),\n",
    "        HumanMessage(\n",
    "            content=\"Topic: \" + topic\n",
    "        ),\n",
    "        SystemMessage(\n",
    "            content= \"\"\"Descrition of the logo: 1, This logo is a red bear. 2, \n",
    "                            This logo is a yellow bee. 3 This logo is a phone. 4, This logo is a map.\"\"\"\n",
    "        ),\n",
    "        SystemMessage(\n",
    "            content=\"Please output the numerical value correspond to the logo you choose.\"\n",
    "        ),\n",
    "    ]\n",
    "    content = chat.invoke(messages).content\n",
    "    print(content)\n",
    "    if \"1\" in content:\n",
    "        return \"s3://designs/logo_1.jpg\"\n",
    "    if \"2\" in content:\n",
    "        return \"s3://designs/logo_2.jpg\"\n",
    "    if \"3\" in content:\n",
    "        return \"s3://designs/logo_3.jpg\"\n",
    "    if \"4\" in content:\n",
    "        return \"s3://designs/logo_4.jpg\"\n",
    "        \n",
    "    return \"no logo found\"\n",
    "\n",
    "topic = \"I am trying to set up a geography camp.\"\n",
    "design_logo_concept(topic)"
   ]
  },
  {
   "cell_type": "code",
   "execution_count": 26,
   "id": "85dc0460-efef-440b-ac9f-a0d22ee149e8",
   "metadata": {},
   "outputs": [
    {
     "name": "stdout",
     "output_type": "stream",
     "text": [
      "Yes\n",
      "Based on the topic of setting up a geography camp, the most suitable logo would be option 4, which is a map.\n"
     ]
    },
    {
     "data": {
      "text/plain": [
       "'{\\n    \"component\": \"Image\",\\n    \"props\": {\\n        \"url\": \"s3://designs/logo_4.jpg\"\\n    }\\n}'"
      ]
     },
     "execution_count": 26,
     "metadata": {},
     "output_type": "execute_result"
    }
   ],
   "source": [
    "def ui_offer(topic:str):\n",
    "    chat = ChatOpenAI(model_name=\"gpt-3.5-turbo\", temperature=0)\n",
    "    messages = [\n",
    "        SystemMessage(\n",
    "            content=\"\"\"You are a helpful assistant that provide visualization via image based on the topic.\n",
    "                        You should decide if the topic that user inputs is better to be responded with an image.\"\"\"\n",
    "        ),\n",
    "        HumanMessage(\n",
    "            content=\"Topic: \" + topic\n",
    "        ),\n",
    "        SystemMessage(\n",
    "            content= \"\"\"Now, based on the topic, please decide if you want to respond with an image. Use (Yes) or (No) as your output.\"\"\"\n",
    "        ),\n",
    "    ]\n",
    "    content = chat.invoke(messages).content\n",
    "    print(content)\n",
    "    if \"Yes\" in content:\n",
    "        urls = design_logo_concept(topic)\n",
    "        image_json = {\n",
    "            \"component\":\"Image\",\n",
    "            \"props\":{\n",
    "                \"url\":urls,\n",
    "            }\n",
    "        }\n",
    "        return json.dumps(image_json, indent=4)\n",
    "    if \"No\" in content:\n",
    "        return \"fake follow up if no image needed\"\n",
    "        \n",
    "    return \"fake default state\"\n",
    "    \n",
    "topic = \"I am trying to set up a geography camp.\"\n",
    "ui_offer(topic)"
   ]
  },
  {
   "cell_type": "code",
   "execution_count": null,
   "id": "a7c5ebce-02ae-41a3-af2b-1fd73363023b",
   "metadata": {},
   "outputs": [],
   "source": []
  }
 ],
 "metadata": {
  "kernelspec": {
   "display_name": "Python 3 (ipykernel)",
   "language": "python",
   "name": "python3"
  },
  "language_info": {
   "codemirror_mode": {
    "name": "ipython",
    "version": 3
   },
   "file_extension": ".py",
   "mimetype": "text/x-python",
   "name": "python",
   "nbconvert_exporter": "python",
   "pygments_lexer": "ipython3",
   "version": "3.11.4"
  }
 },
 "nbformat": 4,
 "nbformat_minor": 5
}
