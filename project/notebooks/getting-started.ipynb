{
 "cells": [
  {
   "cell_type": "code",
   "execution_count": 6,
   "id": "13275343-af40-4cce-be4a-972dbdc26947",
   "metadata": {},
   "outputs": [],
   "source": [
    "import os\n",
    "import openai\n",
    "import sys\n",
    "import json\n",
    "sys.path.append('../..')"
   ]
  },
  {
   "cell_type": "code",
   "execution_count": 7,
   "id": "72e5ace5-6efe-4916-91c2-1525ede2e0b2",
   "metadata": {},
   "outputs": [],
   "source": [
    "openai.api_key = os.environ['OPENAI_API_KEY']"
   ]
  },
  {
   "cell_type": "code",
   "execution_count": 8,
   "id": "464b0330-da8b-4846-8297-c389da28e382",
   "metadata": {},
   "outputs": [],
   "source": [
    "# from langchain.prompts.chat import (\n",
    "#     ChatPromptTemplate,\n",
    "#     HumanMessagePromptTemplate,\n",
    "#     SystemMessagePromptTemplate,\n",
    "# )\n",
    "# from langchain.schema import HumanMessage, SystemMessage\n",
    "# from langchain_openai import ChatOpenAI\n",
    "# chat = ChatOpenAI(model_name=\"gpt-3.5-turbo\", temperature=0)"
   ]
  },
  {
   "cell_type": "code",
   "execution_count": 9,
   "id": "cf2fc026-b3a5-42fc-a5ec-7bf47f6df531",
   "metadata": {},
   "outputs": [],
   "source": [
    "# messages = [\n",
    "#     SystemMessage(\n",
    "#         content=\"You are a helpful assistant that translates English to French.\"\n",
    "#     ),\n",
    "#     HumanMessage(\n",
    "#         content=\"Translate this sentence from English to Pirate. I love programming.\"\n",
    "#     ),\n",
    "# ]\n",
    "# chat.invoke(messages)"
   ]
  },
  {
   "cell_type": "code",
   "execution_count": 10,
   "id": "c95f23e3-b812-4411-9aac-1a5f7d246333",
   "metadata": {},
   "outputs": [],
   "source": [
    "from langchain_core.output_parsers import StrOutputParser\n",
    "from langchain_core.prompts import ChatPromptTemplate\n",
    "from langchain_openai import ChatOpenAI\n",
    "\n",
    "# prompt = ChatPromptTemplate.from_template(\"tell me a short joke about {topic}\")\n",
    "# model = ChatOpenAI(model_name=\"gpt-3.5-turbo\", temperature=1)\n",
    "# output_parser = StrOutputParser()\n",
    "\n",
    "# chain = prompt | model | output_parser\n",
    "\n",
    "# chain.invoke({\"topic\": \"ice cream\"})"
   ]
  },
  {
   "cell_type": "code",
   "execution_count": 60,
   "id": "af4ca19c-8228-4fcb-854f-a18b523f3ecf",
   "metadata": {},
   "outputs": [],
   "source": [
    "import random\n",
    "def design_logo_concepts(topic: str):\n",
    "    model = ChatOpenAI(model_name=\"gpt-3.5-turbo\", temperature=0)\n",
    "    template = \"\"\"Answer yes if the user will need a logo, otherwise, answer no. Here is the user prompt\n",
    "\n",
    "    Prompt = {prompt}\"\"\"\n",
    "    \n",
    "    prompt = ChatPromptTemplate.from_template(template)\n",
    "    output_parser = StrOutputParser()\n",
    "    inner_chain = prompt | model | output_parser\n",
    "    if 'Yes' in inner_chain.invoke({\"prompt\" : topic}):\n",
    "        index = random.randint(1,4)\n",
    "        s3_path = f's3://designs/logo_{index}.jpg'\n",
    "        return f'{{ component: \\\"Image\\\", props: {{ url: {s3_path}, }} }}'\n",
    "    return 'NONE'"
   ]
  },
  {
   "cell_type": "code",
   "execution_count": 61,
   "id": "40ee8357-0c77-40f8-940b-09d610bc208c",
   "metadata": {},
   "outputs": [],
   "source": [
    "from langchain_core.prompts import ChatPromptTemplate\n",
    "# from langchain_core.runnables import RunnableLambda\n",
    "from langchain.schema.runnable import RunnableMap\n",
    "from langchain_openai import ChatOpenAI\n",
    "\n",
    "template = \"\"\"If KEY is 'NONE', then you should kindly respond to the prompt in a conversation. Otherwise, if KEY is not 'NONE', \n",
    "you will answer with the given KEY\n",
    "\n",
    "prompt: {prompt}\n",
    "KEY: {response}\n",
    "\n",
    "\"\"\"\n",
    "\n",
    "prompt = ChatPromptTemplate.from_template(template)\n",
    "model = ChatOpenAI(model_name=\"gpt-3.5-turbo\", temperature=0)\n",
    "output_parser = StrOutputParser()\n",
    "\n",
    "chain = RunnableMap({\n",
    "    \"response\": lambda x : design_logo_concepts(x[\"prompt\"]),\n",
    "    \"prompt\": lambda x : x[\"prompt\"]\n",
    "}) | prompt | model | output_parser"
   ]
  },
  {
   "cell_type": "code",
   "execution_count": 62,
   "id": "749a85fc-8b15-4010-bc8d-b1c229ad5b33",
   "metadata": {},
   "outputs": [],
   "source": [
    "def interact_with_model(input):\n",
    "    output = chain.invoke({\"prompt\": input})\n",
    "    try:\n",
    "        return json.loads(output)\n",
    "    except:\n",
    "        return output"
   ]
  },
  {
   "cell_type": "code",
   "execution_count": 63,
   "id": "23b0baf2-924b-43c7-9f04-e262ddf953ff",
   "metadata": {},
   "outputs": [
    {
     "data": {
      "text/plain": [
       "'Hi, how can I assist you today?'"
      ]
     },
     "execution_count": 63,
     "metadata": {},
     "output_type": "execute_result"
    }
   ],
   "source": [
    "interact_with_model(\"hi\")"
   ]
  },
  {
   "cell_type": "code",
   "execution_count": 52,
   "id": "7b591d76-6f57-47f0-b433-9b41375a3f10",
   "metadata": {},
   "outputs": [
    {
     "data": {
      "text/plain": [
       "'I agree, ice cream is indeed great!'"
      ]
     },
     "execution_count": 52,
     "metadata": {},
     "output_type": "execute_result"
    }
   ],
   "source": [
    "interact_with_model(\"I think ice cream is great\")"
   ]
  },
  {
   "cell_type": "code",
   "execution_count": 64,
   "id": "0de328e0-f697-403e-b812-bf43f76ef9e7",
   "metadata": {},
   "outputs": [
    {
     "data": {
      "text/plain": [
       "{'component': 'Image', 'props': {'url': 's3://designs/logo_1.jpg'}}"
      ]
     },
     "execution_count": 64,
     "metadata": {},
     "output_type": "execute_result"
    }
   ],
   "source": [
    "interact_with_model(\"I would like an ice cream truck logo\")"
   ]
  },
  {
   "cell_type": "code",
   "execution_count": 54,
   "id": "b1cc1045-7b6b-405c-a6a1-b3a6a434c978",
   "metadata": {},
   "outputs": [
    {
     "data": {
      "text/plain": [
       "'Goodbye!'"
      ]
     },
     "execution_count": 54,
     "metadata": {},
     "output_type": "execute_result"
    }
   ],
   "source": [
    "interact_with_model(\"bye bye\")"
   ]
  },
  {
   "cell_type": "code",
   "execution_count": 65,
   "id": "b86c5cae-be5f-45be-9740-35f4423a4bae",
   "metadata": {},
   "outputs": [
    {
     "data": {
      "text/plain": [
       "'{ component: \"Image\", props: { url: s3://designs/logo_2.jpg, } }'"
      ]
     },
     "execution_count": 65,
     "metadata": {},
     "output_type": "execute_result"
    }
   ],
   "source": [
    "interact_with_model(\"NOOOO, I need another logo, perhaps a logo for my UI task\")"
   ]
  },
  {
   "cell_type": "code",
   "execution_count": 66,
   "id": "081367c2-d50b-4a4b-84f5-12aedd6a246e",
   "metadata": {},
   "outputs": [
    {
     "data": {
      "text/plain": [
       "{'component': 'Image', 'props': {'url': 's3://designs/logo_4.jpg'}}"
      ]
     },
     "execution_count": 66,
     "metadata": {},
     "output_type": "execute_result"
    }
   ],
   "source": [
    "interact_with_model(\"an image would be nice, I need one.\")"
   ]
  },
  {
   "cell_type": "code",
   "execution_count": 68,
   "id": "0746b9da-efba-4f28-87ea-a9520b203f69",
   "metadata": {},
   "outputs": [
    {
     "data": {
      "text/plain": [
       "\"Cornell University is a prestigious Ivy League institution located in Ithaca, New York. It was founded in 1865 and is known for its exceptional academic programs, diverse student body, and beautiful campus. Cornell offers a wide range of undergraduate and graduate programs across various fields of study, including engineering, business, agriculture, arts and sciences, and more. The university is also renowned for its research initiatives and has produced numerous notable alumni, including Nobel laureates, business leaders, and politicians. Cornell's commitment to academic excellence, combined with its vibrant campus life and strong sense of community, make it a highly sought-after institution for students from around the world.\""
      ]
     },
     "execution_count": 68,
     "metadata": {},
     "output_type": "execute_result"
    }
   ],
   "source": [
    "interact_with_model(\"tell me about cornell\")"
   ]
  },
  {
   "cell_type": "code",
   "execution_count": null,
   "id": "023e5762-6755-469a-881f-77a86484eabb",
   "metadata": {},
   "outputs": [],
   "source": []
  }
 ],
 "metadata": {
  "kernelspec": {
   "display_name": "Python 3 (ipykernel)",
   "language": "python",
   "name": "python3"
  },
  "language_info": {
   "codemirror_mode": {
    "name": "ipython",
    "version": 3
   },
   "file_extension": ".py",
   "mimetype": "text/x-python",
   "name": "python",
   "nbconvert_exporter": "python",
   "pygments_lexer": "ipython3",
   "version": "3.11.4"
  }
 },
 "nbformat": 4,
 "nbformat_minor": 5
}
