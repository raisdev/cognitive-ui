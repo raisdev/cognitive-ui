{
 "cells": [
  {
   "cell_type": "code",
   "execution_count": 21,
   "id": "13275343-af40-4cce-be4a-972dbdc26947",
   "metadata": {},
   "outputs": [],
   "source": [
    "import os\n",
    "import openai\n",
    "import sys\n",
    "import json\n",
    "import re\n",
    "from IPython.display import display, HTML\n",
    "sys.path.append('../..')"
   ]
  },
  {
   "cell_type": "code",
   "execution_count": 22,
   "id": "72e5ace5-6efe-4916-91c2-1525ede2e0b2",
   "metadata": {},
   "outputs": [],
   "source": [
    "openai.api_key = os.environ['OPENAI_API_KEY']"
   ]
  },
  {
   "cell_type": "markdown",
   "id": "275ee4d7-e202-4cca-8e70-5a566b52a407",
   "metadata": {},
   "source": [
    "## LangChain Imports"
   ]
  },
  {
   "cell_type": "code",
   "execution_count": 23,
   "id": "c95f23e3-b812-4411-9aac-1a5f7d246333",
   "metadata": {},
   "outputs": [],
   "source": [
    "from langchain_core.output_parsers import StrOutputParser\n",
    "\n",
    "# https://python.langchain.com/docs/modules/memory/adding_memory\n",
    "from langchain.chains import LLMChain\n",
    "from langchain.memory import ConversationBufferMemory\n",
    "from langchain.memory import ConversationSummaryMemory\n",
    "from langchain.prompts import (\n",
    "    ChatPromptTemplate,\n",
    "    HumanMessagePromptTemplate,\n",
    "    MessagesPlaceholder,\n",
    ")\n",
    "from langchain.schema import SystemMessage\n",
    "from langchain_openai import ChatOpenAI"
   ]
  },
  {
   "cell_type": "markdown",
   "id": "880f0489-4119-447c-a117-f6e5f7e638cc",
   "metadata": {},
   "source": [
    "## Setup and Initialize Chain"
   ]
  },
  {
   "cell_type": "code",
   "execution_count": 67,
   "id": "d7437077-8634-47da-a0c3-5731ee129bea",
   "metadata": {},
   "outputs": [],
   "source": [
    "system_v1_template = \"\"\"You are an intelligent Cognitive UI agent that is having a conversation with an user.\n",
    "Your task is to have a conversation and respond appropriately to the user. You have the ability to generate UI components \n",
    "in the form of HTML code and HTML is the output format that the user prefers when needed.\n",
    "Before you output any HTML, you need to confirm that the HTML is valid, stylized with CSS or other frontend frameworks, attached with \n",
    "functional JS scripts and most importantly, it must satisfy the user's requirements. \n",
    "Valid HTML must follow the standard HTML file format containing the keyword 'DOCTYPE'.\n",
    "\n",
    "If the user provides feedback to the generated HTML, you will incorporate their feedback\n",
    "and make new attempts until they're satisfied. In order to generate HTML, you may need content from the user and it is okay to \n",
    "collect information from the user based on the type of UI component they need. \n",
    "\n",
    "Once you have enough information from the user, you need to output HTML code; you should\n",
    "also do this if the user is requesting for HTML. However, if you need more information, you should continue asking for information.\n",
    "If you have already generated HTML and the user provides feedback and suggest changes, please respond with the updated HTML.\n",
    "\n",
    "DO NOT tell the user that you will show them the UI component/code without actually including it in your response.\n",
    "\"\"\""
   ]
  },
  {
   "cell_type": "code",
   "execution_count": 68,
   "id": "5a8351e5-3548-4ac2-8f71-6597cdf38d21",
   "metadata": {},
   "outputs": [],
   "source": [
    "def make_chat(system_template, verbose_mode=False):\n",
    "    prompt = ChatPromptTemplate.from_messages(\n",
    "        [\n",
    "            SystemMessage(\n",
    "                content=system_template\n",
    "            ),  # The persistent system prompt\n",
    "            MessagesPlaceholder(\n",
    "                variable_name=\"chat_history\"\n",
    "            ),  # Where the memory will be stored.\n",
    "            HumanMessagePromptTemplate.from_template(\n",
    "                \"{human_input}\"\n",
    "            ),  # Where the human input will injected\n",
    "        ]\n",
    "    )\n",
    "    \n",
    "    llm = ChatOpenAI(temperature = 0)\n",
    "    mem = ConversationBufferMemory(memory_key=\"chat_history\", return_messages=True)\n",
    "    \n",
    "    chat_llm_chain = LLMChain(\n",
    "        llm=llm,\n",
    "        prompt=prompt,\n",
    "        verbose=verbose_mode,\n",
    "        memory=mem,\n",
    "    )\n",
    "    return chat_llm_chain"
   ]
  },
  {
   "cell_type": "code",
   "execution_count": 69,
   "id": "77d10182-4a70-47ed-8527-72b714d87019",
   "metadata": {},
   "outputs": [],
   "source": [
    "def make_chat_summary_mem(system_template, verbose_mode=False):\n",
    "    '''\n",
    "    creates a chat model that summarizes the current chat history to work with finite memory.\n",
    "    '''\n",
    "    \n",
    "    prompt = ChatPromptTemplate.from_messages(\n",
    "        [\n",
    "            SystemMessage(\n",
    "                content=system_template\n",
    "            ),  # The persistent system prompt\n",
    "            MessagesPlaceholder(\n",
    "                variable_name=\"chat_history\"\n",
    "            ),  # Where the memory will be stored.\n",
    "            HumanMessagePromptTemplate.from_template(\n",
    "                \"{human_input}\"\n",
    "            ),  # Where the human input will injected\n",
    "        ]\n",
    "    )\n",
    "    \n",
    "    llm = ChatOpenAI(temperature = 0)\n",
    "    # mem = ConversationBufferMemory(memory_key=\"chat_history\", return_messages=True)\n",
    "    mem = ConversationSummaryMemory(memory_key=\"chat_history\", llm=ChatOpenAI(temperature = 0), return_messages=True)\n",
    "    \n",
    "    chat_llm_chain = LLMChain(\n",
    "        llm=llm,\n",
    "        prompt=prompt,\n",
    "        verbose=verbose_mode,\n",
    "        memory=mem,\n",
    "    )\n",
    "    return chat_llm_chain"
   ]
  },
  {
   "cell_type": "code",
   "execution_count": 70,
   "id": "a562db81-7b7c-45a7-aa0f-4c10c4bb5f54",
   "metadata": {},
   "outputs": [],
   "source": [
    "html_pattern = re.compile(r'<!DOCTYPE html>.*?</html>', re.DOTALL)\n",
    "def interact(model, input):\n",
    "    o = model.predict(human_input=input)\n",
    "    html_match = html_pattern.search(o)\n",
    "    s = False\n",
    "    if html_match:\n",
    "        s = True\n",
    "        display(HTML(html_match.group(0)))\n",
    "    if s:\n",
    "        o = re.sub(r\"```html.*?```\", \"\", o, flags=re.DOTALL)\n",
    "    return o"
   ]
  },
  {
   "cell_type": "markdown",
   "id": "33674601-3f65-4bc1-9edf-9e8346435a2f",
   "metadata": {},
   "source": [
    "## Testing \"Unbounded\" Memory"
   ]
  },
  {
   "cell_type": "code",
   "execution_count": 71,
   "id": "999a7633-cfbc-460b-93f9-6e1cc402f326",
   "metadata": {},
   "outputs": [
    {
     "data": {
      "text/plain": [
       "'Hello! How can I assist you today?'"
      ]
     },
     "execution_count": 71,
     "metadata": {},
     "output_type": "execute_result"
    }
   ],
   "source": [
    "model = make_chat(system_v1_template, verbose_mode=False)\n",
    "interact(model, \"Hi\")"
   ]
  },
  {
   "cell_type": "code",
   "execution_count": 72,
   "id": "a0d2ecdc-6ffe-48f3-87d7-aeb29479ce3c",
   "metadata": {},
   "outputs": [
    {
     "data": {
      "text/plain": [
       "\"Sure! I can create a resizable webpage table for you with the first 20 Pokémon from the Pokédex and include all of their stats. \\nLet's start by gathering the necessary information for each Pokémon. \\n\\n1. Bulbasaur\\n2. Ivysaur\\n3. Venusaur\\n4. Charmander\\n5. Charmeleon\\n6. Charizard\\n7. Squirtle\\n8. Wartortle\\n9. Blastoise\\n10. Caterpie\\n11. Metapod\\n12. Butterfree\\n13. Weedle\\n14. Kakuna\\n15. Beedrill\\n16. Pidgey\\n17. Pidgeotto\\n18. Pidgeot\\n19. Rattata\\n20. Raticate\\n\\nFor each Pokémon, we will need the following stats:\\n- HP\\n- Attack\\n- Defense\\n- Special Attack\\n- Special Defense\\n- Speed\\n\\nPlease provide the stats for each of the first 20 Pokémon so we can create the table accordingly.\""
      ]
     },
     "execution_count": 72,
     "metadata": {},
     "output_type": "execute_result"
    }
   ],
   "source": [
    "interact(model, \n",
    "\"\"\"Create a resizable webpage table for my website with contents being the all of the first 20 pokemons on the pokedex \n",
    "and include all of their stats\"\"\")"
   ]
  },
  {
   "cell_type": "code",
   "execution_count": 73,
   "id": "21b2eb1b-2138-4f80-9395-5359853e4290",
   "metadata": {},
   "outputs": [
    {
     "data": {
      "text/html": [
       "<!DOCTYPE html>\n",
       "<html lang=\"en\">\n",
       "<head>\n",
       "<meta charset=\"UTF-8\">\n",
       "<meta name=\"viewport\" content=\"width=device-width, initial-scale=1.0\">\n",
       "<title>Pokémon Stats Table</title>\n",
       "<style>\n",
       "table {\n",
       "  width: 100%;\n",
       "  border-collapse: collapse;\n",
       "}\n",
       "\n",
       "table, th, td {\n",
       "  border: 1px solid black;\n",
       "}\n",
       "\n",
       "th, td {\n",
       "  padding: 8px;\n",
       "  text-align: left;\n",
       "}\n",
       "\n",
       "th {\n",
       "  background-color: #f2f2f2;\n",
       "}\n",
       "</style>\n",
       "</head>\n",
       "<body>\n",
       "\n",
       "<table>\n",
       "  <tr>\n",
       "    <th>Pokémon</th>\n",
       "    <th>HP</th>\n",
       "    <th>Attack</th>\n",
       "    <th>Defense</th>\n",
       "    <th>Special Attack</th>\n",
       "    <th>Special Defense</th>\n",
       "    <th>Speed</th>\n",
       "  </tr>\n",
       "  <tr>\n",
       "    <td>Bulbasaur</td>\n",
       "    <td>45</td>\n",
       "    <td>49</td>\n",
       "    <td>49</td>\n",
       "    <td>65</td>\n",
       "    <td>65</td>\n",
       "    <td>45</td>\n",
       "  </tr>\n",
       "  <tr>\n",
       "    <td>Ivysaur</td>\n",
       "    <td>60</td>\n",
       "    <td>62</td>\n",
       "    <td>63</td>\n",
       "    <td>80</td>\n",
       "    <td>80</td>\n",
       "    <td>60</td>\n",
       "  </tr>\n",
       "  <!-- Add the rest of the Pokémon here -->\n",
       "</table>\n",
       "\n",
       "</body>\n",
       "</html>"
      ],
      "text/plain": [
       "<IPython.core.display.HTML object>"
      ]
     },
     "metadata": {},
     "output_type": "display_data"
    },
    {
     "data": {
      "text/plain": [
       "'Understood! I will create a mockup of the resizable webpage table with the first 20 Pokémon from the Pokédex. Here is the HTML code for the table:\\n\\n\\n\\nPlease have a look at the mockup and let me know if you would like any changes or additions.'"
      ]
     },
     "execution_count": 73,
     "metadata": {},
     "output_type": "execute_result"
    }
   ],
   "source": [
    "interact(model, \"\"\"I don't know, find it yourself. I want a mock up of the table now\"\"\")"
   ]
  },
  {
   "cell_type": "code",
   "execution_count": 74,
   "id": "d52935fa-258c-4dd4-8dae-b2d085d704d4",
   "metadata": {},
   "outputs": [
    {
     "data": {
      "text/html": [
       "<!DOCTYPE html>\n",
       "<html lang=\"en\">\n",
       "<head>\n",
       "<meta charset=\"UTF-8\">\n",
       "<meta name=\"viewport\" content=\"width=device-width, initial-scale=1.0\">\n",
       "<title>Pokémon Stats Table</title>\n",
       "<style>\n",
       "body {\n",
       "  font-family: Arial, sans-serif;\n",
       "  background-color: #f0f0f0;\n",
       "  margin: 0;\n",
       "  padding: 0;\n",
       "}\n",
       "\n",
       ".container {\n",
       "  max-width: 800px;\n",
       "  margin: 20px auto;\n",
       "  background-color: #fff;\n",
       "  border-radius: 8px;\n",
       "  box-shadow: 0 2px 4px rgba(0, 0, 0, 0.1);\n",
       "  overflow: hidden;\n",
       "}\n",
       "\n",
       "table {\n",
       "  width: 100%;\n",
       "  border-collapse: collapse;\n",
       "}\n",
       "\n",
       "table th, table td {\n",
       "  padding: 12px;\n",
       "  text-align: center;\n",
       "}\n",
       "\n",
       "table th {\n",
       "  background-color: #f8f8f8;\n",
       "  font-weight: bold;\n",
       "}\n",
       "\n",
       "table td {\n",
       "  background-color: #fff;\n",
       "}\n",
       "\n",
       "table tr:nth-child(even) {\n",
       "  background-color: #f9f9f9;\n",
       "}\n",
       "</style>\n",
       "</head>\n",
       "<body>\n",
       "\n",
       "<div class=\"container\">\n",
       "  <table>\n",
       "    <tr>\n",
       "      <th>Pokémon</th>\n",
       "      <th>HP</th>\n",
       "      <th>Attack</th>\n",
       "      <th>Defense</th>\n",
       "      <th>Special Attack</th>\n",
       "      <th>Special Defense</th>\n",
       "      <th>Speed</th>\n",
       "    </tr>\n",
       "    <tr>\n",
       "      <td>Bulbasaur</td>\n",
       "      <td>45</td>\n",
       "      <td>49</td>\n",
       "      <td>49</td>\n",
       "      <td>65</td>\n",
       "      <td>65</td>\n",
       "      <td>45</td>\n",
       "    </tr>\n",
       "    <tr>\n",
       "      <td>Ivysaur</td>\n",
       "      <td>60</td>\n",
       "      <td>62</td>\n",
       "      <td>63</td>\n",
       "      <td>80</td>\n",
       "      <td>80</td>\n",
       "      <td>60</td>\n",
       "    </tr>\n",
       "    <!-- Add the rest of the Pokémon here -->\n",
       "  </table>\n",
       "</div>\n",
       "\n",
       "</body>\n",
       "</html>"
      ],
      "text/plain": [
       "<IPython.core.display.HTML object>"
      ]
     },
     "metadata": {},
     "output_type": "display_data"
    },
    {
     "data": {
      "text/plain": [
       "\"I understand your feedback. Let's make the table more visually appealing and user-friendly for a website. I will update the styling of the table to improve its appearance. Here is the revised HTML code with improved styling:\\n\\n\\n\\nI have updated the styling to make the table more visually appealing and user-friendly. Please review the changes and let me know if you have any further feedback or if you would like to add more features.\""
      ]
     },
     "execution_count": 74,
     "metadata": {},
     "output_type": "execute_result"
    }
   ],
   "source": [
    "interact(model, \"\"\"make the table friendly for a website, it is a long ugly table right now\"\"\")"
   ]
  },
  {
   "cell_type": "code",
   "execution_count": 75,
   "id": "53af695a-88cc-489b-bc02-35db22852834",
   "metadata": {},
   "outputs": [
    {
     "data": {
      "text/html": [
       "<!DOCTYPE html>\n",
       "<html lang=\"en\">\n",
       "<head>\n",
       "<meta charset=\"UTF-8\">\n",
       "<meta name=\"viewport\" content=\"width=device-width, initial-scale=1.0\">\n",
       "<title>Pokémon Stats Table</title>\n",
       "<style>\n",
       "body {\n",
       "  font-family: Arial, sans-serif;\n",
       "  background-color: #f0f0f0;\n",
       "  margin: 0;\n",
       "  padding: 0;\n",
       "}\n",
       "\n",
       ".container {\n",
       "  max-width: 800px;\n",
       "  margin: 20px auto;\n",
       "  background-color: #fff;\n",
       "  border-radius: 8px;\n",
       "  box-shadow: 0 2px 4px rgba(0, 0, 0, 0.1);\n",
       "  overflow: hidden;\n",
       "}\n",
       "\n",
       "table {\n",
       "  width: 100%;\n",
       "  border-collapse: collapse;\n",
       "}\n",
       "\n",
       "table th, table td {\n",
       "  padding: 12px;\n",
       "  text-align: center;\n",
       "  cursor: pointer;\n",
       "}\n",
       "\n",
       "table th {\n",
       "  background-color: #f8f8f8;\n",
       "  font-weight: bold;\n",
       "}\n",
       "\n",
       "table td {\n",
       "  background-color: #fff;\n",
       "}\n",
       "\n",
       "table tr:nth-child(even) {\n",
       "  background-color: #f9f9f9;\n",
       "}\n",
       "</style>\n",
       "<script>\n",
       "function sortTable(n) {\n",
       "  var table, rows, switching, i, x, y, shouldSwitch, dir, switchcount = 0;\n",
       "  table = document.querySelector(\"table\");\n",
       "  switching = true;\n",
       "  dir = \"asc\";\n",
       "  while (switching) {\n",
       "    switching = false;\n",
       "    rows = table.rows;\n",
       "    for (i = 1; i < (rows.length - 1); i++) {\n",
       "      shouldSwitch = false;\n",
       "      x = rows[i].getElementsByTagName(\"td\")[n];\n",
       "      y = rows[i + 1].getElementsByTagName(\"td\")[n];\n",
       "      if (dir == \"asc\") {\n",
       "        if (Number(x.innerHTML) > Number(y.innerHTML)) {\n",
       "          shouldSwitch = true;\n",
       "          break;\n",
       "        }\n",
       "      } else if (dir == \"desc\") {\n",
       "        if (Number(x.innerHTML) < Number(y.innerHTML)) {\n",
       "          shouldSwitch = true;\n",
       "          break;\n",
       "        }\n",
       "      }\n",
       "    }\n",
       "    if (shouldSwitch) {\n",
       "      rows[i].parentNode.insertBefore(rows[i + 1], rows[i]);\n",
       "      switching = true;\n",
       "      switchcount++;\n",
       "    } else {\n",
       "      if (switchcount == 0 && dir == \"asc\") {\n",
       "        dir = \"desc\";\n",
       "        switching = true;\n",
       "      }\n",
       "    }\n",
       "  }\n",
       "}\n",
       "</script>\n",
       "</head>\n",
       "<body>\n",
       "\n",
       "<div class=\"container\">\n",
       "  <table>\n",
       "    <tr>\n",
       "      <th onclick=\"sortTable(0)\">Pokémon</th>\n",
       "      <th onclick=\"sortTable(1)\">HP</th>\n",
       "      <th onclick=\"sortTable(2)\">Attack</th>\n",
       "      <th onclick=\"sortTable(3)\">Defense</th>\n",
       "      <th onclick=\"sortTable(4)\">Special Attack</th>\n",
       "      <th onclick=\"sortTable(5)\">Special Defense</th>\n",
       "      <th onclick=\"sortTable(6)\">Speed</th>\n",
       "    </tr>\n",
       "    <tr>\n",
       "      <td>Bulbasaur</td>\n",
       "      <td>45</td>\n",
       "      <td>49</td>\n",
       "      <td>49</td>\n",
       "      <td>65</td>\n",
       "      <td>65</td>\n",
       "      <td>45</td>\n",
       "    </tr>\n",
       "    <tr>\n",
       "      <td>Ivysaur</td>\n",
       "      <td>60</td>\n",
       "      <td>62</td>\n",
       "      <td>63</td>\n",
       "      <td>80</td>\n",
       "      <td>80</td>\n",
       "      <td>60</td>\n",
       "    </tr>\n",
       "    <!-- Add the rest of the Pokémon here -->\n",
       "  </table>\n",
       "</div>\n",
       "\n",
       "</body>\n",
       "</html>"
      ],
      "text/plain": [
       "<IPython.core.display.HTML object>"
      ]
     },
     "metadata": {},
     "output_type": "display_data"
    },
    {
     "data": {
      "text/plain": [
       "\"To further improve the table and make it more engaging for website visitors, we can add some interactive features such as sorting and filtering options. Let's enhance the table by adding sorting functionality to each column. Here is the updated HTML code with sorting functionality added:\\n\\n\\n\\nI have added a JavaScript function `sortTable()` that enables sorting when a column header is clicked. This will allow users to sort the Pokémon based on their stats. Please review the changes and let me know if you have any other suggestions or if you would like to add more features.\""
      ]
     },
     "execution_count": 75,
     "metadata": {},
     "output_type": "execute_result"
    }
   ],
   "source": [
    "interact(model, \"\"\"can you suggest ways to improve it? apply your suggestions to the table\"\"\")"
   ]
  },
  {
   "cell_type": "markdown",
   "id": "997f17d9-332c-43a4-9bb5-45c1b4605b54",
   "metadata": {},
   "source": [
    "## Testing Summary Memory"
   ]
  },
  {
   "cell_type": "code",
   "execution_count": 76,
   "id": "644d3a40-d3aa-42bd-99c6-9a8be506f447",
   "metadata": {},
   "outputs": [
    {
     "data": {
      "text/plain": [
       "'Sure, I can help you with that. Could you please provide me with the fields you would like to include in your personal portfolio form?'"
      ]
     },
     "execution_count": 76,
     "metadata": {},
     "output_type": "execute_result"
    }
   ],
   "source": [
    "sum_model = make_chat_summary_mem(system_v1_template, verbose_mode=False)\n",
    "interact(sum_model, \"Hi, make me a form for my personal portfolio\")"
   ]
  },
  {
   "cell_type": "code",
   "execution_count": 77,
   "id": "add7f0a9-f47c-43f0-bb3d-d85de7184683",
   "metadata": {},
   "outputs": [
    {
     "data": {
      "text/plain": [
       "'Great! I can create a form for your personal portfolio with fields for first name, last name, email address, and a message. \\nCould you please confirm if you would like any specific labels for these fields, or should I use the ones you provided?\\n\\nAlso, could you please specify the color theme you would like for the form?'"
      ]
     },
     "execution_count": 77,
     "metadata": {},
     "output_type": "execute_result"
    }
   ],
   "source": [
    "interact(sum_model, \"\"\"\n",
    "Ask the user for their first name, last name, email address and let them enter a message to be sent to me.\n",
    "The form should be resizable and needs to have a consistent color theme appropriate for business.\n",
    "\n",
    "\"\"\")"
   ]
  },
  {
   "cell_type": "code",
   "execution_count": 78,
   "id": "a689d443-545e-489b-aeaf-56896f44bf92",
   "metadata": {},
   "outputs": [
    {
     "data": {
      "text/plain": [
       "'Great choice! Could you please confirm the fields you would like to include in your personal portfolio form?'"
      ]
     },
     "execution_count": 78,
     "metadata": {},
     "output_type": "execute_result"
    }
   ],
   "source": [
    "interact(sum_model, \"\"\"any warm and light color will be great. use a gradient\"\"\")"
   ]
  },
  {
   "cell_type": "code",
   "execution_count": 79,
   "id": "1f8bc8d0-b41a-4907-8f61-918c77e20698",
   "metadata": {},
   "outputs": [
    {
     "data": {
      "text/html": [
       "<!DOCTYPE html>\n",
       "<html lang=\"en\">\n",
       "<head>\n",
       "<meta charset=\"UTF-8\">\n",
       "<meta name=\"viewport\" content=\"width=device-width, initial-scale=1.0\">\n",
       "<title>Personal Portfolio Form</title>\n",
       "<style>\n",
       "    body {\n",
       "        font-family: Arial, sans-serif;\n",
       "        background: linear-gradient(to right, #ff9966, #ffcc99);\n",
       "        margin: 0;\n",
       "        padding: 0;\n",
       "        display: flex;\n",
       "        justify-content: center;\n",
       "        align-items: center;\n",
       "        height: 100vh;\n",
       "    }\n",
       "    form {\n",
       "        background-color: white;\n",
       "        padding: 20px;\n",
       "        border-radius: 10px;\n",
       "        box-shadow: 0 4px 6px rgba(0, 0, 0, 0.1);\n",
       "        max-width: 400px;\n",
       "        width: 100%;\n",
       "    }\n",
       "    input[type=\"text\"], input[type=\"email\"], textarea {\n",
       "        width: 100%;\n",
       "        padding: 8px;\n",
       "        margin: 5px 0;\n",
       "        box-sizing: border-box;\n",
       "        border: 1px solid #ccc;\n",
       "        border-radius: 4px;\n",
       "    }\n",
       "    input[type=\"submit\"] {\n",
       "        background-color: #ff9966;\n",
       "        color: white;\n",
       "        padding: 10px 15px;\n",
       "        border: none;\n",
       "        border-radius: 5px;\n",
       "        cursor: pointer;\n",
       "    }\n",
       "    input[type=\"submit\"]:hover {\n",
       "        background-color: #ffcc99;\n",
       "    }\n",
       "</style>\n",
       "</head>\n",
       "<body>\n",
       "\n",
       "<form>\n",
       "    <label for=\"name\">Name:</label>\n",
       "    <input type=\"text\" id=\"name\" name=\"name\" required>\n",
       "\n",
       "    <label for=\"email\">Email:</label>\n",
       "    <input type=\"email\" id=\"email\" name=\"email\" required>\n",
       "\n",
       "    <label for=\"message\">Message:</label>\n",
       "    <textarea id=\"message\" name=\"message\" rows=\"4\" required></textarea>\n",
       "\n",
       "    <input type=\"submit\" value=\"Submit\">\n",
       "</form>\n",
       "\n",
       "</body>\n",
       "</html>"
      ],
      "text/plain": [
       "<IPython.core.display.HTML object>"
      ]
     },
     "metadata": {},
     "output_type": "display_data"
    },
    {
     "data": {
      "text/plain": [
       "'Great! I will create a personalized portfolio form for you with warm and light colors in a gradient design. \\n\\nHere is the HTML code for the form:\\n\\n\\n\\nPlease review the form and let me know if you would like any modifications.'"
      ]
     },
     "execution_count": 79,
     "metadata": {},
     "output_type": "execute_result"
    }
   ],
   "source": [
    "interact(sum_model, \"\"\"I have already mentioned them. I am ready to see the form\"\"\")"
   ]
  },
  {
   "cell_type": "code",
   "execution_count": null,
   "id": "f9d14b2b-9757-41b1-97f1-afbfbb18b366",
   "metadata": {},
   "outputs": [],
   "source": [
    "interact(sum_model, \"\"\"The form needs to be resizable and the submit button should take up the entire space on its row\"\"\")"
   ]
  },
  {
   "cell_type": "code",
   "execution_count": null,
   "id": "658ec78c-eecf-4576-bf85-baa6066112c1",
   "metadata": {},
   "outputs": [],
   "source": [
    "interact(sum_model, "
   ]
  }
 ],
 "metadata": {
  "kernelspec": {
   "display_name": "Python 3 (ipykernel)",
   "language": "python",
   "name": "python3"
  },
  "language_info": {
   "codemirror_mode": {
    "name": "ipython",
    "version": 3
   },
   "file_extension": ".py",
   "mimetype": "text/x-python",
   "name": "python",
   "nbconvert_exporter": "python",
   "pygments_lexer": "ipython3",
   "version": "3.11.4"
  }
 },
 "nbformat": 4,
 "nbformat_minor": 5
}
